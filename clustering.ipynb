{
 "cells": [
  {
   "cell_type": "markdown",
   "metadata": {},
   "source": [
    "## Data Wraggling"
   ]
  },
  {
   "cell_type": "code",
   "execution_count": 2,
   "metadata": {},
   "outputs": [],
   "source": [
    "import pandas as pd\n",
    "import numpy as np\n",
    "\n",
    "from pathlib import Path"
   ]
  },
  {
   "cell_type": "code",
   "execution_count": 3,
   "metadata": {},
   "outputs": [
    {
     "data": {
      "text/html": [
       "<div>\n",
       "<style scoped>\n",
       "    .dataframe tbody tr th:only-of-type {\n",
       "        vertical-align: middle;\n",
       "    }\n",
       "\n",
       "    .dataframe tbody tr th {\n",
       "        vertical-align: top;\n",
       "    }\n",
       "\n",
       "    .dataframe thead th {\n",
       "        text-align: right;\n",
       "    }\n",
       "</style>\n",
       "<table border=\"1\" class=\"dataframe\">\n",
       "  <thead>\n",
       "    <tr style=\"text-align: right;\">\n",
       "      <th></th>\n",
       "      <th>city</th>\n",
       "      <th>state</th>\n",
       "      <th>zip</th>\n",
       "      <th>region</th>\n",
       "      <th>gradeWalking</th>\n",
       "      <th>avgDaysOfEnjoyableWeather</th>\n",
       "      <th>avgInternetSpeed</th>\n",
       "      <th>avgPopulationDensity</th>\n",
       "      <th>percentDemocrat</th>\n",
       "      <th>percentGraduates</th>\n",
       "      <th>...</th>\n",
       "      <th>percentSingle</th>\n",
       "      <th>avgHomePrice</th>\n",
       "      <th>avgCostOfLiving</th>\n",
       "      <th>gradeAirQuality</th>\n",
       "      <th>gradeLowTraffic</th>\n",
       "      <th>gradeSafety</th>\n",
       "      <th>lat</th>\n",
       "      <th>lon</th>\n",
       "      <th>pizzaPlaceTotal</th>\n",
       "      <th>pizzaRatingAvg</th>\n",
       "    </tr>\n",
       "  </thead>\n",
       "  <tbody>\n",
       "    <tr>\n",
       "      <th>0</th>\n",
       "      <td>Honolulu</td>\n",
       "      <td>HI</td>\n",
       "      <td>96817</td>\n",
       "      <td>West</td>\n",
       "      <td>62.6</td>\n",
       "      <td>114</td>\n",
       "      <td>45</td>\n",
       "      <td>4419</td>\n",
       "      <td>0.69</td>\n",
       "      <td>0.31</td>\n",
       "      <td>...</td>\n",
       "      <td>0.50</td>\n",
       "      <td>500000</td>\n",
       "      <td>40079</td>\n",
       "      <td>5.25</td>\n",
       "      <td>2.75</td>\n",
       "      <td>3.00</td>\n",
       "      <td>21.306944</td>\n",
       "      <td>-157.858333</td>\n",
       "      <td>103</td>\n",
       "      <td>3.89</td>\n",
       "    </tr>\n",
       "    <tr>\n",
       "      <th>1</th>\n",
       "      <td>Homestead</td>\n",
       "      <td>FL</td>\n",
       "      <td>33033</td>\n",
       "      <td>South</td>\n",
       "      <td>35.0</td>\n",
       "      <td>68</td>\n",
       "      <td>36</td>\n",
       "      <td>413</td>\n",
       "      <td>0.62</td>\n",
       "      <td>0.17</td>\n",
       "      <td>...</td>\n",
       "      <td>0.59</td>\n",
       "      <td>202500</td>\n",
       "      <td>23702</td>\n",
       "      <td>4.75</td>\n",
       "      <td>1.00</td>\n",
       "      <td>1.00</td>\n",
       "      <td>25.468722</td>\n",
       "      <td>-80.477557</td>\n",
       "      <td>101</td>\n",
       "      <td>3.99</td>\n",
       "    </tr>\n",
       "    <tr>\n",
       "      <th>2</th>\n",
       "      <td>Miami</td>\n",
       "      <td>FL</td>\n",
       "      <td>33186</td>\n",
       "      <td>South</td>\n",
       "      <td>75.6</td>\n",
       "      <td>70</td>\n",
       "      <td>33</td>\n",
       "      <td>3486</td>\n",
       "      <td>0.62</td>\n",
       "      <td>0.23</td>\n",
       "      <td>...</td>\n",
       "      <td>0.64</td>\n",
       "      <td>270000</td>\n",
       "      <td>23702</td>\n",
       "      <td>4.75</td>\n",
       "      <td>1.75</td>\n",
       "      <td>1.00</td>\n",
       "      <td>25.761680</td>\n",
       "      <td>-80.191790</td>\n",
       "      <td>127</td>\n",
       "      <td>4.28</td>\n",
       "    </tr>\n",
       "    <tr>\n",
       "      <th>3</th>\n",
       "      <td>Miami Beach</td>\n",
       "      <td>FL</td>\n",
       "      <td>33139</td>\n",
       "      <td>South</td>\n",
       "      <td>71.0</td>\n",
       "      <td>70</td>\n",
       "      <td>29</td>\n",
       "      <td>10812</td>\n",
       "      <td>0.62</td>\n",
       "      <td>0.48</td>\n",
       "      <td>...</td>\n",
       "      <td>0.60</td>\n",
       "      <td>418500</td>\n",
       "      <td>23702</td>\n",
       "      <td>4.75</td>\n",
       "      <td>2.25</td>\n",
       "      <td>1.00</td>\n",
       "      <td>25.790654</td>\n",
       "      <td>-80.130045</td>\n",
       "      <td>137</td>\n",
       "      <td>4.16</td>\n",
       "    </tr>\n",
       "    <tr>\n",
       "      <th>4</th>\n",
       "      <td>Hialeah</td>\n",
       "      <td>FL</td>\n",
       "      <td>33012</td>\n",
       "      <td>South</td>\n",
       "      <td>65.2</td>\n",
       "      <td>70</td>\n",
       "      <td>30</td>\n",
       "      <td>6984</td>\n",
       "      <td>0.62</td>\n",
       "      <td>0.15</td>\n",
       "      <td>...</td>\n",
       "      <td>0.57</td>\n",
       "      <td>225000</td>\n",
       "      <td>23702</td>\n",
       "      <td>4.75</td>\n",
       "      <td>2.25</td>\n",
       "      <td>3.25</td>\n",
       "      <td>25.857596</td>\n",
       "      <td>-80.278106</td>\n",
       "      <td>155</td>\n",
       "      <td>4.28</td>\n",
       "    </tr>\n",
       "    <tr>\n",
       "      <th>...</th>\n",
       "      <td>...</td>\n",
       "      <td>...</td>\n",
       "      <td>...</td>\n",
       "      <td>...</td>\n",
       "      <td>...</td>\n",
       "      <td>...</td>\n",
       "      <td>...</td>\n",
       "      <td>...</td>\n",
       "      <td>...</td>\n",
       "      <td>...</td>\n",
       "      <td>...</td>\n",
       "      <td>...</td>\n",
       "      <td>...</td>\n",
       "      <td>...</td>\n",
       "      <td>...</td>\n",
       "      <td>...</td>\n",
       "      <td>...</td>\n",
       "      <td>...</td>\n",
       "      <td>...</td>\n",
       "      <td>...</td>\n",
       "      <td>...</td>\n",
       "    </tr>\n",
       "    <tr>\n",
       "      <th>481</th>\n",
       "      <td>Bothell</td>\n",
       "      <td>WA</td>\n",
       "      <td>98012</td>\n",
       "      <td>West</td>\n",
       "      <td>28.0</td>\n",
       "      <td>83</td>\n",
       "      <td>43</td>\n",
       "      <td>3182</td>\n",
       "      <td>0.69</td>\n",
       "      <td>0.42</td>\n",
       "      <td>...</td>\n",
       "      <td>0.45</td>\n",
       "      <td>518000</td>\n",
       "      <td>23576</td>\n",
       "      <td>5.00</td>\n",
       "      <td>1.75</td>\n",
       "      <td>3.75</td>\n",
       "      <td>47.760111</td>\n",
       "      <td>-122.205445</td>\n",
       "      <td>148</td>\n",
       "      <td>4.32</td>\n",
       "    </tr>\n",
       "    <tr>\n",
       "      <th>482</th>\n",
       "      <td>Lynnwood</td>\n",
       "      <td>WA</td>\n",
       "      <td>98036</td>\n",
       "      <td>West</td>\n",
       "      <td>47.0</td>\n",
       "      <td>83</td>\n",
       "      <td>43</td>\n",
       "      <td>4419</td>\n",
       "      <td>0.57</td>\n",
       "      <td>0.29</td>\n",
       "      <td>...</td>\n",
       "      <td>0.56</td>\n",
       "      <td>395000</td>\n",
       "      <td>23576</td>\n",
       "      <td>5.00</td>\n",
       "      <td>1.00</td>\n",
       "      <td>1.00</td>\n",
       "      <td>47.820930</td>\n",
       "      <td>-122.315131</td>\n",
       "      <td>145</td>\n",
       "      <td>4.22</td>\n",
       "    </tr>\n",
       "    <tr>\n",
       "      <th>483</th>\n",
       "      <td>Everett</td>\n",
       "      <td>WA</td>\n",
       "      <td>98208</td>\n",
       "      <td>West</td>\n",
       "      <td>45.0</td>\n",
       "      <td>70</td>\n",
       "      <td>41</td>\n",
       "      <td>2732</td>\n",
       "      <td>0.57</td>\n",
       "      <td>0.19</td>\n",
       "      <td>...</td>\n",
       "      <td>0.58</td>\n",
       "      <td>325000</td>\n",
       "      <td>23492</td>\n",
       "      <td>5.00</td>\n",
       "      <td>2.25</td>\n",
       "      <td>1.00</td>\n",
       "      <td>47.978985</td>\n",
       "      <td>-122.202079</td>\n",
       "      <td>119</td>\n",
       "      <td>4.10</td>\n",
       "    </tr>\n",
       "    <tr>\n",
       "      <th>484</th>\n",
       "      <td>Bellingham</td>\n",
       "      <td>WA</td>\n",
       "      <td>98225</td>\n",
       "      <td>West</td>\n",
       "      <td>44.0</td>\n",
       "      <td>71</td>\n",
       "      <td>46</td>\n",
       "      <td>697</td>\n",
       "      <td>0.55</td>\n",
       "      <td>0.36</td>\n",
       "      <td>...</td>\n",
       "      <td>0.61</td>\n",
       "      <td>333751</td>\n",
       "      <td>23850</td>\n",
       "      <td>5.25</td>\n",
       "      <td>5.25</td>\n",
       "      <td>3.00</td>\n",
       "      <td>48.751911</td>\n",
       "      <td>-122.478685</td>\n",
       "      <td>84</td>\n",
       "      <td>4.18</td>\n",
       "    </tr>\n",
       "    <tr>\n",
       "      <th>485</th>\n",
       "      <td>Anchorage</td>\n",
       "      <td>AK</td>\n",
       "      <td>99504</td>\n",
       "      <td>West</td>\n",
       "      <td>32.2</td>\n",
       "      <td>78</td>\n",
       "      <td>20</td>\n",
       "      <td>17</td>\n",
       "      <td>0.41</td>\n",
       "      <td>0.34</td>\n",
       "      <td>...</td>\n",
       "      <td>0.53</td>\n",
       "      <td>309000</td>\n",
       "      <td>27975</td>\n",
       "      <td>5.25</td>\n",
       "      <td>4.00</td>\n",
       "      <td>2.00</td>\n",
       "      <td>61.218056</td>\n",
       "      <td>-149.900278</td>\n",
       "      <td>79</td>\n",
       "      <td>4.05</td>\n",
       "    </tr>\n",
       "  </tbody>\n",
       "</table>\n",
       "<p>486 rows × 24 columns</p>\n",
       "</div>"
      ],
      "text/plain": [
       "            city state    zip region  gradeWalking  avgDaysOfEnjoyableWeather  \\\n",
       "0       Honolulu    HI  96817   West          62.6                        114   \n",
       "1      Homestead    FL  33033  South          35.0                         68   \n",
       "2          Miami    FL  33186  South          75.6                         70   \n",
       "3    Miami Beach    FL  33139  South          71.0                         70   \n",
       "4        Hialeah    FL  33012  South          65.2                         70   \n",
       "..           ...   ...    ...    ...           ...                        ...   \n",
       "481      Bothell    WA  98012   West          28.0                         83   \n",
       "482     Lynnwood    WA  98036   West          47.0                         83   \n",
       "483      Everett    WA  98208   West          45.0                         70   \n",
       "484   Bellingham    WA  98225   West          44.0                         71   \n",
       "485    Anchorage    AK  99504   West          32.2                         78   \n",
       "\n",
       "     avgInternetSpeed  avgPopulationDensity  percentDemocrat  \\\n",
       "0                  45                  4419             0.69   \n",
       "1                  36                   413             0.62   \n",
       "2                  33                  3486             0.62   \n",
       "3                  29                 10812             0.62   \n",
       "4                  30                  6984             0.62   \n",
       "..                ...                   ...              ...   \n",
       "481                43                  3182             0.69   \n",
       "482                43                  4419             0.57   \n",
       "483                41                  2732             0.57   \n",
       "484                46                   697             0.55   \n",
       "485                20                    17             0.41   \n",
       "\n",
       "     percentGraduates  ...  percentSingle  avgHomePrice  avgCostOfLiving  \\\n",
       "0                0.31  ...           0.50        500000            40079   \n",
       "1                0.17  ...           0.59        202500            23702   \n",
       "2                0.23  ...           0.64        270000            23702   \n",
       "3                0.48  ...           0.60        418500            23702   \n",
       "4                0.15  ...           0.57        225000            23702   \n",
       "..                ...  ...            ...           ...              ...   \n",
       "481              0.42  ...           0.45        518000            23576   \n",
       "482              0.29  ...           0.56        395000            23576   \n",
       "483              0.19  ...           0.58        325000            23492   \n",
       "484              0.36  ...           0.61        333751            23850   \n",
       "485              0.34  ...           0.53        309000            27975   \n",
       "\n",
       "     gradeAirQuality  gradeLowTraffic  gradeSafety        lat         lon  \\\n",
       "0               5.25             2.75         3.00  21.306944 -157.858333   \n",
       "1               4.75             1.00         1.00  25.468722  -80.477557   \n",
       "2               4.75             1.75         1.00  25.761680  -80.191790   \n",
       "3               4.75             2.25         1.00  25.790654  -80.130045   \n",
       "4               4.75             2.25         3.25  25.857596  -80.278106   \n",
       "..               ...              ...          ...        ...         ...   \n",
       "481             5.00             1.75         3.75  47.760111 -122.205445   \n",
       "482             5.00             1.00         1.00  47.820930 -122.315131   \n",
       "483             5.00             2.25         1.00  47.978985 -122.202079   \n",
       "484             5.25             5.25         3.00  48.751911 -122.478685   \n",
       "485             5.25             4.00         2.00  61.218056 -149.900278   \n",
       "\n",
       "     pizzaPlaceTotal  pizzaRatingAvg  \n",
       "0                103            3.89  \n",
       "1                101            3.99  \n",
       "2                127            4.28  \n",
       "3                137            4.16  \n",
       "4                155            4.28  \n",
       "..               ...             ...  \n",
       "481              148            4.32  \n",
       "482              145            4.22  \n",
       "483              119            4.10  \n",
       "484               84            4.18  \n",
       "485               79            4.05  \n",
       "\n",
       "[486 rows x 24 columns]"
      ]
     },
     "execution_count": 3,
     "metadata": {},
     "output_type": "execute_result"
    }
   ],
   "source": [
    "OUTPUT_FOLDER = Path(\"output\")\n",
    "data_df = pd.read_csv(OUTPUT_FOLDER / \"data.csv\")\n",
    "data_df = data_df.iloc[:, 2:]\n",
    "data_df"
   ]
  },
  {
   "cell_type": "code",
   "execution_count": 4,
   "metadata": {},
   "outputs": [
    {
     "data": {
      "text/html": [
       "<div>\n",
       "<style scoped>\n",
       "    .dataframe tbody tr th:only-of-type {\n",
       "        vertical-align: middle;\n",
       "    }\n",
       "\n",
       "    .dataframe tbody tr th {\n",
       "        vertical-align: top;\n",
       "    }\n",
       "\n",
       "    .dataframe thead th {\n",
       "        text-align: right;\n",
       "    }\n",
       "</style>\n",
       "<table border=\"1\" class=\"dataframe\">\n",
       "  <thead>\n",
       "    <tr style=\"text-align: right;\">\n",
       "      <th></th>\n",
       "      <th>city</th>\n",
       "      <th>state</th>\n",
       "      <th>zip</th>\n",
       "      <th>region</th>\n",
       "      <th>gradeWalking</th>\n",
       "      <th>avgDaysOfEnjoyableWeather</th>\n",
       "      <th>avgInternetSpeed</th>\n",
       "      <th>avgPopulationDensity</th>\n",
       "      <th>percentDemocrat</th>\n",
       "      <th>percentGraduates</th>\n",
       "      <th>...</th>\n",
       "      <th>percentSingle</th>\n",
       "      <th>avgHomePrice</th>\n",
       "      <th>avgCostOfLiving</th>\n",
       "      <th>gradeAirQuality</th>\n",
       "      <th>gradeLowTraffic</th>\n",
       "      <th>gradeSafety</th>\n",
       "      <th>lat</th>\n",
       "      <th>lon</th>\n",
       "      <th>pizzaPlaceTotal</th>\n",
       "      <th>pizzaRatingAvg</th>\n",
       "    </tr>\n",
       "  </thead>\n",
       "  <tbody>\n",
       "    <tr>\n",
       "      <th>0</th>\n",
       "      <td>Honolulu</td>\n",
       "      <td>HI</td>\n",
       "      <td>96817</td>\n",
       "      <td>West</td>\n",
       "      <td>0.604598</td>\n",
       "      <td>0.576687</td>\n",
       "      <td>0.224490</td>\n",
       "      <td>0.059699</td>\n",
       "      <td>0.710843</td>\n",
       "      <td>0.356164</td>\n",
       "      <td>...</td>\n",
       "      <td>0.377778</td>\n",
       "      <td>0.219924</td>\n",
       "      <td>0.772683</td>\n",
       "      <td>1.000000</td>\n",
       "      <td>0.411765</td>\n",
       "      <td>0.470588</td>\n",
       "      <td>21.306944</td>\n",
       "      <td>-157.858333</td>\n",
       "      <td>103</td>\n",
       "      <td>3.89</td>\n",
       "    </tr>\n",
       "    <tr>\n",
       "      <th>1</th>\n",
       "      <td>Homestead</td>\n",
       "      <td>FL</td>\n",
       "      <td>33033</td>\n",
       "      <td>South</td>\n",
       "      <td>0.287356</td>\n",
       "      <td>0.294479</td>\n",
       "      <td>0.163265</td>\n",
       "      <td>0.005370</td>\n",
       "      <td>0.626506</td>\n",
       "      <td>0.164384</td>\n",
       "      <td>...</td>\n",
       "      <td>0.577778</td>\n",
       "      <td>0.082399</td>\n",
       "      <td>0.241617</td>\n",
       "      <td>0.882353</td>\n",
       "      <td>0.000000</td>\n",
       "      <td>0.000000</td>\n",
       "      <td>25.468722</td>\n",
       "      <td>-80.477557</td>\n",
       "      <td>101</td>\n",
       "      <td>3.99</td>\n",
       "    </tr>\n",
       "    <tr>\n",
       "      <th>2</th>\n",
       "      <td>Miami</td>\n",
       "      <td>FL</td>\n",
       "      <td>33186</td>\n",
       "      <td>South</td>\n",
       "      <td>0.754023</td>\n",
       "      <td>0.306748</td>\n",
       "      <td>0.142857</td>\n",
       "      <td>0.047046</td>\n",
       "      <td>0.626506</td>\n",
       "      <td>0.246575</td>\n",
       "      <td>...</td>\n",
       "      <td>0.688889</td>\n",
       "      <td>0.113602</td>\n",
       "      <td>0.241617</td>\n",
       "      <td>0.882353</td>\n",
       "      <td>0.176471</td>\n",
       "      <td>0.000000</td>\n",
       "      <td>25.761680</td>\n",
       "      <td>-80.191790</td>\n",
       "      <td>127</td>\n",
       "      <td>4.28</td>\n",
       "    </tr>\n",
       "    <tr>\n",
       "      <th>3</th>\n",
       "      <td>Miami Beach</td>\n",
       "      <td>FL</td>\n",
       "      <td>33139</td>\n",
       "      <td>South</td>\n",
       "      <td>0.701149</td>\n",
       "      <td>0.306748</td>\n",
       "      <td>0.115646</td>\n",
       "      <td>0.146399</td>\n",
       "      <td>0.626506</td>\n",
       "      <td>0.589041</td>\n",
       "      <td>...</td>\n",
       "      <td>0.600000</td>\n",
       "      <td>0.182249</td>\n",
       "      <td>0.241617</td>\n",
       "      <td>0.882353</td>\n",
       "      <td>0.294118</td>\n",
       "      <td>0.000000</td>\n",
       "      <td>25.790654</td>\n",
       "      <td>-80.130045</td>\n",
       "      <td>137</td>\n",
       "      <td>4.16</td>\n",
       "    </tr>\n",
       "    <tr>\n",
       "      <th>4</th>\n",
       "      <td>Hialeah</td>\n",
       "      <td>FL</td>\n",
       "      <td>33012</td>\n",
       "      <td>South</td>\n",
       "      <td>0.634483</td>\n",
       "      <td>0.306748</td>\n",
       "      <td>0.122449</td>\n",
       "      <td>0.094484</td>\n",
       "      <td>0.626506</td>\n",
       "      <td>0.136986</td>\n",
       "      <td>...</td>\n",
       "      <td>0.533333</td>\n",
       "      <td>0.092800</td>\n",
       "      <td>0.241617</td>\n",
       "      <td>0.882353</td>\n",
       "      <td>0.294118</td>\n",
       "      <td>0.529412</td>\n",
       "      <td>25.857596</td>\n",
       "      <td>-80.278106</td>\n",
       "      <td>155</td>\n",
       "      <td>4.28</td>\n",
       "    </tr>\n",
       "    <tr>\n",
       "      <th>...</th>\n",
       "      <td>...</td>\n",
       "      <td>...</td>\n",
       "      <td>...</td>\n",
       "      <td>...</td>\n",
       "      <td>...</td>\n",
       "      <td>...</td>\n",
       "      <td>...</td>\n",
       "      <td>...</td>\n",
       "      <td>...</td>\n",
       "      <td>...</td>\n",
       "      <td>...</td>\n",
       "      <td>...</td>\n",
       "      <td>...</td>\n",
       "      <td>...</td>\n",
       "      <td>...</td>\n",
       "      <td>...</td>\n",
       "      <td>...</td>\n",
       "      <td>...</td>\n",
       "      <td>...</td>\n",
       "      <td>...</td>\n",
       "      <td>...</td>\n",
       "    </tr>\n",
       "    <tr>\n",
       "      <th>481</th>\n",
       "      <td>Bothell</td>\n",
       "      <td>WA</td>\n",
       "      <td>98012</td>\n",
       "      <td>West</td>\n",
       "      <td>0.206897</td>\n",
       "      <td>0.386503</td>\n",
       "      <td>0.210884</td>\n",
       "      <td>0.042923</td>\n",
       "      <td>0.710843</td>\n",
       "      <td>0.506849</td>\n",
       "      <td>...</td>\n",
       "      <td>0.266667</td>\n",
       "      <td>0.228245</td>\n",
       "      <td>0.237532</td>\n",
       "      <td>0.941176</td>\n",
       "      <td>0.176471</td>\n",
       "      <td>0.647059</td>\n",
       "      <td>47.760111</td>\n",
       "      <td>-122.205445</td>\n",
       "      <td>148</td>\n",
       "      <td>4.32</td>\n",
       "    </tr>\n",
       "    <tr>\n",
       "      <th>482</th>\n",
       "      <td>Lynnwood</td>\n",
       "      <td>WA</td>\n",
       "      <td>98036</td>\n",
       "      <td>West</td>\n",
       "      <td>0.425287</td>\n",
       "      <td>0.386503</td>\n",
       "      <td>0.210884</td>\n",
       "      <td>0.059699</td>\n",
       "      <td>0.566265</td>\n",
       "      <td>0.328767</td>\n",
       "      <td>...</td>\n",
       "      <td>0.511111</td>\n",
       "      <td>0.171386</td>\n",
       "      <td>0.237532</td>\n",
       "      <td>0.941176</td>\n",
       "      <td>0.000000</td>\n",
       "      <td>0.000000</td>\n",
       "      <td>47.820930</td>\n",
       "      <td>-122.315131</td>\n",
       "      <td>145</td>\n",
       "      <td>4.22</td>\n",
       "    </tr>\n",
       "    <tr>\n",
       "      <th>483</th>\n",
       "      <td>Everett</td>\n",
       "      <td>WA</td>\n",
       "      <td>98208</td>\n",
       "      <td>West</td>\n",
       "      <td>0.402299</td>\n",
       "      <td>0.306748</td>\n",
       "      <td>0.197279</td>\n",
       "      <td>0.036820</td>\n",
       "      <td>0.566265</td>\n",
       "      <td>0.191781</td>\n",
       "      <td>...</td>\n",
       "      <td>0.555556</td>\n",
       "      <td>0.139027</td>\n",
       "      <td>0.234808</td>\n",
       "      <td>0.941176</td>\n",
       "      <td>0.294118</td>\n",
       "      <td>0.000000</td>\n",
       "      <td>47.978985</td>\n",
       "      <td>-122.202079</td>\n",
       "      <td>119</td>\n",
       "      <td>4.10</td>\n",
       "    </tr>\n",
       "    <tr>\n",
       "      <th>484</th>\n",
       "      <td>Bellingham</td>\n",
       "      <td>WA</td>\n",
       "      <td>98225</td>\n",
       "      <td>West</td>\n",
       "      <td>0.390805</td>\n",
       "      <td>0.312883</td>\n",
       "      <td>0.231293</td>\n",
       "      <td>0.009222</td>\n",
       "      <td>0.542169</td>\n",
       "      <td>0.424658</td>\n",
       "      <td>...</td>\n",
       "      <td>0.622222</td>\n",
       "      <td>0.143072</td>\n",
       "      <td>0.246417</td>\n",
       "      <td>1.000000</td>\n",
       "      <td>1.000000</td>\n",
       "      <td>0.470588</td>\n",
       "      <td>48.751911</td>\n",
       "      <td>-122.478685</td>\n",
       "      <td>84</td>\n",
       "      <td>4.18</td>\n",
       "    </tr>\n",
       "    <tr>\n",
       "      <th>485</th>\n",
       "      <td>Anchorage</td>\n",
       "      <td>AK</td>\n",
       "      <td>99504</td>\n",
       "      <td>West</td>\n",
       "      <td>0.255172</td>\n",
       "      <td>0.355828</td>\n",
       "      <td>0.054422</td>\n",
       "      <td>0.000000</td>\n",
       "      <td>0.373494</td>\n",
       "      <td>0.397260</td>\n",
       "      <td>...</td>\n",
       "      <td>0.444444</td>\n",
       "      <td>0.131631</td>\n",
       "      <td>0.380180</td>\n",
       "      <td>1.000000</td>\n",
       "      <td>0.705882</td>\n",
       "      <td>0.235294</td>\n",
       "      <td>61.218056</td>\n",
       "      <td>-149.900278</td>\n",
       "      <td>79</td>\n",
       "      <td>4.05</td>\n",
       "    </tr>\n",
       "  </tbody>\n",
       "</table>\n",
       "<p>486 rows × 24 columns</p>\n",
       "</div>"
      ],
      "text/plain": [
       "            city state    zip region  gradeWalking  avgDaysOfEnjoyableWeather  \\\n",
       "0       Honolulu    HI  96817   West      0.604598                   0.576687   \n",
       "1      Homestead    FL  33033  South      0.287356                   0.294479   \n",
       "2          Miami    FL  33186  South      0.754023                   0.306748   \n",
       "3    Miami Beach    FL  33139  South      0.701149                   0.306748   \n",
       "4        Hialeah    FL  33012  South      0.634483                   0.306748   \n",
       "..           ...   ...    ...    ...           ...                        ...   \n",
       "481      Bothell    WA  98012   West      0.206897                   0.386503   \n",
       "482     Lynnwood    WA  98036   West      0.425287                   0.386503   \n",
       "483      Everett    WA  98208   West      0.402299                   0.306748   \n",
       "484   Bellingham    WA  98225   West      0.390805                   0.312883   \n",
       "485    Anchorage    AK  99504   West      0.255172                   0.355828   \n",
       "\n",
       "     avgInternetSpeed  avgPopulationDensity  percentDemocrat  \\\n",
       "0            0.224490              0.059699         0.710843   \n",
       "1            0.163265              0.005370         0.626506   \n",
       "2            0.142857              0.047046         0.626506   \n",
       "3            0.115646              0.146399         0.626506   \n",
       "4            0.122449              0.094484         0.626506   \n",
       "..                ...                   ...              ...   \n",
       "481          0.210884              0.042923         0.710843   \n",
       "482          0.210884              0.059699         0.566265   \n",
       "483          0.197279              0.036820         0.566265   \n",
       "484          0.231293              0.009222         0.542169   \n",
       "485          0.054422              0.000000         0.373494   \n",
       "\n",
       "     percentGraduates  ...  percentSingle  avgHomePrice  avgCostOfLiving  \\\n",
       "0            0.356164  ...       0.377778      0.219924         0.772683   \n",
       "1            0.164384  ...       0.577778      0.082399         0.241617   \n",
       "2            0.246575  ...       0.688889      0.113602         0.241617   \n",
       "3            0.589041  ...       0.600000      0.182249         0.241617   \n",
       "4            0.136986  ...       0.533333      0.092800         0.241617   \n",
       "..                ...  ...            ...           ...              ...   \n",
       "481          0.506849  ...       0.266667      0.228245         0.237532   \n",
       "482          0.328767  ...       0.511111      0.171386         0.237532   \n",
       "483          0.191781  ...       0.555556      0.139027         0.234808   \n",
       "484          0.424658  ...       0.622222      0.143072         0.246417   \n",
       "485          0.397260  ...       0.444444      0.131631         0.380180   \n",
       "\n",
       "     gradeAirQuality  gradeLowTraffic  gradeSafety        lat         lon  \\\n",
       "0           1.000000         0.411765     0.470588  21.306944 -157.858333   \n",
       "1           0.882353         0.000000     0.000000  25.468722  -80.477557   \n",
       "2           0.882353         0.176471     0.000000  25.761680  -80.191790   \n",
       "3           0.882353         0.294118     0.000000  25.790654  -80.130045   \n",
       "4           0.882353         0.294118     0.529412  25.857596  -80.278106   \n",
       "..               ...              ...          ...        ...         ...   \n",
       "481         0.941176         0.176471     0.647059  47.760111 -122.205445   \n",
       "482         0.941176         0.000000     0.000000  47.820930 -122.315131   \n",
       "483         0.941176         0.294118     0.000000  47.978985 -122.202079   \n",
       "484         1.000000         1.000000     0.470588  48.751911 -122.478685   \n",
       "485         1.000000         0.705882     0.235294  61.218056 -149.900278   \n",
       "\n",
       "     pizzaPlaceTotal  pizzaRatingAvg  \n",
       "0                103            3.89  \n",
       "1                101            3.99  \n",
       "2                127            4.28  \n",
       "3                137            4.16  \n",
       "4                155            4.28  \n",
       "..               ...             ...  \n",
       "481              148            4.32  \n",
       "482              145            4.22  \n",
       "483              119            4.10  \n",
       "484               84            4.18  \n",
       "485               79            4.05  \n",
       "\n",
       "[486 rows x 24 columns]"
      ]
     },
     "execution_count": 4,
     "metadata": {},
     "output_type": "execute_result"
    }
   ],
   "source": [
    "from sklearn.preprocessing import MinMaxScaler\n",
    "scaler = MinMaxScaler()\n",
    "X = [[*row.to_numpy()]  for i, row in data_df.iloc[:,4:-4].iterrows()]\n",
    "V = scaler.fit_transform(X)\n",
    "data_df.iloc[:,4:-4] = V\n",
    "data_df"
   ]
  },
  {
   "cell_type": "markdown",
   "metadata": {},
   "source": [
    "----"
   ]
  },
  {
   "cell_type": "code",
   "execution_count": 90,
   "metadata": {},
   "outputs": [],
   "source": [
    "from sklearn.cluster import KMeans\n",
    "X = [[*row.to_numpy()]  for i, row in data_df[[\"percentDemocrat\", \"percentGraduates\", \"avgCostOfLiving\"]].iterrows()]\n",
    "clustering = KMeans(\n",
    "    n_clusters=3,\n",
    "    random_state=0).fit(X)"
   ]
  },
  {
   "cell_type": "code",
   "execution_count": 91,
   "metadata": {},
   "outputs": [],
   "source": [
    "data_df[\"group\"] = data_df[[\"percentDemocrat\", \"percentGraduates\", \"avgCostOfLiving\"]].apply(lambda x: clustering.predict([list(x)])[0], axis=1)\n",
    "data_df.to_csv(OUTPUT_FOLDER / \"standardized.csv\")"
   ]
  },
  {
   "cell_type": "code",
   "execution_count": 92,
   "metadata": {},
   "outputs": [
    {
     "data": {
      "image/png": "[encoded data removed]",
      "text/plain": [
       "<Figure size 432x288 with 1 Axes>"
      ]
     },
     "metadata": {
      "needs_background": "light"
     },
     "output_type": "display_data"
    }
   ],
   "source": [
    "import matplotlib.pyplot as plt\n",
    "z = data_df[data_df[\"group\"] == 2]\n",
    "plt.scatter(z[\"lon\"], z[\"lat\"] , c=z[\"group\"])\n",
    "plt.show()"
   ]
  },
  {
   "cell_type": "code",
   "execution_count": 93,
   "metadata": {},
   "outputs": [
    {
     "data": {
      "application/vnd.plotly.v1+json": {
       "config": {
        "plotlyServerURL": "https://plot.ly"
       },
       "data": [
        {
         "hovertemplate": "democrat=%{x}<br>graduate=%{y}<br>livingCost=%{z}<br>group=%{marker.color}<extra></extra>",
         "legendgroup": "",
         "marker": {
          "color": [
           0,
           0,
           0,
           1,
           0,
           2,
           0,
           0,
           0,
           0,
           1,
           2,
           2,
           2,
           1,
           2,
           1,
           2,
           2,
           2,
           2,
           2,
           2,
           2,
           2,
           0,
           2,
           2,
           2,
           2,
           2,
           2,
           2,
           2,
           2,
           2,
           0,
           2,
           2,
           2,
           2,
           2,
           2,
           2,
           2,
           2,
           1,
           1,
           1,
           2,
           2,
           2,
           2,
           2,
           1,
           2,
           2,
           2,
           2,
           2,
           2,
           2,
           1,
           2,
           2,
           2,
           1,
           2,
           2,
           1,
           2,
           2,
           2,
           2,
           2,
           2,
           2,
           2,
           2,
           2,
           2,
           2,
           2,
           2,
           2,
           2,
           2,
           2,
           2,
           2,
           0,
           2,
           1,
           2,
           2,
           2,
           2,
           1,
           2,
           0,
           2,
           2,
           2,
           2,
           1,
           1,
           2,
           2,
           1,
           2,
           1,
           0,
           1,
           1,
           0,
           2,
           2,
           2,
           2,
           2,
           2,
           2,
           2,
           2,
           2,
           0,
           1,
           2,
           0,
           0,
           2,
           2,
           1,
           2,
           1,
           0,
           1,
           2,
           0,
           0,
           0,
           1,
           2,
           0,
           0,
           2,
           1,
           2,
           0,
           1,
           0,
           0,
           2,
           0,
           0,
           2,
           0,
           0,
           2,
           0,
           1,
           2,
           0,
           2,
           0,
           0,
           0,
           2,
           2,
           1,
           2,
           1,
           0,
           1,
           2,
           0,
           0,
           0,
           0,
           0,
           1,
           2,
           2,
           2,
           0,
           0,
           1,
           1,
           0,
           2,
           2,
           2,
           0,
           0,
           2,
           0,
           1,
           2,
           2,
           2,
           0,
           2,
           0,
           2,
           1,
           2,
           2,
           2,
           0,
           2,
           2,
           2,
           2,
           2,
           2,
           2,
           1,
           2,
           2,
           2,
           2,
           2,
           1,
           2,
           1,
           1,
           1,
           1,
           2,
           1,
           1,
           2,
           2,
           1,
           2,
           2,
           2,
           2,
           2,
           2,
           2,
           2,
           2,
           0,
           2,
           2,
           2,
           2,
           0,
           0,
           0,
           2,
           0,
           2,
           1,
           0,
           2,
           2,
           2,
           0,
           0,
           1,
           1,
           2,
           1,
           0,
           1,
           1,
           1,
           0,
           0,
           2,
           0,
           0,
           0,
           1,
           0,
           1,
           2,
           2,
           2,
           2,
           0,
           1,
           2,
           2,
           0,
           2,
           2,
           0,
           0,
           2,
           0,
           0,
           0,
           0,
           1,
           0,
           0,
           2,
           2,
           2,
           1,
           2,
           1,
           1,
           2,
           1,
           1,
           1,
           1,
           0,
           1,
           1,
           1,
           1,
           2,
           2,
           1,
           2,
           0,
           2,
           2,
           2,
           1,
           0,
           2,
           0,
           2,
           2,
           2,
           1,
           2,
           1,
           2,
           0,
           2,
           1,
           0,
           2,
           2,
           2,
           2,
           1,
           2,
           1,
           2,
           0,
           2,
           1,
           2,
           2,
           1,
           2,
           2,
           1,
           2,
           0,
           2,
           2,
           2,
           2,
           2,
           1,
           1,
           1,
           2,
           1,
           0,
           2,
           2,
           0,
           0,
           2,
           0,
           1,
           0,
           2,
           2,
           2,
           2,
           0,
           0,
           0,
           1,
           2,
           2,
           2,
           0,
           2,
           2,
           0,
           2,
           0,
           2,
           2,
           0,
           2,
           1,
           0,
           2,
           2,
           2,
           1,
           2,
           0,
           0,
           0,
           2,
           2,
           0,
           2,
           2,
           2,
           2,
           2,
           0,
           2,
           1,
           2,
           2,
           0,
           0,
           1,
           2,
           1,
           1,
           2,
           2,
           2,
           2,
           0,
           1,
           1,
           2,
           2,
           0,
           2,
           2,
           0,
           2,
           2,
           0,
           2,
           1,
           2,
           2,
           2,
           2,
           2,
           2,
           2,
           1,
           1,
           1,
           2,
           2,
           2,
           0,
           1,
           1,
           1,
           1,
           0,
           0,
           0,
           2,
           2,
           1,
           1,
           2,
           1,
           2,
           2,
           2,
           0,
           0,
           0,
           1,
           1,
           2,
           1,
           2,
           0,
           1,
           2
          ],
          "coloraxis": "coloraxis",
          "symbol": "circle"
         },
         "mode": "markers",
         "name": "",
         "scene": "scene",
         "showlegend": false,
         "type": "scatter3d",
         "x": [
          0.7108433734939759,
          0.6265060240963856,
          0.6265060240963856,
          0.6265060240963856,
          0.6265060240963856,
          0.6746987951807228,
          0.6867469879518071,
          0.6867469879518071,
          0.6867469879518071,
          0.6867469879518071,
          0.30120481927710835,
          0.7228915662650601,
          0.7228915662650601,
          0.6867469879518071,
          0.6867469879518071,
          0.7228915662650601,
          0.5783132530120481,
          0.5783132530120481,
          0.5783132530120481,
          0.3734939759036144,
          0.5783132530120481,
          0.3734939759036144,
          0.5783132530120481,
          0.5301204819277108,
          0.43373493975903615,
          0.5301204819277108,
          0.397590361445783,
          0.8072289156626504,
          0.34939759036144574,
          0.506024096385542,
          0.4578313253012048,
          0.506024096385542,
          0.5180722891566265,
          0.506024096385542,
          0.43373493975903615,
          0.397590361445783,
          0.43373493975903615,
          0.397590361445783,
          0.43373493975903615,
          0.6265060240963856,
          0.5903614457831323,
          0.3734939759036144,
          0.46987951807228906,
          0.506024096385542,
          0.2650602409638554,
          0.43373493975903615,
          0.43373493975903615,
          0.43373493975903615,
          0.5783132530120481,
          0.46987951807228906,
          0.46987951807228906,
          0.46987951807228906,
          0.46987951807228906,
          0.25301204819277107,
          0.8433734939759037,
          0.3614457831325301,
          0.46987951807228906,
          0.46987951807228906,
          0.48192771084337344,
          0.21686746987951805,
          0.2650602409638554,
          0.30120481927710835,
          0.6024096385542168,
          0.10843373493975902,
          0.4578313253012048,
          0.34939759036144574,
          0.6144578313253011,
          0.506024096385542,
          0.3373493975903614,
          0.25301204819277107,
          0.25301204819277107,
          0.4216867469879518,
          0.4096385542168674,
          0.3734939759036144,
          0.18072289156626503,
          0.30120481927710835,
          0.7108433734939759,
          0.6746987951807228,
          0.18072289156626503,
          0.10843373493975902,
          0.5542168674698795,
          0.506024096385542,
          0.7469879518072289,
          0.5542168674698795,
          0.19277108433734935,
          0.6265060240963856,
          0.1566265060240964,
          0.6024096385542168,
          0.2409638554216867,
          0.506024096385542,
          0.506024096385542,
          0.3734939759036144,
          0.506024096385542,
          0.3734939759036144,
          0.5662650602409638,
          0.3734939759036144,
          0.5662650602409638,
          0.48192771084337344,
          0.5662650602409638,
          0.506024096385542,
          0.5662650602409638,
          0.6024096385542168,
          0.48192771084337344,
          0.5662650602409638,
          0.3734939759036144,
          0.5662650602409638,
          0.5662650602409638,
          0.3734939759036144,
          0.2891566265060241,
          0.27710843373493976,
          0.2891566265060241,
          0.506024096385542,
          0.27710843373493976,
          0.506024096385542,
          0.506024096385542,
          0.2891566265060241,
          0.506024096385542,
          0.3734939759036144,
          0.27710843373493976,
          0.397590361445783,
          0.397590361445783,
          0.397590361445783,
          0.397590361445783,
          0.397590361445783,
          0.6867469879518071,
          0.46987951807228906,
          0.397590361445783,
          0.5180722891566265,
          0.397590361445783,
          0.46987951807228906,
          0.22891566265060237,
          0.397590361445783,
          0.4216867469879518,
          0.397590361445783,
          0.4216867469879518,
          0.4216867469879518,
          0.4216867469879518,
          0.30120481927710835,
          0.46987951807228906,
          0.4216867469879518,
          0.46987951807228906,
          0.6506024096385541,
          0.506024096385542,
          0.4216867469879518,
          0.7108433734939759,
          0.4216867469879518,
          0.8192771084337349,
          0.46987951807228906,
          0.4216867469879518,
          0.7108433734939759,
          0.4216867469879518,
          0.4216867469879518,
          0.46987951807228906,
          0.7108433734939759,
          0.7108433734939759,
          0.19277108433734935,
          0.7108433734939759,
          0.7108433734939759,
          0.4216867469879518,
          0.46987951807228906,
          0.6385542168674698,
          0.397590361445783,
          0.7108433734939759,
          0.4216867469879518,
          0.7108433734939759,
          0.7108433734939759,
          0.7108433734939759,
          0.46987951807228906,
          0.2409638554216867,
          0.6746987951807228,
          0.4216867469879518,
          0.7108433734939759,
          0.7108433734939759,
          0.6506024096385541,
          0.397590361445783,
          0.7108433734939759,
          0.7108433734939759,
          0.506024096385542,
          0.7108433734939759,
          0.7108433734939759,
          0.6506024096385541,
          0.506024096385542,
          0.506024096385542,
          0.506024096385542,
          0.506024096385542,
          0.7108433734939759,
          0.7108433734939759,
          0.506024096385542,
          0.7108433734939759,
          0.46987951807228906,
          0.506024096385542,
          0.4457831325301204,
          0.506024096385542,
          0.506024096385542,
          0.1325301204819277,
          0.7108433734939759,
          0.5662650602409638,
          0.506024096385542,
          0.25301204819277107,
          0.506024096385542,
          0.7108433734939759,
          0.38554216867469876,
          0.7108433734939759,
          0.3614457831325301,
          0.5421686746987953,
          0.30120481927710835,
          0.34939759036144574,
          0.3373493975903614,
          0.5662650602409638,
          0.3734939759036144,
          0.6024096385542168,
          0.5542168674698795,
          0.6385542168674698,
          0.14457831325301201,
          0.20481927710843373,
          0.32530120481927705,
          0.6144578313253011,
          0.32530120481927705,
          0.3373493975903614,
          0.2409638554216867,
          0.34939759036144574,
          0.38554216867469876,
          0.5542168674698795,
          0.5180722891566265,
          0.38554216867469876,
          0.7710843373493974,
          0.5421686746987953,
          0.5421686746987953,
          0.32530120481927705,
          0.7228915662650601,
          0.19277108433734935,
          0.5783132530120481,
          0.2891566265060241,
          0.7951807228915662,
          0.5542168674698795,
          0.3132530120481927,
          0.5783132530120481,
          0.5180722891566265,
          0.3132530120481927,
          0.5903614457831323,
          0.5542168674698795,
          0.5542168674698795,
          0.2409638554216867,
          0.3614457831325301,
          0.4096385542168674,
          0.6746987951807228,
          0.4578313253012048,
          0.48192771084337344,
          0.4578313253012048,
          0.7108433734939759,
          0.7349397590361444,
          0.4578313253012048,
          0.34939759036144574,
          0.3373493975903614,
          0.7831325301204819,
          0.7469879518072289,
          0.6506024096385541,
          0.32530120481927705,
          0.5903614457831323,
          0.506024096385542,
          0.7228915662650601,
          0.7228915662650601,
          0.7228915662650601,
          0.4096385542168674,
          0.7228915662650601,
          0.7349397590361444,
          0.8072289156626504,
          0.8192771084337349,
          0.7349397590361444,
          0.46987951807228906,
          0.8313253012048192,
          0.34939759036144574,
          0.7349397590361444,
          0.8313253012048192,
          0.5180722891566265,
          0.8795180722891565,
          0.8313253012048192,
          0.8313253012048192,
          0.6746987951807228,
          0.5301204819277108,
          0.4096385542168674,
          0.6746987951807228,
          0.6746987951807228,
          0.7951807228915662,
          0.46987951807228906,
          0.6385542168674698,
          0.6385542168674698,
          0.5421686746987953,
          0.5421686746987953,
          0.6265060240963856,
          0.6265060240963856,
          0.397590361445783,
          0.6385542168674698,
          0.5662650602409638,
          0.7349397590361444,
          0.5662650602409638,
          0.5542168674698795,
          0.8795180722891565,
          0.5662650602409638,
          0.34939759036144574,
          0.34939759036144574,
          0.5542168674698795,
          0.7349397590361444,
          0.3373493975903614,
          0.5662650602409638,
          0.7108433734939759,
          0.3614457831325301,
          0.7108433734939759,
          0.9759036144578312,
          0.5903614457831323,
          0.48192771084337344,
          0.963855421686747,
          0.6144578313253011,
          0.46987951807228906,
          0.3614457831325301,
          0.963855421686747,
          0.4578313253012048,
          0.27710843373493976,
          0.7349397590361444,
          0.5903614457831323,
          0.963855421686747,
          0.5903614457831323,
          0.506024096385542,
          0.6867469879518071,
          0.5662650602409638,
          0.927710843373494,
          0.3132530120481927,
          0.4457831325301204,
          0.48192771084337344,
          0.4939759036144578,
          0.4939759036144578,
          0.5180722891566265,
          0.3614457831325301,
          0.6746987951807228,
          0.4939759036144578,
          0.43373493975903615,
          0.5542168674698795,
          0.7710843373493974,
          0.6746987951807228,
          0.4939759036144578,
          0.6024096385542168,
          0.4216867469879518,
          0.4939759036144578,
          0.5542168674698795,
          0.5542168674698795,
          0.4939759036144578,
          0.4578313253012048,
          0.9036144578313252,
          0.3734939759036144,
          0.46987951807228906,
          0.6024096385542168,
          0.34939759036144574,
          0.7228915662650601,
          0.3614457831325301,
          0.3734939759036144,
          0.7228915662650601,
          0.48192771084337344,
          0.6987951807228916,
          0,
          0.506024096385542,
          0.46987951807228906,
          0.4457831325301204,
          0.38554216867469876,
          0.5662650602409638,
          0.6385542168674698,
          0.6385542168674698,
          0.34939759036144574,
          0.4939759036144578,
          0.2891566265060241,
          0.5180722891566265,
          0.506024096385542,
          0.6746987951807228,
          0.8674698795180722,
          0.4939759036144578,
          0.891566265060241,
          0.8072289156626504,
          0.8072289156626504,
          0.34939759036144574,
          0.34939759036144574,
          0.46987951807228906,
          0.46987951807228906,
          0.9759036144578312,
          0.6385542168674698,
          0.6024096385542168,
          0.4939759036144578,
          0.3734939759036144,
          0.5662650602409638,
          0.6385542168674698,
          0.4939759036144578,
          0.19277108433734935,
          0.4457831325301204,
          0.9518072289156627,
          0.6385542168674698,
          0.7108433734939759,
          0.5542168674698795,
          0.4939759036144578,
          0.9518072289156627,
          0.5542168674698795,
          0.4939759036144578,
          0.6024096385542168,
          0.6506024096385541,
          0.4939759036144578,
          0.3132530120481927,
          0.48192771084337344,
          0.48192771084337344,
          1,
          0.891566265060241,
          0.7710843373493974,
          0.5783132530120481,
          0.48192771084337344,
          0.4939759036144578,
          0.4096385542168674,
          0.5783132530120481,
          0.6867469879518071,
          0.4457831325301204,
          0.397590361445783,
          0.7108433734939759,
          0.506024096385542,
          0.6987951807228916,
          0.5542168674698795,
          0.48192771084337344,
          0.7590361445783131,
          0.7590361445783131,
          0.8192771084337349,
          0.5180722891566265,
          0.7590361445783131,
          0.6385542168674698,
          0.506024096385542,
          0.506024096385542,
          0.5542168674698795,
          0.46987951807228906,
          0.6385542168674698,
          0.6506024096385541,
          0.5301204819277108,
          0.4939759036144578,
          0.6385542168674698,
          0.5662650602409638,
          0.5662650602409638,
          0.43373493975903615,
          0.5301204819277108,
          0.2650602409638554,
          0.6506024096385541,
          0.6867469879518071,
          0.6024096385542168,
          0.7349397590361444,
          0.5783132530120481,
          0.5783132530120481,
          0.5542168674698795,
          0.1566265060240964,
          0.4216867469879518,
          0.2409638554216867,
          0.397590361445783,
          0.4939759036144578,
          0.6024096385542168,
          0.4216867469879518,
          0.2891566265060241,
          0.4578313253012048,
          0.46987951807228906,
          0.4457831325301204,
          0.6867469879518071,
          0.6385542168674698,
          0.5783132530120481,
          0.7951807228915662,
          0.7951807228915662,
          0.5783132530120481,
          0.46987951807228906,
          0.3373493975903614,
          0.38554216867469876,
          0.6506024096385541,
          0.5783132530120481,
          0.4457831325301204,
          0.5783132530120481,
          0.5301204819277108,
          0.5301204819277108,
          0.7108433734939759,
          0.7108433734939759,
          0.7108433734939759,
          0.7108433734939759,
          0.7108433734939759,
          0.7108433734939759,
          0.43373493975903615,
          0.7108433734939759,
          0.5662650602409638,
          0.5662650602409638,
          0.5421686746987953,
          0.3734939759036144
         ],
         "y": [
          0.3561643835616438,
          0.16438356164383564,
          0.2465753424657534,
          0.5890410958904109,
          0.136986301369863,
          0.1780821917808219,
          0.3013698630136986,
          0.3972602739726028,
          0.2876712328767123,
          0.3972602739726028,
          0.6027397260273972,
          0.273972602739726,
          0.3013698630136986,
          0.2465753424657534,
          0.4520547945205479,
          0.31506849315068497,
          0.6301369863013699,
          0.41095890410958896,
          0.2876712328767123,
          0.1917808219178082,
          0.2054794520547945,
          0.2602739726027397,
          0.3698630136986301,
          0.2602739726027397,
          0.3561643835616438,
          0.136986301369863,
          0.2328767123287671,
          0.16438356164383564,
          0.3698630136986301,
          0.3287671232876712,
          0.2054794520547945,
          0.1917808219178082,
          0.3972602739726028,
          0.3561643835616438,
          0.1780821917808219,
          0.2054794520547945,
          0.2876712328767123,
          0.2602739726027397,
          0.0821917808219178,
          0.136986301369863,
          0.3835616438356164,
          0.2602739726027397,
          0.2054794520547945,
          0.2602739726027397,
          0.4794520547945205,
          0.0958904109589041,
          0.6301369863013699,
          0.5342465753424657,
          0.5205479452054793,
          0.136986301369863,
          0.1095890410958904,
          0.3424657534246575,
          0.2876712328767123,
          0.4246575342465753,
          0.3972602739726028,
          0.3698630136986301,
          0.1780821917808219,
          0.2054794520547945,
          0.2602739726027397,
          0.2465753424657534,
          0.3698630136986301,
          0.2465753424657534,
          0.547945205479452,
          0.1917808219178082,
          0.2876712328767123,
          0.3561643835616438,
          0.5890410958904109,
          0.3972602739726028,
          0.4520547945205479,
          0.7123287671232876,
          0.31506849315068497,
          0.2876712328767123,
          0.2602739726027397,
          0.1917808219178082,
          0.1917808219178082,
          0.1917808219178082,
          0.2054794520547945,
          0.2465753424657534,
          0.16438356164383564,
          0.2602739726027397,
          0.273972602739726,
          0.273972602739726,
          0.273972602739726,
          0.3972602739726028,
          0.3287671232876712,
          0.3561643835616438,
          0.2328767123287671,
          0.2054794520547945,
          0.2191780821917808,
          0.2876712328767123,
          0.31506849315068497,
          0.16438356164383564,
          0.5068493150684932,
          0.3424657534246575,
          0.2191780821917808,
          0.2876712328767123,
          0.136986301369863,
          0.5890410958904109,
          0.3424657534246575,
          0.2054794520547945,
          0.3835616438356164,
          0.136986301369863,
          0.1917808219178082,
          0.2191780821917808,
          0.6712328767123288,
          0.6164383561643836,
          0.4246575342465753,
          0.31506849315068497,
          0.6438356164383561,
          0.3561643835616438,
          0.6575342465753424,
          0.2191780821917808,
          0.7534246575342465,
          0.6164383561643836,
          0.3013698630136986,
          0.5753424657534245,
          0.1917808219178082,
          0.4246575342465753,
          0.4246575342465753,
          0.4794520547945205,
          0.4794520547945205,
          0.273972602739726,
          0.4657534246575343,
          0.3013698630136986,
          0.2191780821917808,
          0.3835616438356164,
          0.6849315068493151,
          0.2602739726027397,
          0.2191780821917808,
          0.2876712328767123,
          0.31506849315068497,
          0.3287671232876712,
          0.6164383561643836,
          0.31506849315068497,
          0.4794520547945205,
          0.41095890410958896,
          0.8493150684931507,
          0.2602739726027397,
          0.12328767123287673,
          0.0821917808219178,
          0.0684931506849315,
          0.5753424657534245,
          0.3287671232876712,
          0.2191780821917808,
          0.3287671232876712,
          0.1780821917808219,
          0.9178082191780821,
          0.027397260273972615,
          0.3972602739726028,
          0.5342465753424657,
          0.2465753424657534,
          0.4520547945205479,
          0.3013698630136986,
          0.0547945205479452,
          0.136986301369863,
          0.2465753424657534,
          0.1780821917808219,
          0.2465753424657534,
          0.273972602739726,
          0.1506849315068493,
          0.5342465753424657,
          0.43835616438356156,
          0.027397260273972615,
          0.2191780821917808,
          0.1780821917808219,
          0,
          0.2876712328767123,
          0.2602739726027397,
          0.5068493150684932,
          0.5068493150684932,
          0.5205479452054793,
          0.821917808219178,
          0.0821917808219178,
          0.7123287671232876,
          0.43835616438356156,
          0.3698630136986301,
          0.1506849315068493,
          0.12328767123287673,
          0.0958904109589041,
          0.2602739726027397,
          0.8082191780821917,
          0.136986301369863,
          0.3698630136986301,
          0.0410958904109589,
          0.0821917808219178,
          0.43835616438356156,
          0.6712328767123288,
          0.5890410958904109,
          0.4657534246575343,
          0.3698630136986301,
          0.1506849315068493,
          0.49315068493150677,
          0.3972602739726028,
          0.3287671232876712,
          0.2191780821917808,
          0.3835616438356164,
          0.5068493150684932,
          0.0684931506849315,
          0.2191780821917808,
          0.0958904109589041,
          0.12328767123287673,
          0.1780821917808219,
          0.12328767123287673,
          0.49315068493150677,
          0.4657534246575343,
          0.5205479452054793,
          0.2876712328767123,
          0.31506849315068497,
          0.0958904109589041,
          0.2876712328767123,
          0.2465753424657534,
          0.3972602739726028,
          0.2602739726027397,
          0.273972602739726,
          0.2328767123287671,
          0.5205479452054793,
          0.4794520547945205,
          0.2328767123287671,
          0.2191780821917808,
          0.1780821917808219,
          0.3287671232876712,
          0.3287671232876712,
          0.547945205479452,
          0.3972602739726028,
          0.6164383561643836,
          0.5205479452054793,
          0.5753424657534245,
          0.7808219178082192,
          0.4246575342465753,
          0.9726027397260273,
          0.7534246575342465,
          0.31506849315068497,
          0.3424657534246575,
          0.5890410958904109,
          0.3424657534246575,
          0.3561643835616438,
          0.41095890410958896,
          0.3972602739726028,
          0.3424657534246575,
          0.4246575342465753,
          0.2328767123287671,
          0.16438356164383564,
          0.4246575342465753,
          0.3013698630136986,
          0.2465753424657534,
          0.0958904109589041,
          0.1917808219178082,
          0.3287671232876712,
          0.3013698630136986,
          0.1917808219178082,
          0.2876712328767123,
          0.3835616438356164,
          0.0410958904109589,
          0.2876712328767123,
          0.6438356164383561,
          0.2191780821917808,
          0.273972602739726,
          0.273972602739726,
          0.273972602739726,
          0.136986301369863,
          0.4520547945205479,
          0.6712328767123288,
          0.7397260273972601,
          0.3698630136986301,
          1,
          0.4657534246575343,
          0.41095890410958896,
          0.6164383561643836,
          0.5342465753424657,
          0.16438356164383564,
          0.3013698630136986,
          0.31506849315068497,
          0.3424657534246575,
          0.3013698630136986,
          0.1917808219178082,
          0.6712328767123288,
          0.4657534246575343,
          0.8904109589041094,
          0.273972602739726,
          0.1780821917808219,
          0.1780821917808219,
          0.3561643835616438,
          0.2465753424657534,
          0.6027397260273972,
          0.5068493150684932,
          0.2465753424657534,
          0.273972602739726,
          0.2191780821917808,
          0.1780821917808219,
          0.31506849315068497,
          0.3972602739726028,
          0.49315068493150677,
          0.2054794520547945,
          0.3972602739726028,
          0.3424657534246575,
          0.3287671232876712,
          0.6712328767123288,
          0.3424657534246575,
          0.3287671232876712,
          0.41095890410958896,
          0.4246575342465753,
          0.2191780821917808,
          0.8082191780821917,
          0.4246575342465753,
          0.6712328767123288,
          0.9178082191780821,
          0.5616438356164384,
          0.9589041095890409,
          0.6575342465753424,
          0.49315068493150677,
          0.6986301369863015,
          0.3287671232876712,
          0.6438356164383561,
          0.5616438356164384,
          0.726027397260274,
          0.5753424657534245,
          0.2876712328767123,
          0.3013698630136986,
          0.7671232876712328,
          0.16438356164383564,
          0.4657534246575343,
          0.3698630136986301,
          0.3561643835616438,
          0.136986301369863,
          0.6849315068493151,
          0.3013698630136986,
          0.12328767123287673,
          0.4246575342465753,
          0.2191780821917808,
          0.3424657534246575,
          0.2328767123287671,
          0.5342465753424657,
          0.12328767123287673,
          0.6712328767123288,
          0.4246575342465753,
          0.3561643835616438,
          0.3013698630136986,
          0.547945205479452,
          0.3561643835616438,
          0.1780821917808219,
          0.31506849315068497,
          0.43835616438356156,
          0.4520547945205479,
          0.4520547945205479,
          0.273972602739726,
          0.5890410958904109,
          0.136986301369863,
          0.2602739726027397,
          0.3698630136986301,
          0.547945205479452,
          0.3972602739726028,
          0.0684931506849315,
          0.9178082191780821,
          0.1780821917808219,
          0.2876712328767123,
          0.43835616438356156,
          0.2054794520547945,
          0.0684931506849315,
          0.43835616438356156,
          0.1917808219178082,
          0.0410958904109589,
          0.2465753424657534,
          0.2602739726027397,
          0.4520547945205479,
          0.5068493150684932,
          0.4520547945205479,
          0.4794520547945205,
          0.6575342465753424,
          0.2054794520547945,
          0.1506849315068493,
          0.2602739726027397,
          0.0684931506849315,
          0.2328767123287671,
          0.3561643835616438,
          0.41095890410958896,
          0.5068493150684932,
          0.0958904109589041,
          0.1095890410958904,
          0.547945205479452,
          0.1506849315068493,
          0.4246575342465753,
          0.136986301369863,
          0.0958904109589041,
          0.3424657534246575,
          0.5753424657534245,
          0.273972602739726,
          0.1917808219178082,
          0.0821917808219178,
          0.16438356164383564,
          0.1917808219178082,
          0.3835616438356164,
          0.41095890410958896,
          0.2191780821917808,
          0.136986301369863,
          0.273972602739726,
          0.2602739726027397,
          0.12328767123287673,
          0.2876712328767123,
          0.6027397260273972,
          0.1095890410958904,
          0.16438356164383564,
          0.3013698630136986,
          0.1095890410958904,
          0.821917808219178,
          0.31506849315068497,
          0.1506849315068493,
          0.3013698630136986,
          0.41095890410958896,
          0.3698630136986301,
          0.2465753424657534,
          0.16438356164383564,
          0.1780821917808219,
          0.2191780821917808,
          0.3972602739726028,
          0.12328767123287673,
          0.4520547945205479,
          0.3287671232876712,
          0.2054794520547945,
          0.8630136986301371,
          0.3835616438356164,
          0.2328767123287671,
          0.273972602739726,
          0.1095890410958904,
          0.5205479452054793,
          0.16438356164383564,
          0.43835616438356156,
          0.9452054794520546,
          0.1506849315068493,
          0.3013698630136986,
          0.2602739726027397,
          0.2602739726027397,
          0.2191780821917808,
          0.43835616438356156,
          0.726027397260274,
          0.16438356164383564,
          0.273972602739726,
          0.1917808219178082,
          0.2876712328767123,
          0.3287671232876712,
          0.3013698630136986,
          0.4246575342465753,
          0.0821917808219178,
          0.2328767123287671,
          0.273972602739726,
          0.6712328767123288,
          0.2602739726027397,
          0.0821917808219178,
          0.0821917808219178,
          0.273972602739726,
          0.3561643835616438,
          0.2191780821917808,
          0.4657534246575343,
          0.5068493150684932,
          0.4520547945205479,
          0.4794520547945205,
          0.31506849315068497,
          0.3698630136986301,
          0.2465753424657534,
          0.3013698630136986,
          0.4794520547945205,
          0.5753424657534245,
          0.547945205479452,
          0.547945205479452,
          0.1917808219178082,
          0.3698630136986301,
          0.2876712328767123,
          0.3287671232876712,
          0.1506849315068493,
          0.41095890410958896,
          0.6438356164383561,
          0.4794520547945205,
          0.4794520547945205,
          0.2465753424657534,
          0.2602739726027397,
          0.2191780821917808,
          0.2602739726027397,
          0.2465753424657534,
          0.31506849315068497,
          0.726027397260274,
          0.8082191780821917,
          0.2876712328767123,
          0.5068493150684932,
          0.3287671232876712,
          0.1917808219178082,
          0.4246575342465753,
          0.3972602739726028
         ],
         "z": [
          0.7726830533757053,
          0.24161748492120105,
          0.24161748492120105,
          0.24161748492120105,
          0.24161748492120105,
          0.017056877877942744,
          0.2307218366949867,
          0.2375316168363707,
          0.4074842726506258,
          0.2573124067708671,
          0.09828782670730918,
          0,
          0,
          0.1337635384914715,
          0.2375316168363707,
          0,
          0.1283157143783643,
          0.1337635384914715,
          0.1337635384914715,
          0.10101173876386271,
          0.18019975355081386,
          0.2573124067708671,
          0.1283157143783643,
          0.08735975095661197,
          0.18019975355081386,
          0.2573124067708671,
          0.09828782670730918,
          0.04640378753485952,
          0.16174849212011155,
          0.10509760684869318,
          0.12218691225111877,
          0.1283157143783643,
          0.10509760684869318,
          0.10509760684869318,
          0.060055775342110373,
          0.1283157143783643,
          0.4498346196251378,
          0.08054997081522797,
          0.10101173876386271,
          0.14401063622803034,
          0.14401063622803034,
          0.10853492444386792,
          0.1337635384914715,
          0.07030287307866911,
          0.10305467280627789,
          0.11874959465594392,
          0.10305467280627789,
          0.10785394642972956,
          0.13103962643491796,
          0.09420195862247871,
          0.09624489266489389,
          0.14196770218561516,
          0.10101173876386271,
          0.09420195862247871,
          0.10785394642972956,
          0.10785394642972956,
          0.10785394642972956,
          0.09896880472144753,
          0.1522147999221739,
          0.07370776314936112,
          0.10577858486283154,
          0.1215059342369803,
          0.12422984629353395,
          0.09624489266489389,
          0.15425773396458908,
          0.060055775342110373,
          0.09420195862247871,
          0.09624489266489389,
          0.10714054089110836,
          0.09420195862247871,
          0.08054997081522797,
          0.10033076074972436,
          0.09488293663661718,
          0.07506971917763794,
          0.07030287307866911,
          0.10169271677800118,
          0.09144561904144233,
          0.10101173876386271,
          0.14741552629872234,
          0.1303586484207795,
          0.10101173876386271,
          0.10989688047214474,
          0.10853492444386792,
          0.05324599520072637,
          0.10853492444386792,
          0.11193981451455992,
          0.11330177054283674,
          0.08191192684350479,
          0.15834360204941955,
          0.09076464102730397,
          0.44163045593099415,
          0.16654776574356311,
          0.44163045593099415,
          0.017056877877942744,
          0.13583890005836952,
          0.16586678772942476,
          0.13583890005836952,
          0.16246189765873276,
          0.13583890005836952,
          0.44163045593099415,
          0.13583890005836952,
          0.060055775342110373,
          0.16246189765873276,
          0.10785394642972956,
          0.1283157143783643,
          0.13583890005836952,
          0.13583890005836952,
          0.10101173876386271,
          0.18156170957909068,
          0.11262079252869828,
          0.07030287307866911,
          0.44163045593099415,
          0.19861858745703354,
          0.44163045593099415,
          0.44163045593099415,
          0.11466372657111357,
          0.13103962643491796,
          0.07370776314936112,
          0.05937479732797191,
          0.10785394642972956,
          0.10101173876386271,
          0.11193981451455992,
          0.07506971917763794,
          0.11193981451455992,
          0.06618457746935591,
          0.4750632336727413,
          0.11193981451455992,
          0.09896880472144753,
          0.4074842726506258,
          0.4750632336727413,
          0.07643167520591476,
          0.14264868019975352,
          0.4750632336727413,
          0.10101173876386271,
          0.39999351449510345,
          0.4750632336727413,
          0.4750632336727413,
          0.1064595628769699,
          0.4750632336727413,
          0.4750632336727413,
          0.4750632336727413,
          0.16654776574356311,
          0.08735975095661197,
          0.4750632336727413,
          0.4074842726506258,
          0.24437382450223744,
          0.09556391465075553,
          0.14264868019975352,
          0.4750632336727413,
          0.4074842726506258,
          0.4750632336727413,
          0.4750632336727413,
          0.09624489266489389,
          0.4074842726506258,
          0.462092223879629,
          0.06346066541280238,
          0.4074842726506258,
          0.4074842726506258,
          0.08735975095661197,
          0.5481224463324469,
          0.08463583890005832,
          0.08735975095661197,
          0.4074842726506258,
          0.08735975095661197,
          0.4074842726506258,
          0.4074842726506258,
          0.4074842726506258,
          0.2887346779946819,
          0.08395486088591997,
          0.12286789026525713,
          0.08735975095661197,
          0.4750632336727413,
          0.4074842726506258,
          0.16654776574356311,
          0.08735975095661197,
          0.4074842726506258,
          0.4074842726506258,
          0.2675595045074258,
          0.4074842726506258,
          0.4074842726506258,
          0.08531681691419679,
          0.24437382450223744,
          0.2648355924508723,
          0.24437382450223744,
          0.44163045593099415,
          0.4074842726506258,
          0.4074842726506258,
          0.4750632336727413,
          0.4074842726506258,
          0.0900836630131655,
          0.06825993903625394,
          0.1488099098514819,
          0.5481224463324469,
          0.4750632336727413,
          0.13103962643491796,
          0.4750632336727413,
          0.4750632336727413,
          0.2375316168363707,
          0.07098385109280758,
          0.22387962902911984,
          0.4074842726506258,
          0.10305467280627789,
          0.4074842726506258,
          0.10921590245800628,
          0.13515792204423116,
          0.13583890005836952,
          0.1631428756728711,
          0.05324599520072637,
          0.4750632336727413,
          0.11534470458525192,
          0.08191192684350479,
          0.10305467280627789,
          0.05869381931383355,
          0.0757506971917764,
          0.06894091705039229,
          0.03819962384071596,
          0.12763473636422595,
          0.12763473636422595,
          0.1958946754004799,
          0.025942019586224774,
          0.12763473636422595,
          0.06689798300797711,
          0.15425773396458908,
          0.13583890005836952,
          0.12559180232181077,
          0.1488099098514819,
          0.1064595628769699,
          0.1215059342369803,
          0.11262079252869828,
          0.0934885530838575,
          0.12218691225111877,
          0.22524158505739666,
          0.06825993903625394,
          0.0934885530838575,
          0.20818470717945392,
          0.055969907257279905,
          0.22524158505739666,
          0.1283157143783643,
          0.055969907257279905,
          0.11262079252869828,
          0.20818470717945392,
          0.20818470717945392,
          0.1488099098514819,
          0.4750632336727413,
          0.11193981451455992,
          0.07915558726246841,
          0.2177508269018743,
          0.14196770218561516,
          0.4750632336727413,
          0.14196770218561516,
          0.1378818341007847,
          0.1378818341007847,
          0.4750632336727413,
          0.08123094882936632,
          0.4750632336727413,
          0.1378818341007847,
          0.1378818341007847,
          0.08599779492833515,
          0.09144561904144233,
          0.4750632336727413,
          0.655295414748038,
          0.4750632336727413,
          0.44915364161099935,
          0.08735975095661197,
          0.4969193851741357,
          0.655295414748038,
          0.11874959465594392,
          0.4750632336727413,
          0.44163045593099415,
          0.4750632336727413,
          0.4498346196251378,
          0.09280757506971915,
          0.5037615928400027,
          0.44163045593099415,
          0.32352941176470584,
          0.655295414748038,
          0.4498346196251378,
          0.4498346196251378,
          0.11874959465594392,
          0.2484596925870679,
          0.10169271677800118,
          0.12763473636422595,
          0.33309553148712623,
          0.1754004799273623,
          0.08395486088591997,
          0.12967767040664113,
          0.4750632336727413,
          0.11262079252869828,
          0.03547571178416242,
          0.4750632336727413,
          0.3877034827161294,
          0.16246189765873276,
          0.4750632336727413,
          0.4750632336727413,
          0.4750632336727413,
          0.26551657046501065,
          0.09964978273558589,
          0.09964978273558589,
          0.37745638497957057,
          0.3535897269602438,
          0.09420195862247871,
          0.09964978273558589,
          0.45119657565341453,
          0.12422984629353395,
          0.3877034827161294,
          0.12627278033594913,
          0.07370776314936112,
          0.408197678189247,
          0.45119657565341453,
          0.10853492444386792,
          0.11193981451455992,
          0.10921590245800628,
          0.07370776314936112,
          0.21706984888773584,
          0.08054997081522797,
          0.3808937025747454,
          0.10305467280627789,
          0.13651987807250787,
          0.3535897269602438,
          0.10853492444386792,
          0.37405149490887857,
          0.12011155068422075,
          0.09556391465075553,
          0.12011155068422075,
          0.20409883909462345,
          0.23344574875154023,
          0.1378818341007847,
          0.3535897269602438,
          0.13720085608664634,
          0.17679486348012186,
          0.17679486348012186,
          0.16927167780011676,
          0.09076464102730397,
          0.1829236656073675,
          0.20818470717945392,
          0.4750632336727413,
          0.20818470717945392,
          0.20818470717945392,
          0.19998054348531025,
          0.1215059342369803,
          0.09760684869317071,
          0.0921265970555808,
          0.2034178610804851,
          0.19657565341461825,
          0.19657565341461825,
          0.2034178610804851,
          0.0921265970555808,
          0.29622543615020425,
          0.2921395680653739,
          0.1631428756728711,
          0.08191192684350479,
          0.1631428756728711,
          0.27167780011673903,
          0.1631428756728711,
          0.30579155587262463,
          0.22387962902911984,
          0.0900836630131655,
          0.24437382450223744,
          0.06689798300797711,
          0.1446916142421687,
          0.1631428756728711,
          0.06618457746935591,
          0.1488099098514819,
          0.1610675141059731,
          0.2914585900512354,
          0.2914585900512354,
          0.16654776574356311,
          0.1488099098514819,
          0.4750632336727413,
          0.1795187755366755,
          0.1795187755366755,
          0.3262857513457422,
          0.6696283805694273,
          0.14264868019975352,
          0.9999999999999999,
          0.34538556326610026,
          0.3262857513457422,
          0.09556391465075553,
          0.13924379012906152,
          0.1215059342369803,
          0.10509760684869318,
          0.6696283805694273,
          0.34538556326610026,
          0.5583695440690056,
          0.462092223879629,
          0.07030287307866911,
          0.1795187755366755,
          0.03275179972760878,
          0.462092223879629,
          0.060055775342110373,
          0.09964978273558589,
          0.3808937025747454,
          0.1631428756728711,
          0.16586678772942476,
          0.1556196899928659,
          0.16382385368700947,
          0.3603995071016278,
          0.0866787729424735,
          0.16382385368700947,
          0.3808937025747454,
          0.10785394642972956,
          0.08463583890005832,
          0.08463583890005832,
          0.11262079252869828,
          0.20818470717945392,
          0.3228484337505675,
          0.31467669758090666,
          0.2552694727284519,
          0.10577858486283154,
          0.16927167780011676,
          0.3808937025747454,
          0.0921265970555808,
          0.12559180232181077,
          0.11466372657111357,
          0.10853492444386792,
          0.11330177054283674,
          0.2245606070432583,
          0.10033076074972436,
          0.09828782670730918,
          0.04844672157727481,
          0.06825993903625394,
          0.11943057267008239,
          0.11943057267008239,
          0.43070238018029705,
          0.16382385368700947,
          0.11943057267008239,
          0.4696154095596342,
          0.03275179972760878,
          0.09420195862247871,
          0.19657565341461825,
          0.05324599520072637,
          0.40135547052338016,
          0.24366041896361623,
          0.16586678772942476,
          0.13515792204423116,
          0.05324599520072637,
          0.24366041896361623,
          0.12559180232181077,
          0.10785394642972956,
          0.2744017121732927,
          0.15834360204941955,
          0.019099811920357923,
          0.15834360204941955,
          0.1829236656073675,
          0.19180880731564953,
          0.16586678772942476,
          0.03275179972760878,
          0.07915558726246841,
          0.03547571178416242,
          0.03275179972760878,
          0.10509760684869318,
          0.09280757506971915,
          0.16586678772942476,
          0.3501524093650691,
          0.3501524093650691,
          0.05324599520072637,
          0.10785394642972956,
          0.11602568259939039,
          0.3501524093650691,
          0.19793760944289507,
          0.20409883909462345,
          0.3501524093650691,
          0.3501524093650691,
          0.3501524093650691,
          0.3501524093650691,
          0.3501524093650691,
          0.16995265581425512,
          0.12286789026525713,
          0.1556196899928659,
          0.16995265581425512,
          0.1283157143783643,
          0.15766262403528108,
          0.2102276412218691,
          0.17747584149426032,
          0.11193981451455992,
          0.22387962902911984,
          0.22387962902911984,
          0.17679486348012186,
          0.3815746805888838,
          0.23480770477981705,
          0.09896880472144753,
          0.2375316168363707,
          0.2375316168363707,
          0.23480770477981705,
          0.24641675854465261,
          0.3801802970361242
         ]
        }
       ],
       "layout": {
        "autosize": true,
        "coloraxis": {
         "colorbar": {
          "title": {
           "text": "group"
          }
         },
         "colorscale": [
          [
           0,
           "#0d0887"
          ],
          [
           0.1111111111111111,
           "#46039f"
          ],
          [
           0.2222222222222222,
           "#7201a8"
          ],
          [
           0.3333333333333333,
           "#9c179e"
          ],
          [
           0.4444444444444444,
           "#bd3786"
          ],
          [
           0.5555555555555556,
           "#d8576b"
          ],
          [
           0.6666666666666666,
           "#ed7953"
          ],
          [
           0.7777777777777778,
           "#fb9f3a"
          ],
          [
           0.8888888888888888,
           "#fdca26"
          ],
          [
           1,
           "#f0f921"
          ]
         ]
        },
        "legend": {
         "tracegroupgap": 0
        },
        "margin": {
         "t": 60
        },
        "scene": {
         "aspectmode": "auto",
         "aspectratio": {
          "x": 1,
          "y": 1,
          "z": 1
         },
         "camera": {
          "center": {
           "x": 0,
           "y": 0,
           "z": 0
          },
          "eye": {
           "x": 1.3492746562586222,
           "y": 0.9285596492587408,
           "z": 1.4158866055396748
          },
          "projection": {
           "type": "perspective"
          },
          "up": {
           "x": 0,
           "y": 0,
           "z": 1
          }
         },
         "domain": {
          "x": [
           0,
           1
          ],
          "y": [
           0,
           1
          ]
         },
         "xaxis": {
          "title": {
           "text": "democrat"
          },
          "type": "linear"
         },
         "yaxis": {
          "title": {
           "text": "graduate"
          },
          "type": "linear"
         },
         "zaxis": {
          "title": {
           "text": "livingCost"
          },
          "type": "log"
         }
        },
        "template": {
         "data": {
          "bar": [
           {
            "error_x": {
             "color": "#2a3f5f"
            },
            "error_y": {
             "color": "#2a3f5f"
            },
            "marker": {
             "line": {
              "color": "#E5ECF6",
              "width": 0.5
             }
            },
            "type": "bar"
           }
          ],
          "barpolar": [
           {
            "marker": {
             "line": {
              "color": "#E5ECF6",
              "width": 0.5
             }
            },
            "type": "barpolar"
           }
          ],
          "carpet": [
           {
            "aaxis": {
             "endlinecolor": "#2a3f5f",
             "gridcolor": "white",
             "linecolor": "white",
             "minorgridcolor": "white",
             "startlinecolor": "#2a3f5f"
            },
            "baxis": {
             "endlinecolor": "#2a3f5f",
             "gridcolor": "white",
             "linecolor": "white",
             "minorgridcolor": "white",
             "startlinecolor": "#2a3f5f"
            },
            "type": "carpet"
           }
          ],
          "choropleth": [
           {
            "colorbar": {
             "outlinewidth": 0,
             "ticks": ""
            },
            "type": "choropleth"
           }
          ],
          "contour": [
           {
            "colorbar": {
             "outlinewidth": 0,
             "ticks": ""
            },
            "colorscale": [
             [
              0,
              "#0d0887"
             ],
             [
              0.1111111111111111,
              "#46039f"
             ],
             [
              0.2222222222222222,
              "#7201a8"
             ],
             [
              0.3333333333333333,
              "#9c179e"
             ],
             [
              0.4444444444444444,
              "#bd3786"
             ],
             [
              0.5555555555555556,
              "#d8576b"
             ],
             [
              0.6666666666666666,
              "#ed7953"
             ],
             [
              0.7777777777777778,
              "#fb9f3a"
             ],
             [
              0.8888888888888888,
              "#fdca26"
             ],
             [
              1,
              "#f0f921"
             ]
            ],
            "type": "contour"
           }
          ],
          "contourcarpet": [
           {
            "colorbar": {
             "outlinewidth": 0,
             "ticks": ""
            },
            "type": "contourcarpet"
           }
          ],
          "heatmap": [
           {
            "colorbar": {
             "outlinewidth": 0,
             "ticks": ""
            },
            "colorscale": [
             [
              0,
              "#0d0887"
             ],
             [
              0.1111111111111111,
              "#46039f"
             ],
             [
              0.2222222222222222,
              "#7201a8"
             ],
             [
              0.3333333333333333,
              "#9c179e"
             ],
             [
              0.4444444444444444,
              "#bd3786"
             ],
             [
              0.5555555555555556,
              "#d8576b"
             ],
             [
              0.6666666666666666,
              "#ed7953"
             ],
             [
              0.7777777777777778,
              "#fb9f3a"
             ],
             [
              0.8888888888888888,
              "#fdca26"
             ],
             [
              1,
              "#f0f921"
             ]
            ],
            "type": "heatmap"
           }
          ],
          "heatmapgl": [
           {
            "colorbar": {
             "outlinewidth": 0,
             "ticks": ""
            },
            "colorscale": [
             [
              0,
              "#0d0887"
             ],
             [
              0.1111111111111111,
              "#46039f"
             ],
             [
              0.2222222222222222,
              "#7201a8"
             ],
             [
              0.3333333333333333,
              "#9c179e"
             ],
             [
              0.4444444444444444,
              "#bd3786"
             ],
             [
              0.5555555555555556,
              "#d8576b"
             ],
             [
              0.6666666666666666,
              "#ed7953"
             ],
             [
              0.7777777777777778,
              "#fb9f3a"
             ],
             [
              0.8888888888888888,
              "#fdca26"
             ],
             [
              1,
              "#f0f921"
             ]
            ],
            "type": "heatmapgl"
           }
          ],
          "histogram": [
           {
            "marker": {
             "colorbar": {
              "outlinewidth": 0,
              "ticks": ""
             }
            },
            "type": "histogram"
           }
          ],
          "histogram2d": [
           {
            "colorbar": {
             "outlinewidth": 0,
             "ticks": ""
            },
            "colorscale": [
             [
              0,
              "#0d0887"
             ],
             [
              0.1111111111111111,
              "#46039f"
             ],
             [
              0.2222222222222222,
              "#7201a8"
             ],
             [
              0.3333333333333333,
              "#9c179e"
             ],
             [
              0.4444444444444444,
              "#bd3786"
             ],
             [
              0.5555555555555556,
              "#d8576b"
             ],
             [
              0.6666666666666666,
              "#ed7953"
             ],
             [
              0.7777777777777778,
              "#fb9f3a"
             ],
             [
              0.8888888888888888,
              "#fdca26"
             ],
             [
              1,
              "#f0f921"
             ]
            ],
            "type": "histogram2d"
           }
          ],
          "histogram2dcontour": [
           {
            "colorbar": {
             "outlinewidth": 0,
             "ticks": ""
            },
            "colorscale": [
             [
              0,
              "#0d0887"
             ],
             [
              0.1111111111111111,
              "#46039f"
             ],
             [
              0.2222222222222222,
              "#7201a8"
             ],
             [
              0.3333333333333333,
              "#9c179e"
             ],
             [
              0.4444444444444444,
              "#bd3786"
             ],
             [
              0.5555555555555556,
              "#d8576b"
             ],
             [
              0.6666666666666666,
              "#ed7953"
             ],
             [
              0.7777777777777778,
              "#fb9f3a"
             ],
             [
              0.8888888888888888,
              "#fdca26"
             ],
             [
              1,
              "#f0f921"
             ]
            ],
            "type": "histogram2dcontour"
           }
          ],
          "mesh3d": [
           {
            "colorbar": {
             "outlinewidth": 0,
             "ticks": ""
            },
            "type": "mesh3d"
           }
          ],
          "parcoords": [
           {
            "line": {
             "colorbar": {
              "outlinewidth": 0,
              "ticks": ""
             }
            },
            "type": "parcoords"
           }
          ],
          "pie": [
           {
            "automargin": true,
            "type": "pie"
           }
          ],
          "scatter": [
           {
            "marker": {
             "colorbar": {
              "outlinewidth": 0,
              "ticks": ""
             }
            },
            "type": "scatter"
           }
          ],
          "scatter3d": [
           {
            "line": {
             "colorbar": {
              "outlinewidth": 0,
              "ticks": ""
             }
            },
            "marker": {
             "colorbar": {
              "outlinewidth": 0,
              "ticks": ""
             }
            },
            "type": "scatter3d"
           }
          ],
          "scattercarpet": [
           {
            "marker": {
             "colorbar": {
              "outlinewidth": 0,
              "ticks": ""
             }
            },
            "type": "scattercarpet"
           }
          ],
          "scattergeo": [
           {
            "marker": {
             "colorbar": {
              "outlinewidth": 0,
              "ticks": ""
             }
            },
            "type": "scattergeo"
           }
          ],
          "scattergl": [
           {
            "marker": {
             "colorbar": {
              "outlinewidth": 0,
              "ticks": ""
             }
            },
            "type": "scattergl"
           }
          ],
          "scattermapbox": [
           {
            "marker": {
             "colorbar": {
              "outlinewidth": 0,
              "ticks": ""
             }
            },
            "type": "scattermapbox"
           }
          ],
          "scatterpolar": [
           {
            "marker": {
             "colorbar": {
              "outlinewidth": 0,
              "ticks": ""
             }
            },
            "type": "scatterpolar"
           }
          ],
          "scatterpolargl": [
           {
            "marker": {
             "colorbar": {
              "outlinewidth": 0,
              "ticks": ""
             }
            },
            "type": "scatterpolargl"
           }
          ],
          "scatterternary": [
           {
            "marker": {
             "colorbar": {
              "outlinewidth": 0,
              "ticks": ""
             }
            },
            "type": "scatterternary"
           }
          ],
          "surface": [
           {
            "colorbar": {
             "outlinewidth": 0,
             "ticks": ""
            },
            "colorscale": [
             [
              0,
              "#0d0887"
             ],
             [
              0.1111111111111111,
              "#46039f"
             ],
             [
              0.2222222222222222,
              "#7201a8"
             ],
             [
              0.3333333333333333,
              "#9c179e"
             ],
             [
              0.4444444444444444,
              "#bd3786"
             ],
             [
              0.5555555555555556,
              "#d8576b"
             ],
             [
              0.6666666666666666,
              "#ed7953"
             ],
             [
              0.7777777777777778,
              "#fb9f3a"
             ],
             [
              0.8888888888888888,
              "#fdca26"
             ],
             [
              1,
              "#f0f921"
             ]
            ],
            "type": "surface"
           }
          ],
          "table": [
           {
            "cells": {
             "fill": {
              "color": "#EBF0F8"
             },
             "line": {
              "color": "white"
             }
            },
            "header": {
             "fill": {
              "color": "#C8D4E3"
             },
             "line": {
              "color": "white"
             }
            },
            "type": "table"
           }
          ]
         },
         "layout": {
          "annotationdefaults": {
           "arrowcolor": "#2a3f5f",
           "arrowhead": 0,
           "arrowwidth": 1
          },
          "coloraxis": {
           "colorbar": {
            "outlinewidth": 0,
            "ticks": ""
           }
          },
          "colorscale": {
           "diverging": [
            [
             0,
             "#8e0152"
            ],
            [
             0.1,
             "#c51b7d"
            ],
            [
             0.2,
             "#de77ae"
            ],
            [
             0.3,
             "#f1b6da"
            ],
            [
             0.4,
             "#fde0ef"
            ],
            [
             0.5,
             "#f7f7f7"
            ],
            [
             0.6,
             "#e6f5d0"
            ],
            [
             0.7,
             "#b8e186"
            ],
            [
             0.8,
             "#7fbc41"
            ],
            [
             0.9,
             "#4d9221"
            ],
            [
             1,
             "#276419"
            ]
           ],
           "sequential": [
            [
             0,
             "#0d0887"
            ],
            [
             0.1111111111111111,
             "#46039f"
            ],
            [
             0.2222222222222222,
             "#7201a8"
            ],
            [
             0.3333333333333333,
             "#9c179e"
            ],
            [
             0.4444444444444444,
             "#bd3786"
            ],
            [
             0.5555555555555556,
             "#d8576b"
            ],
            [
             0.6666666666666666,
             "#ed7953"
            ],
            [
             0.7777777777777778,
             "#fb9f3a"
            ],
            [
             0.8888888888888888,
             "#fdca26"
            ],
            [
             1,
             "#f0f921"
            ]
           ],
           "sequentialminus": [
            [
             0,
             "#0d0887"
            ],
            [
             0.1111111111111111,
             "#46039f"
            ],
            [
             0.2222222222222222,
             "#7201a8"
            ],
            [
             0.3333333333333333,
             "#9c179e"
            ],
            [
             0.4444444444444444,
             "#bd3786"
            ],
            [
             0.5555555555555556,
             "#d8576b"
            ],
            [
             0.6666666666666666,
             "#ed7953"
            ],
            [
             0.7777777777777778,
             "#fb9f3a"
            ],
            [
             0.8888888888888888,
             "#fdca26"
            ],
            [
             1,
             "#f0f921"
            ]
           ]
          },
          "colorway": [
           "#636efa",
           "#EF553B",
           "#00cc96",
           "#ab63fa",
           "#FFA15A",
           "#19d3f3",
           "#FF6692",
           "#B6E880",
           "#FF97FF",
           "#FECB52"
          ],
          "font": {
           "color": "#2a3f5f"
          },
          "geo": {
           "bgcolor": "white",
           "lakecolor": "white",
           "landcolor": "#E5ECF6",
           "showlakes": true,
           "showland": true,
           "subunitcolor": "white"
          },
          "hoverlabel": {
           "align": "left"
          },
          "hovermode": "closest",
          "mapbox": {
           "style": "light"
          },
          "paper_bgcolor": "white",
          "plot_bgcolor": "#E5ECF6",
          "polar": {
           "angularaxis": {
            "gridcolor": "white",
            "linecolor": "white",
            "ticks": ""
           },
           "bgcolor": "#E5ECF6",
           "radialaxis": {
            "gridcolor": "white",
            "linecolor": "white",
            "ticks": ""
           }
          },
          "scene": {
           "xaxis": {
            "backgroundcolor": "#E5ECF6",
            "gridcolor": "white",
            "gridwidth": 2,
            "linecolor": "white",
            "showbackground": true,
            "ticks": "",
            "zerolinecolor": "white"
           },
           "yaxis": {
            "backgroundcolor": "#E5ECF6",
            "gridcolor": "white",
            "gridwidth": 2,
            "linecolor": "white",
            "showbackground": true,
            "ticks": "",
            "zerolinecolor": "white"
           },
           "zaxis": {
            "backgroundcolor": "#E5ECF6",
            "gridcolor": "white",
            "gridwidth": 2,
            "linecolor": "white",
            "showbackground": true,
            "ticks": "",
            "zerolinecolor": "white"
           }
          },
          "shapedefaults": {
           "line": {
            "color": "#2a3f5f"
           }
          },
          "ternary": {
           "aaxis": {
            "gridcolor": "white",
            "linecolor": "white",
            "ticks": ""
           },
           "baxis": {
            "gridcolor": "white",
            "linecolor": "white",
            "ticks": ""
           },
           "bgcolor": "#E5ECF6",
           "caxis": {
            "gridcolor": "white",
            "linecolor": "white",
            "ticks": ""
           }
          },
          "title": {
           "x": 0.05
          },
          "xaxis": {
           "automargin": true,
           "gridcolor": "white",
           "linecolor": "white",
           "ticks": "",
           "title": {
            "standoff": 15
           },
           "zerolinecolor": "white",
           "zerolinewidth": 2
          },
          "yaxis": {
           "automargin": true,
           "gridcolor": "white",
           "linecolor": "white",
           "ticks": "",
           "title": {
            "standoff": 15
           },
           "zerolinecolor": "white",
           "zerolinewidth": 2
          }
         }
        }
       }
      },
      "image/png": "[encoded data removed]",
      "text/html": [
       "<div>                            <div id=\"bcf6e5a5-269e-4e55-bfcf-f5007203cd79\" class=\"plotly-graph-div\" style=\"height:525px; width:100%;\"></div>            <script type=\"text/javascript\">                require([\"plotly\"], function(Plotly) {                    window.PLOTLYENV=window.PLOTLYENV || {};                                    if (document.getElementById(\"bcf6e5a5-269e-4e55-bfcf-f5007203cd79\")) {                    Plotly.newPlot(                        \"bcf6e5a5-269e-4e55-bfcf-f5007203cd79\",                        [{\"hovertemplate\": \"democrat=%{x}<br>graduate=%{y}<br>livingCost=%{z}<br>group=%{marker.color}<extra></extra>\", \"legendgroup\": \"\", \"marker\": {\"color\": [0, 0, 0, 1, 0, 2, 0, 0, 0, 0, 1, 2, 2, 2, 1, 2, 1, 2, 2, 2, 2, 2, 2, 2, 2, 0, 2, 2, 2, 2, 2, 2, 2, 2, 2, 2, 0, 2, 2, 2, 2, 2, 2, 2, 2, 2, 1, 1, 1, 2, 2, 2, 2, 2, 1, 2, 2, 2, 2, 2, 2, 2, 1, 2, 2, 2, 1, 2, 2, 1, 2, 2, 2, 2, 2, 2, 2, 2, 2, 2, 2, 2, 2, 2, 2, 2, 2, 2, 2, 2, 0, 2, 1, 2, 2, 2, 2, 1, 2, 0, 2, 2, 2, 2, 1, 1, 2, 2, 1, 2, 1, 0, 1, 1, 0, 2, 2, 2, 2, 2, 2, 2, 2, 2, 2, 0, 1, 2, 0, 0, 2, 2, 1, 2, 1, 0, 1, 2, 0, 0, 0, 1, 2, 0, 0, 2, 1, 2, 0, 1, 0, 0, 2, 0, 0, 2, 0, 0, 2, 0, 1, 2, 0, 2, 0, 0, 0, 2, 2, 1, 2, 1, 0, 1, 2, 0, 0, 0, 0, 0, 1, 2, 2, 2, 0, 0, 1, 1, 0, 2, 2, 2, 0, 0, 2, 0, 1, 2, 2, 2, 0, 2, 0, 2, 1, 2, 2, 2, 0, 2, 2, 2, 2, 2, 2, 2, 1, 2, 2, 2, 2, 2, 1, 2, 1, 1, 1, 1, 2, 1, 1, 2, 2, 1, 2, 2, 2, 2, 2, 2, 2, 2, 2, 0, 2, 2, 2, 2, 0, 0, 0, 2, 0, 2, 1, 0, 2, 2, 2, 0, 0, 1, 1, 2, 1, 0, 1, 1, 1, 0, 0, 2, 0, 0, 0, 1, 0, 1, 2, 2, 2, 2, 0, 1, 2, 2, 0, 2, 2, 0, 0, 2, 0, 0, 0, 0, 1, 0, 0, 2, 2, 2, 1, 2, 1, 1, 2, 1, 1, 1, 1, 0, 1, 1, 1, 1, 2, 2, 1, 2, 0, 2, 2, 2, 1, 0, 2, 0, 2, 2, 2, 1, 2, 1, 2, 0, 2, 1, 0, 2, 2, 2, 2, 1, 2, 1, 2, 0, 2, 1, 2, 2, 1, 2, 2, 1, 2, 0, 2, 2, 2, 2, 2, 1, 1, 1, 2, 1, 0, 2, 2, 0, 0, 2, 0, 1, 0, 2, 2, 2, 2, 0, 0, 0, 1, 2, 2, 2, 0, 2, 2, 0, 2, 0, 2, 2, 0, 2, 1, 0, 2, 2, 2, 1, 2, 0, 0, 0, 2, 2, 0, 2, 2, 2, 2, 2, 0, 2, 1, 2, 2, 0, 0, 1, 2, 1, 1, 2, 2, 2, 2, 0, 1, 1, 2, 2, 0, 2, 2, 0, 2, 2, 0, 2, 1, 2, 2, 2, 2, 2, 2, 2, 1, 1, 1, 2, 2, 2, 0, 1, 1, 1, 1, 0, 0, 0, 2, 2, 1, 1, 2, 1, 2, 2, 2, 0, 0, 0, 1, 1, 2, 1, 2, 0, 1, 2], \"coloraxis\": \"coloraxis\", \"symbol\": \"circle\"}, \"mode\": \"markers\", \"name\": \"\", \"scene\": \"scene\", \"showlegend\": false, \"type\": \"scatter3d\", \"x\": [0.7108433734939759, 0.6265060240963856, 0.6265060240963856, 0.6265060240963856, 0.6265060240963856, 0.6746987951807228, 0.6867469879518071, 0.6867469879518071, 0.6867469879518071, 0.6867469879518071, 0.30120481927710835, 0.7228915662650601, 0.7228915662650601, 0.6867469879518071, 0.6867469879518071, 0.7228915662650601, 0.5783132530120481, 0.5783132530120481, 0.5783132530120481, 0.3734939759036144, 0.5783132530120481, 0.3734939759036144, 0.5783132530120481, 0.5301204819277108, 0.43373493975903615, 0.5301204819277108, 0.397590361445783, 0.8072289156626504, 0.34939759036144574, 0.506024096385542, 0.4578313253012048, 0.506024096385542, 0.5180722891566265, 0.506024096385542, 0.43373493975903615, 0.397590361445783, 0.43373493975903615, 0.397590361445783, 0.43373493975903615, 0.6265060240963856, 0.5903614457831323, 0.3734939759036144, 0.46987951807228906, 0.506024096385542, 0.2650602409638554, 0.43373493975903615, 0.43373493975903615, 0.43373493975903615, 0.5783132530120481, 0.46987951807228906, 0.46987951807228906, 0.46987951807228906, 0.46987951807228906, 0.25301204819277107, 0.8433734939759037, 0.3614457831325301, 0.46987951807228906, 0.46987951807228906, 0.48192771084337344, 0.21686746987951805, 0.2650602409638554, 0.30120481927710835, 0.6024096385542168, 0.10843373493975902, 0.4578313253012048, 0.34939759036144574, 0.6144578313253011, 0.506024096385542, 0.3373493975903614, 0.25301204819277107, 0.25301204819277107, 0.4216867469879518, 0.4096385542168674, 0.3734939759036144, 0.18072289156626503, 0.30120481927710835, 0.7108433734939759, 0.6746987951807228, 0.18072289156626503, 0.10843373493975902, 0.5542168674698795, 0.506024096385542, 0.7469879518072289, 0.5542168674698795, 0.19277108433734935, 0.6265060240963856, 0.1566265060240964, 0.6024096385542168, 0.2409638554216867, 0.506024096385542, 0.506024096385542, 0.3734939759036144, 0.506024096385542, 0.3734939759036144, 0.5662650602409638, 0.3734939759036144, 0.5662650602409638, 0.48192771084337344, 0.5662650602409638, 0.506024096385542, 0.5662650602409638, 0.6024096385542168, 0.48192771084337344, 0.5662650602409638, 0.3734939759036144, 0.5662650602409638, 0.5662650602409638, 0.3734939759036144, 0.2891566265060241, 0.27710843373493976, 0.2891566265060241, 0.506024096385542, 0.27710843373493976, 0.506024096385542, 0.506024096385542, 0.2891566265060241, 0.506024096385542, 0.3734939759036144, 0.27710843373493976, 0.397590361445783, 0.397590361445783, 0.397590361445783, 0.397590361445783, 0.397590361445783, 0.6867469879518071, 0.46987951807228906, 0.397590361445783, 0.5180722891566265, 0.397590361445783, 0.46987951807228906, 0.22891566265060237, 0.397590361445783, 0.4216867469879518, 0.397590361445783, 0.4216867469879518, 0.4216867469879518, 0.4216867469879518, 0.30120481927710835, 0.46987951807228906, 0.4216867469879518, 0.46987951807228906, 0.6506024096385541, 0.506024096385542, 0.4216867469879518, 0.7108433734939759, 0.4216867469879518, 0.8192771084337349, 0.46987951807228906, 0.4216867469879518, 0.7108433734939759, 0.4216867469879518, 0.4216867469879518, 0.46987951807228906, 0.7108433734939759, 0.7108433734939759, 0.19277108433734935, 0.7108433734939759, 0.7108433734939759, 0.4216867469879518, 0.46987951807228906, 0.6385542168674698, 0.397590361445783, 0.7108433734939759, 0.4216867469879518, 0.7108433734939759, 0.7108433734939759, 0.7108433734939759, 0.46987951807228906, 0.2409638554216867, 0.6746987951807228, 0.4216867469879518, 0.7108433734939759, 0.7108433734939759, 0.6506024096385541, 0.397590361445783, 0.7108433734939759, 0.7108433734939759, 0.506024096385542, 0.7108433734939759, 0.7108433734939759, 0.6506024096385541, 0.506024096385542, 0.506024096385542, 0.506024096385542, 0.506024096385542, 0.7108433734939759, 0.7108433734939759, 0.506024096385542, 0.7108433734939759, 0.46987951807228906, 0.506024096385542, 0.4457831325301204, 0.506024096385542, 0.506024096385542, 0.1325301204819277, 0.7108433734939759, 0.5662650602409638, 0.506024096385542, 0.25301204819277107, 0.506024096385542, 0.7108433734939759, 0.38554216867469876, 0.7108433734939759, 0.3614457831325301, 0.5421686746987953, 0.30120481927710835, 0.34939759036144574, 0.3373493975903614, 0.5662650602409638, 0.3734939759036144, 0.6024096385542168, 0.5542168674698795, 0.6385542168674698, 0.14457831325301201, 0.20481927710843373, 0.32530120481927705, 0.6144578313253011, 0.32530120481927705, 0.3373493975903614, 0.2409638554216867, 0.34939759036144574, 0.38554216867469876, 0.5542168674698795, 0.5180722891566265, 0.38554216867469876, 0.7710843373493974, 0.5421686746987953, 0.5421686746987953, 0.32530120481927705, 0.7228915662650601, 0.19277108433734935, 0.5783132530120481, 0.2891566265060241, 0.7951807228915662, 0.5542168674698795, 0.3132530120481927, 0.5783132530120481, 0.5180722891566265, 0.3132530120481927, 0.5903614457831323, 0.5542168674698795, 0.5542168674698795, 0.2409638554216867, 0.3614457831325301, 0.4096385542168674, 0.6746987951807228, 0.4578313253012048, 0.48192771084337344, 0.4578313253012048, 0.7108433734939759, 0.7349397590361444, 0.4578313253012048, 0.34939759036144574, 0.3373493975903614, 0.7831325301204819, 0.7469879518072289, 0.6506024096385541, 0.32530120481927705, 0.5903614457831323, 0.506024096385542, 0.7228915662650601, 0.7228915662650601, 0.7228915662650601, 0.4096385542168674, 0.7228915662650601, 0.7349397590361444, 0.8072289156626504, 0.8192771084337349, 0.7349397590361444, 0.46987951807228906, 0.8313253012048192, 0.34939759036144574, 0.7349397590361444, 0.8313253012048192, 0.5180722891566265, 0.8795180722891565, 0.8313253012048192, 0.8313253012048192, 0.6746987951807228, 0.5301204819277108, 0.4096385542168674, 0.6746987951807228, 0.6746987951807228, 0.7951807228915662, 0.46987951807228906, 0.6385542168674698, 0.6385542168674698, 0.5421686746987953, 0.5421686746987953, 0.6265060240963856, 0.6265060240963856, 0.397590361445783, 0.6385542168674698, 0.5662650602409638, 0.7349397590361444, 0.5662650602409638, 0.5542168674698795, 0.8795180722891565, 0.5662650602409638, 0.34939759036144574, 0.34939759036144574, 0.5542168674698795, 0.7349397590361444, 0.3373493975903614, 0.5662650602409638, 0.7108433734939759, 0.3614457831325301, 0.7108433734939759, 0.9759036144578312, 0.5903614457831323, 0.48192771084337344, 0.963855421686747, 0.6144578313253011, 0.46987951807228906, 0.3614457831325301, 0.963855421686747, 0.4578313253012048, 0.27710843373493976, 0.7349397590361444, 0.5903614457831323, 0.963855421686747, 0.5903614457831323, 0.506024096385542, 0.6867469879518071, 0.5662650602409638, 0.927710843373494, 0.3132530120481927, 0.4457831325301204, 0.48192771084337344, 0.4939759036144578, 0.4939759036144578, 0.5180722891566265, 0.3614457831325301, 0.6746987951807228, 0.4939759036144578, 0.43373493975903615, 0.5542168674698795, 0.7710843373493974, 0.6746987951807228, 0.4939759036144578, 0.6024096385542168, 0.4216867469879518, 0.4939759036144578, 0.5542168674698795, 0.5542168674698795, 0.4939759036144578, 0.4578313253012048, 0.9036144578313252, 0.3734939759036144, 0.46987951807228906, 0.6024096385542168, 0.34939759036144574, 0.7228915662650601, 0.3614457831325301, 0.3734939759036144, 0.7228915662650601, 0.48192771084337344, 0.6987951807228916, 0.0, 0.506024096385542, 0.46987951807228906, 0.4457831325301204, 0.38554216867469876, 0.5662650602409638, 0.6385542168674698, 0.6385542168674698, 0.34939759036144574, 0.4939759036144578, 0.2891566265060241, 0.5180722891566265, 0.506024096385542, 0.6746987951807228, 0.8674698795180722, 0.4939759036144578, 0.891566265060241, 0.8072289156626504, 0.8072289156626504, 0.34939759036144574, 0.34939759036144574, 0.46987951807228906, 0.46987951807228906, 0.9759036144578312, 0.6385542168674698, 0.6024096385542168, 0.4939759036144578, 0.3734939759036144, 0.5662650602409638, 0.6385542168674698, 0.4939759036144578, 0.19277108433734935, 0.4457831325301204, 0.9518072289156627, 0.6385542168674698, 0.7108433734939759, 0.5542168674698795, 0.4939759036144578, 0.9518072289156627, 0.5542168674698795, 0.4939759036144578, 0.6024096385542168, 0.6506024096385541, 0.4939759036144578, 0.3132530120481927, 0.48192771084337344, 0.48192771084337344, 1.0, 0.891566265060241, 0.7710843373493974, 0.5783132530120481, 0.48192771084337344, 0.4939759036144578, 0.4096385542168674, 0.5783132530120481, 0.6867469879518071, 0.4457831325301204, 0.397590361445783, 0.7108433734939759, 0.506024096385542, 0.6987951807228916, 0.5542168674698795, 0.48192771084337344, 0.7590361445783131, 0.7590361445783131, 0.8192771084337349, 0.5180722891566265, 0.7590361445783131, 0.6385542168674698, 0.506024096385542, 0.506024096385542, 0.5542168674698795, 0.46987951807228906, 0.6385542168674698, 0.6506024096385541, 0.5301204819277108, 0.4939759036144578, 0.6385542168674698, 0.5662650602409638, 0.5662650602409638, 0.43373493975903615, 0.5301204819277108, 0.2650602409638554, 0.6506024096385541, 0.6867469879518071, 0.6024096385542168, 0.7349397590361444, 0.5783132530120481, 0.5783132530120481, 0.5542168674698795, 0.1566265060240964, 0.4216867469879518, 0.2409638554216867, 0.397590361445783, 0.4939759036144578, 0.6024096385542168, 0.4216867469879518, 0.2891566265060241, 0.4578313253012048, 0.46987951807228906, 0.4457831325301204, 0.6867469879518071, 0.6385542168674698, 0.5783132530120481, 0.7951807228915662, 0.7951807228915662, 0.5783132530120481, 0.46987951807228906, 0.3373493975903614, 0.38554216867469876, 0.6506024096385541, 0.5783132530120481, 0.4457831325301204, 0.5783132530120481, 0.5301204819277108, 0.5301204819277108, 0.7108433734939759, 0.7108433734939759, 0.7108433734939759, 0.7108433734939759, 0.7108433734939759, 0.7108433734939759, 0.43373493975903615, 0.7108433734939759, 0.5662650602409638, 0.5662650602409638, 0.5421686746987953, 0.3734939759036144], \"y\": [0.3561643835616438, 0.16438356164383564, 0.2465753424657534, 0.5890410958904109, 0.136986301369863, 0.1780821917808219, 0.3013698630136986, 0.3972602739726028, 0.2876712328767123, 0.3972602739726028, 0.6027397260273972, 0.273972602739726, 0.3013698630136986, 0.2465753424657534, 0.4520547945205479, 0.31506849315068497, 0.6301369863013699, 0.41095890410958896, 0.2876712328767123, 0.1917808219178082, 0.2054794520547945, 0.2602739726027397, 0.3698630136986301, 0.2602739726027397, 0.3561643835616438, 0.136986301369863, 0.2328767123287671, 0.16438356164383564, 0.3698630136986301, 0.3287671232876712, 0.2054794520547945, 0.1917808219178082, 0.3972602739726028, 0.3561643835616438, 0.1780821917808219, 0.2054794520547945, 0.2876712328767123, 0.2602739726027397, 0.0821917808219178, 0.136986301369863, 0.3835616438356164, 0.2602739726027397, 0.2054794520547945, 0.2602739726027397, 0.4794520547945205, 0.0958904109589041, 0.6301369863013699, 0.5342465753424657, 0.5205479452054793, 0.136986301369863, 0.1095890410958904, 0.3424657534246575, 0.2876712328767123, 0.4246575342465753, 0.3972602739726028, 0.3698630136986301, 0.1780821917808219, 0.2054794520547945, 0.2602739726027397, 0.2465753424657534, 0.3698630136986301, 0.2465753424657534, 0.547945205479452, 0.1917808219178082, 0.2876712328767123, 0.3561643835616438, 0.5890410958904109, 0.3972602739726028, 0.4520547945205479, 0.7123287671232876, 0.31506849315068497, 0.2876712328767123, 0.2602739726027397, 0.1917808219178082, 0.1917808219178082, 0.1917808219178082, 0.2054794520547945, 0.2465753424657534, 0.16438356164383564, 0.2602739726027397, 0.273972602739726, 0.273972602739726, 0.273972602739726, 0.3972602739726028, 0.3287671232876712, 0.3561643835616438, 0.2328767123287671, 0.2054794520547945, 0.2191780821917808, 0.2876712328767123, 0.31506849315068497, 0.16438356164383564, 0.5068493150684932, 0.3424657534246575, 0.2191780821917808, 0.2876712328767123, 0.136986301369863, 0.5890410958904109, 0.3424657534246575, 0.2054794520547945, 0.3835616438356164, 0.136986301369863, 0.1917808219178082, 0.2191780821917808, 0.6712328767123288, 0.6164383561643836, 0.4246575342465753, 0.31506849315068497, 0.6438356164383561, 0.3561643835616438, 0.6575342465753424, 0.2191780821917808, 0.7534246575342465, 0.6164383561643836, 0.3013698630136986, 0.5753424657534245, 0.1917808219178082, 0.4246575342465753, 0.4246575342465753, 0.4794520547945205, 0.4794520547945205, 0.273972602739726, 0.4657534246575343, 0.3013698630136986, 0.2191780821917808, 0.3835616438356164, 0.6849315068493151, 0.2602739726027397, 0.2191780821917808, 0.2876712328767123, 0.31506849315068497, 0.3287671232876712, 0.6164383561643836, 0.31506849315068497, 0.4794520547945205, 0.41095890410958896, 0.8493150684931507, 0.2602739726027397, 0.12328767123287673, 0.0821917808219178, 0.0684931506849315, 0.5753424657534245, 0.3287671232876712, 0.2191780821917808, 0.3287671232876712, 0.1780821917808219, 0.9178082191780821, 0.027397260273972615, 0.3972602739726028, 0.5342465753424657, 0.2465753424657534, 0.4520547945205479, 0.3013698630136986, 0.0547945205479452, 0.136986301369863, 0.2465753424657534, 0.1780821917808219, 0.2465753424657534, 0.273972602739726, 0.1506849315068493, 0.5342465753424657, 0.43835616438356156, 0.027397260273972615, 0.2191780821917808, 0.1780821917808219, 0.0, 0.2876712328767123, 0.2602739726027397, 0.5068493150684932, 0.5068493150684932, 0.5205479452054793, 0.821917808219178, 0.0821917808219178, 0.7123287671232876, 0.43835616438356156, 0.3698630136986301, 0.1506849315068493, 0.12328767123287673, 0.0958904109589041, 0.2602739726027397, 0.8082191780821917, 0.136986301369863, 0.3698630136986301, 0.0410958904109589, 0.0821917808219178, 0.43835616438356156, 0.6712328767123288, 0.5890410958904109, 0.4657534246575343, 0.3698630136986301, 0.1506849315068493, 0.49315068493150677, 0.3972602739726028, 0.3287671232876712, 0.2191780821917808, 0.3835616438356164, 0.5068493150684932, 0.0684931506849315, 0.2191780821917808, 0.0958904109589041, 0.12328767123287673, 0.1780821917808219, 0.12328767123287673, 0.49315068493150677, 0.4657534246575343, 0.5205479452054793, 0.2876712328767123, 0.31506849315068497, 0.0958904109589041, 0.2876712328767123, 0.2465753424657534, 0.3972602739726028, 0.2602739726027397, 0.273972602739726, 0.2328767123287671, 0.5205479452054793, 0.4794520547945205, 0.2328767123287671, 0.2191780821917808, 0.1780821917808219, 0.3287671232876712, 0.3287671232876712, 0.547945205479452, 0.3972602739726028, 0.6164383561643836, 0.5205479452054793, 0.5753424657534245, 0.7808219178082192, 0.4246575342465753, 0.9726027397260273, 0.7534246575342465, 0.31506849315068497, 0.3424657534246575, 0.5890410958904109, 0.3424657534246575, 0.3561643835616438, 0.41095890410958896, 0.3972602739726028, 0.3424657534246575, 0.4246575342465753, 0.2328767123287671, 0.16438356164383564, 0.4246575342465753, 0.3013698630136986, 0.2465753424657534, 0.0958904109589041, 0.1917808219178082, 0.3287671232876712, 0.3013698630136986, 0.1917808219178082, 0.2876712328767123, 0.3835616438356164, 0.0410958904109589, 0.2876712328767123, 0.6438356164383561, 0.2191780821917808, 0.273972602739726, 0.273972602739726, 0.273972602739726, 0.136986301369863, 0.4520547945205479, 0.6712328767123288, 0.7397260273972601, 0.3698630136986301, 1.0, 0.4657534246575343, 0.41095890410958896, 0.6164383561643836, 0.5342465753424657, 0.16438356164383564, 0.3013698630136986, 0.31506849315068497, 0.3424657534246575, 0.3013698630136986, 0.1917808219178082, 0.6712328767123288, 0.4657534246575343, 0.8904109589041094, 0.273972602739726, 0.1780821917808219, 0.1780821917808219, 0.3561643835616438, 0.2465753424657534, 0.6027397260273972, 0.5068493150684932, 0.2465753424657534, 0.273972602739726, 0.2191780821917808, 0.1780821917808219, 0.31506849315068497, 0.3972602739726028, 0.49315068493150677, 0.2054794520547945, 0.3972602739726028, 0.3424657534246575, 0.3287671232876712, 0.6712328767123288, 0.3424657534246575, 0.3287671232876712, 0.41095890410958896, 0.4246575342465753, 0.2191780821917808, 0.8082191780821917, 0.4246575342465753, 0.6712328767123288, 0.9178082191780821, 0.5616438356164384, 0.9589041095890409, 0.6575342465753424, 0.49315068493150677, 0.6986301369863015, 0.3287671232876712, 0.6438356164383561, 0.5616438356164384, 0.726027397260274, 0.5753424657534245, 0.2876712328767123, 0.3013698630136986, 0.7671232876712328, 0.16438356164383564, 0.4657534246575343, 0.3698630136986301, 0.3561643835616438, 0.136986301369863, 0.6849315068493151, 0.3013698630136986, 0.12328767123287673, 0.4246575342465753, 0.2191780821917808, 0.3424657534246575, 0.2328767123287671, 0.5342465753424657, 0.12328767123287673, 0.6712328767123288, 0.4246575342465753, 0.3561643835616438, 0.3013698630136986, 0.547945205479452, 0.3561643835616438, 0.1780821917808219, 0.31506849315068497, 0.43835616438356156, 0.4520547945205479, 0.4520547945205479, 0.273972602739726, 0.5890410958904109, 0.136986301369863, 0.2602739726027397, 0.3698630136986301, 0.547945205479452, 0.3972602739726028, 0.0684931506849315, 0.9178082191780821, 0.1780821917808219, 0.2876712328767123, 0.43835616438356156, 0.2054794520547945, 0.0684931506849315, 0.43835616438356156, 0.1917808219178082, 0.0410958904109589, 0.2465753424657534, 0.2602739726027397, 0.4520547945205479, 0.5068493150684932, 0.4520547945205479, 0.4794520547945205, 0.6575342465753424, 0.2054794520547945, 0.1506849315068493, 0.2602739726027397, 0.0684931506849315, 0.2328767123287671, 0.3561643835616438, 0.41095890410958896, 0.5068493150684932, 0.0958904109589041, 0.1095890410958904, 0.547945205479452, 0.1506849315068493, 0.4246575342465753, 0.136986301369863, 0.0958904109589041, 0.3424657534246575, 0.5753424657534245, 0.273972602739726, 0.1917808219178082, 0.0821917808219178, 0.16438356164383564, 0.1917808219178082, 0.3835616438356164, 0.41095890410958896, 0.2191780821917808, 0.136986301369863, 0.273972602739726, 0.2602739726027397, 0.12328767123287673, 0.2876712328767123, 0.6027397260273972, 0.1095890410958904, 0.16438356164383564, 0.3013698630136986, 0.1095890410958904, 0.821917808219178, 0.31506849315068497, 0.1506849315068493, 0.3013698630136986, 0.41095890410958896, 0.3698630136986301, 0.2465753424657534, 0.16438356164383564, 0.1780821917808219, 0.2191780821917808, 0.3972602739726028, 0.12328767123287673, 0.4520547945205479, 0.3287671232876712, 0.2054794520547945, 0.8630136986301371, 0.3835616438356164, 0.2328767123287671, 0.273972602739726, 0.1095890410958904, 0.5205479452054793, 0.16438356164383564, 0.43835616438356156, 0.9452054794520546, 0.1506849315068493, 0.3013698630136986, 0.2602739726027397, 0.2602739726027397, 0.2191780821917808, 0.43835616438356156, 0.726027397260274, 0.16438356164383564, 0.273972602739726, 0.1917808219178082, 0.2876712328767123, 0.3287671232876712, 0.3013698630136986, 0.4246575342465753, 0.0821917808219178, 0.2328767123287671, 0.273972602739726, 0.6712328767123288, 0.2602739726027397, 0.0821917808219178, 0.0821917808219178, 0.273972602739726, 0.3561643835616438, 0.2191780821917808, 0.4657534246575343, 0.5068493150684932, 0.4520547945205479, 0.4794520547945205, 0.31506849315068497, 0.3698630136986301, 0.2465753424657534, 0.3013698630136986, 0.4794520547945205, 0.5753424657534245, 0.547945205479452, 0.547945205479452, 0.1917808219178082, 0.3698630136986301, 0.2876712328767123, 0.3287671232876712, 0.1506849315068493, 0.41095890410958896, 0.6438356164383561, 0.4794520547945205, 0.4794520547945205, 0.2465753424657534, 0.2602739726027397, 0.2191780821917808, 0.2602739726027397, 0.2465753424657534, 0.31506849315068497, 0.726027397260274, 0.8082191780821917, 0.2876712328767123, 0.5068493150684932, 0.3287671232876712, 0.1917808219178082, 0.4246575342465753, 0.3972602739726028], \"z\": [0.7726830533757053, 0.24161748492120105, 0.24161748492120105, 0.24161748492120105, 0.24161748492120105, 0.017056877877942744, 0.2307218366949867, 0.2375316168363707, 0.4074842726506258, 0.2573124067708671, 0.09828782670730918, 0.0, 0.0, 0.1337635384914715, 0.2375316168363707, 0.0, 0.1283157143783643, 0.1337635384914715, 0.1337635384914715, 0.10101173876386271, 0.18019975355081386, 0.2573124067708671, 0.1283157143783643, 0.08735975095661197, 0.18019975355081386, 0.2573124067708671, 0.09828782670730918, 0.04640378753485952, 0.16174849212011155, 0.10509760684869318, 0.12218691225111877, 0.1283157143783643, 0.10509760684869318, 0.10509760684869318, 0.060055775342110373, 0.1283157143783643, 0.4498346196251378, 0.08054997081522797, 0.10101173876386271, 0.14401063622803034, 0.14401063622803034, 0.10853492444386792, 0.1337635384914715, 0.07030287307866911, 0.10305467280627789, 0.11874959465594392, 0.10305467280627789, 0.10785394642972956, 0.13103962643491796, 0.09420195862247871, 0.09624489266489389, 0.14196770218561516, 0.10101173876386271, 0.09420195862247871, 0.10785394642972956, 0.10785394642972956, 0.10785394642972956, 0.09896880472144753, 0.1522147999221739, 0.07370776314936112, 0.10577858486283154, 0.1215059342369803, 0.12422984629353395, 0.09624489266489389, 0.15425773396458908, 0.060055775342110373, 0.09420195862247871, 0.09624489266489389, 0.10714054089110836, 0.09420195862247871, 0.08054997081522797, 0.10033076074972436, 0.09488293663661718, 0.07506971917763794, 0.07030287307866911, 0.10169271677800118, 0.09144561904144233, 0.10101173876386271, 0.14741552629872234, 0.1303586484207795, 0.10101173876386271, 0.10989688047214474, 0.10853492444386792, 0.05324599520072637, 0.10853492444386792, 0.11193981451455992, 0.11330177054283674, 0.08191192684350479, 0.15834360204941955, 0.09076464102730397, 0.44163045593099415, 0.16654776574356311, 0.44163045593099415, 0.017056877877942744, 0.13583890005836952, 0.16586678772942476, 0.13583890005836952, 0.16246189765873276, 0.13583890005836952, 0.44163045593099415, 0.13583890005836952, 0.060055775342110373, 0.16246189765873276, 0.10785394642972956, 0.1283157143783643, 0.13583890005836952, 0.13583890005836952, 0.10101173876386271, 0.18156170957909068, 0.11262079252869828, 0.07030287307866911, 0.44163045593099415, 0.19861858745703354, 0.44163045593099415, 0.44163045593099415, 0.11466372657111357, 0.13103962643491796, 0.07370776314936112, 0.05937479732797191, 0.10785394642972956, 0.10101173876386271, 0.11193981451455992, 0.07506971917763794, 0.11193981451455992, 0.06618457746935591, 0.4750632336727413, 0.11193981451455992, 0.09896880472144753, 0.4074842726506258, 0.4750632336727413, 0.07643167520591476, 0.14264868019975352, 0.4750632336727413, 0.10101173876386271, 0.39999351449510345, 0.4750632336727413, 0.4750632336727413, 0.1064595628769699, 0.4750632336727413, 0.4750632336727413, 0.4750632336727413, 0.16654776574356311, 0.08735975095661197, 0.4750632336727413, 0.4074842726506258, 0.24437382450223744, 0.09556391465075553, 0.14264868019975352, 0.4750632336727413, 0.4074842726506258, 0.4750632336727413, 0.4750632336727413, 0.09624489266489389, 0.4074842726506258, 0.462092223879629, 0.06346066541280238, 0.4074842726506258, 0.4074842726506258, 0.08735975095661197, 0.5481224463324469, 0.08463583890005832, 0.08735975095661197, 0.4074842726506258, 0.08735975095661197, 0.4074842726506258, 0.4074842726506258, 0.4074842726506258, 0.2887346779946819, 0.08395486088591997, 0.12286789026525713, 0.08735975095661197, 0.4750632336727413, 0.4074842726506258, 0.16654776574356311, 0.08735975095661197, 0.4074842726506258, 0.4074842726506258, 0.2675595045074258, 0.4074842726506258, 0.4074842726506258, 0.08531681691419679, 0.24437382450223744, 0.2648355924508723, 0.24437382450223744, 0.44163045593099415, 0.4074842726506258, 0.4074842726506258, 0.4750632336727413, 0.4074842726506258, 0.0900836630131655, 0.06825993903625394, 0.1488099098514819, 0.5481224463324469, 0.4750632336727413, 0.13103962643491796, 0.4750632336727413, 0.4750632336727413, 0.2375316168363707, 0.07098385109280758, 0.22387962902911984, 0.4074842726506258, 0.10305467280627789, 0.4074842726506258, 0.10921590245800628, 0.13515792204423116, 0.13583890005836952, 0.1631428756728711, 0.05324599520072637, 0.4750632336727413, 0.11534470458525192, 0.08191192684350479, 0.10305467280627789, 0.05869381931383355, 0.0757506971917764, 0.06894091705039229, 0.03819962384071596, 0.12763473636422595, 0.12763473636422595, 0.1958946754004799, 0.025942019586224774, 0.12763473636422595, 0.06689798300797711, 0.15425773396458908, 0.13583890005836952, 0.12559180232181077, 0.1488099098514819, 0.1064595628769699, 0.1215059342369803, 0.11262079252869828, 0.0934885530838575, 0.12218691225111877, 0.22524158505739666, 0.06825993903625394, 0.0934885530838575, 0.20818470717945392, 0.055969907257279905, 0.22524158505739666, 0.1283157143783643, 0.055969907257279905, 0.11262079252869828, 0.20818470717945392, 0.20818470717945392, 0.1488099098514819, 0.4750632336727413, 0.11193981451455992, 0.07915558726246841, 0.2177508269018743, 0.14196770218561516, 0.4750632336727413, 0.14196770218561516, 0.1378818341007847, 0.1378818341007847, 0.4750632336727413, 0.08123094882936632, 0.4750632336727413, 0.1378818341007847, 0.1378818341007847, 0.08599779492833515, 0.09144561904144233, 0.4750632336727413, 0.655295414748038, 0.4750632336727413, 0.44915364161099935, 0.08735975095661197, 0.4969193851741357, 0.655295414748038, 0.11874959465594392, 0.4750632336727413, 0.44163045593099415, 0.4750632336727413, 0.4498346196251378, 0.09280757506971915, 0.5037615928400027, 0.44163045593099415, 0.32352941176470584, 0.655295414748038, 0.4498346196251378, 0.4498346196251378, 0.11874959465594392, 0.2484596925870679, 0.10169271677800118, 0.12763473636422595, 0.33309553148712623, 0.1754004799273623, 0.08395486088591997, 0.12967767040664113, 0.4750632336727413, 0.11262079252869828, 0.03547571178416242, 0.4750632336727413, 0.3877034827161294, 0.16246189765873276, 0.4750632336727413, 0.4750632336727413, 0.4750632336727413, 0.26551657046501065, 0.09964978273558589, 0.09964978273558589, 0.37745638497957057, 0.3535897269602438, 0.09420195862247871, 0.09964978273558589, 0.45119657565341453, 0.12422984629353395, 0.3877034827161294, 0.12627278033594913, 0.07370776314936112, 0.408197678189247, 0.45119657565341453, 0.10853492444386792, 0.11193981451455992, 0.10921590245800628, 0.07370776314936112, 0.21706984888773584, 0.08054997081522797, 0.3808937025747454, 0.10305467280627789, 0.13651987807250787, 0.3535897269602438, 0.10853492444386792, 0.37405149490887857, 0.12011155068422075, 0.09556391465075553, 0.12011155068422075, 0.20409883909462345, 0.23344574875154023, 0.1378818341007847, 0.3535897269602438, 0.13720085608664634, 0.17679486348012186, 0.17679486348012186, 0.16927167780011676, 0.09076464102730397, 0.1829236656073675, 0.20818470717945392, 0.4750632336727413, 0.20818470717945392, 0.20818470717945392, 0.19998054348531025, 0.1215059342369803, 0.09760684869317071, 0.0921265970555808, 0.2034178610804851, 0.19657565341461825, 0.19657565341461825, 0.2034178610804851, 0.0921265970555808, 0.29622543615020425, 0.2921395680653739, 0.1631428756728711, 0.08191192684350479, 0.1631428756728711, 0.27167780011673903, 0.1631428756728711, 0.30579155587262463, 0.22387962902911984, 0.0900836630131655, 0.24437382450223744, 0.06689798300797711, 0.1446916142421687, 0.1631428756728711, 0.06618457746935591, 0.1488099098514819, 0.1610675141059731, 0.2914585900512354, 0.2914585900512354, 0.16654776574356311, 0.1488099098514819, 0.4750632336727413, 0.1795187755366755, 0.1795187755366755, 0.3262857513457422, 0.6696283805694273, 0.14264868019975352, 0.9999999999999999, 0.34538556326610026, 0.3262857513457422, 0.09556391465075553, 0.13924379012906152, 0.1215059342369803, 0.10509760684869318, 0.6696283805694273, 0.34538556326610026, 0.5583695440690056, 0.462092223879629, 0.07030287307866911, 0.1795187755366755, 0.03275179972760878, 0.462092223879629, 0.060055775342110373, 0.09964978273558589, 0.3808937025747454, 0.1631428756728711, 0.16586678772942476, 0.1556196899928659, 0.16382385368700947, 0.3603995071016278, 0.0866787729424735, 0.16382385368700947, 0.3808937025747454, 0.10785394642972956, 0.08463583890005832, 0.08463583890005832, 0.11262079252869828, 0.20818470717945392, 0.3228484337505675, 0.31467669758090666, 0.2552694727284519, 0.10577858486283154, 0.16927167780011676, 0.3808937025747454, 0.0921265970555808, 0.12559180232181077, 0.11466372657111357, 0.10853492444386792, 0.11330177054283674, 0.2245606070432583, 0.10033076074972436, 0.09828782670730918, 0.04844672157727481, 0.06825993903625394, 0.11943057267008239, 0.11943057267008239, 0.43070238018029705, 0.16382385368700947, 0.11943057267008239, 0.4696154095596342, 0.03275179972760878, 0.09420195862247871, 0.19657565341461825, 0.05324599520072637, 0.40135547052338016, 0.24366041896361623, 0.16586678772942476, 0.13515792204423116, 0.05324599520072637, 0.24366041896361623, 0.12559180232181077, 0.10785394642972956, 0.2744017121732927, 0.15834360204941955, 0.019099811920357923, 0.15834360204941955, 0.1829236656073675, 0.19180880731564953, 0.16586678772942476, 0.03275179972760878, 0.07915558726246841, 0.03547571178416242, 0.03275179972760878, 0.10509760684869318, 0.09280757506971915, 0.16586678772942476, 0.3501524093650691, 0.3501524093650691, 0.05324599520072637, 0.10785394642972956, 0.11602568259939039, 0.3501524093650691, 0.19793760944289507, 0.20409883909462345, 0.3501524093650691, 0.3501524093650691, 0.3501524093650691, 0.3501524093650691, 0.3501524093650691, 0.16995265581425512, 0.12286789026525713, 0.1556196899928659, 0.16995265581425512, 0.1283157143783643, 0.15766262403528108, 0.2102276412218691, 0.17747584149426032, 0.11193981451455992, 0.22387962902911984, 0.22387962902911984, 0.17679486348012186, 0.3815746805888838, 0.23480770477981705, 0.09896880472144753, 0.2375316168363707, 0.2375316168363707, 0.23480770477981705, 0.24641675854465261, 0.3801802970361242]}],                        {\"coloraxis\": {\"colorbar\": {\"title\": {\"text\": \"group\"}}, \"colorscale\": [[0.0, \"#0d0887\"], [0.1111111111111111, \"#46039f\"], [0.2222222222222222, \"#7201a8\"], [0.3333333333333333, \"#9c179e\"], [0.4444444444444444, \"#bd3786\"], [0.5555555555555556, \"#d8576b\"], [0.6666666666666666, \"#ed7953\"], [0.7777777777777778, \"#fb9f3a\"], [0.8888888888888888, \"#fdca26\"], [1.0, \"#f0f921\"]]}, \"legend\": {\"tracegroupgap\": 0}, \"margin\": {\"t\": 60}, \"scene\": {\"domain\": {\"x\": [0.0, 1.0], \"y\": [0.0, 1.0]}, \"xaxis\": {\"title\": {\"text\": \"democrat\"}}, \"yaxis\": {\"title\": {\"text\": \"graduate\"}}, \"zaxis\": {\"title\": {\"text\": \"livingCost\"}, \"type\": \"log\"}}, \"template\": {\"data\": {\"bar\": [{\"error_x\": {\"color\": \"#2a3f5f\"}, \"error_y\": {\"color\": \"#2a3f5f\"}, \"marker\": {\"line\": {\"color\": \"#E5ECF6\", \"width\": 0.5}}, \"type\": \"bar\"}], \"barpolar\": [{\"marker\": {\"line\": {\"color\": \"#E5ECF6\", \"width\": 0.5}}, \"type\": \"barpolar\"}], \"carpet\": [{\"aaxis\": {\"endlinecolor\": \"#2a3f5f\", \"gridcolor\": \"white\", \"linecolor\": \"white\", \"minorgridcolor\": \"white\", \"startlinecolor\": \"#2a3f5f\"}, \"baxis\": {\"endlinecolor\": \"#2a3f5f\", \"gridcolor\": \"white\", \"linecolor\": \"white\", \"minorgridcolor\": \"white\", \"startlinecolor\": \"#2a3f5f\"}, \"type\": \"carpet\"}], \"choropleth\": [{\"colorbar\": {\"outlinewidth\": 0, \"ticks\": \"\"}, \"type\": \"choropleth\"}], \"contour\": [{\"colorbar\": {\"outlinewidth\": 0, \"ticks\": \"\"}, \"colorscale\": [[0.0, \"#0d0887\"], [0.1111111111111111, \"#46039f\"], [0.2222222222222222, \"#7201a8\"], [0.3333333333333333, \"#9c179e\"], [0.4444444444444444, \"#bd3786\"], [0.5555555555555556, \"#d8576b\"], [0.6666666666666666, \"#ed7953\"], [0.7777777777777778, \"#fb9f3a\"], [0.8888888888888888, \"#fdca26\"], [1.0, \"#f0f921\"]], \"type\": \"contour\"}], \"contourcarpet\": [{\"colorbar\": {\"outlinewidth\": 0, \"ticks\": \"\"}, \"type\": \"contourcarpet\"}], \"heatmap\": [{\"colorbar\": {\"outlinewidth\": 0, \"ticks\": \"\"}, \"colorscale\": [[0.0, \"#0d0887\"], [0.1111111111111111, \"#46039f\"], [0.2222222222222222, \"#7201a8\"], [0.3333333333333333, \"#9c179e\"], [0.4444444444444444, \"#bd3786\"], [0.5555555555555556, \"#d8576b\"], [0.6666666666666666, \"#ed7953\"], [0.7777777777777778, \"#fb9f3a\"], [0.8888888888888888, \"#fdca26\"], [1.0, \"#f0f921\"]], \"type\": \"heatmap\"}], \"heatmapgl\": [{\"colorbar\": {\"outlinewidth\": 0, \"ticks\": \"\"}, \"colorscale\": [[0.0, \"#0d0887\"], [0.1111111111111111, \"#46039f\"], [0.2222222222222222, \"#7201a8\"], [0.3333333333333333, \"#9c179e\"], [0.4444444444444444, \"#bd3786\"], [0.5555555555555556, \"#d8576b\"], [0.6666666666666666, \"#ed7953\"], [0.7777777777777778, \"#fb9f3a\"], [0.8888888888888888, \"#fdca26\"], [1.0, \"#f0f921\"]], \"type\": \"heatmapgl\"}], \"histogram\": [{\"marker\": {\"colorbar\": {\"outlinewidth\": 0, \"ticks\": \"\"}}, \"type\": \"histogram\"}], \"histogram2d\": [{\"colorbar\": {\"outlinewidth\": 0, \"ticks\": \"\"}, \"colorscale\": [[0.0, \"#0d0887\"], [0.1111111111111111, \"#46039f\"], [0.2222222222222222, \"#7201a8\"], [0.3333333333333333, \"#9c179e\"], [0.4444444444444444, \"#bd3786\"], [0.5555555555555556, \"#d8576b\"], [0.6666666666666666, \"#ed7953\"], [0.7777777777777778, \"#fb9f3a\"], [0.8888888888888888, \"#fdca26\"], [1.0, \"#f0f921\"]], \"type\": \"histogram2d\"}], \"histogram2dcontour\": [{\"colorbar\": {\"outlinewidth\": 0, \"ticks\": \"\"}, \"colorscale\": [[0.0, \"#0d0887\"], [0.1111111111111111, \"#46039f\"], [0.2222222222222222, \"#7201a8\"], [0.3333333333333333, \"#9c179e\"], [0.4444444444444444, \"#bd3786\"], [0.5555555555555556, \"#d8576b\"], [0.6666666666666666, \"#ed7953\"], [0.7777777777777778, \"#fb9f3a\"], [0.8888888888888888, \"#fdca26\"], [1.0, \"#f0f921\"]], \"type\": \"histogram2dcontour\"}], \"mesh3d\": [{\"colorbar\": {\"outlinewidth\": 0, \"ticks\": \"\"}, \"type\": \"mesh3d\"}], \"parcoords\": [{\"line\": {\"colorbar\": {\"outlinewidth\": 0, \"ticks\": \"\"}}, \"type\": \"parcoords\"}], \"pie\": [{\"automargin\": true, \"type\": \"pie\"}], \"scatter\": [{\"marker\": {\"colorbar\": {\"outlinewidth\": 0, \"ticks\": \"\"}}, \"type\": \"scatter\"}], \"scatter3d\": [{\"line\": {\"colorbar\": {\"outlinewidth\": 0, \"ticks\": \"\"}}, \"marker\": {\"colorbar\": {\"outlinewidth\": 0, \"ticks\": \"\"}}, \"type\": \"scatter3d\"}], \"scattercarpet\": [{\"marker\": {\"colorbar\": {\"outlinewidth\": 0, \"ticks\": \"\"}}, \"type\": \"scattercarpet\"}], \"scattergeo\": [{\"marker\": {\"colorbar\": {\"outlinewidth\": 0, \"ticks\": \"\"}}, \"type\": \"scattergeo\"}], \"scattergl\": [{\"marker\": {\"colorbar\": {\"outlinewidth\": 0, \"ticks\": \"\"}}, \"type\": \"scattergl\"}], \"scattermapbox\": [{\"marker\": {\"colorbar\": {\"outlinewidth\": 0, \"ticks\": \"\"}}, \"type\": \"scattermapbox\"}], \"scatterpolar\": [{\"marker\": {\"colorbar\": {\"outlinewidth\": 0, \"ticks\": \"\"}}, \"type\": \"scatterpolar\"}], \"scatterpolargl\": [{\"marker\": {\"colorbar\": {\"outlinewidth\": 0, \"ticks\": \"\"}}, \"type\": \"scatterpolargl\"}], \"scatterternary\": [{\"marker\": {\"colorbar\": {\"outlinewidth\": 0, \"ticks\": \"\"}}, \"type\": \"scatterternary\"}], \"surface\": [{\"colorbar\": {\"outlinewidth\": 0, \"ticks\": \"\"}, \"colorscale\": [[0.0, \"#0d0887\"], [0.1111111111111111, \"#46039f\"], [0.2222222222222222, \"#7201a8\"], [0.3333333333333333, \"#9c179e\"], [0.4444444444444444, \"#bd3786\"], [0.5555555555555556, \"#d8576b\"], [0.6666666666666666, \"#ed7953\"], [0.7777777777777778, \"#fb9f3a\"], [0.8888888888888888, \"#fdca26\"], [1.0, \"#f0f921\"]], \"type\": \"surface\"}], \"table\": [{\"cells\": {\"fill\": {\"color\": \"#EBF0F8\"}, \"line\": {\"color\": \"white\"}}, \"header\": {\"fill\": {\"color\": \"#C8D4E3\"}, \"line\": {\"color\": \"white\"}}, \"type\": \"table\"}]}, \"layout\": {\"annotationdefaults\": {\"arrowcolor\": \"#2a3f5f\", \"arrowhead\": 0, \"arrowwidth\": 1}, \"coloraxis\": {\"colorbar\": {\"outlinewidth\": 0, \"ticks\": \"\"}}, \"colorscale\": {\"diverging\": [[0, \"#8e0152\"], [0.1, \"#c51b7d\"], [0.2, \"#de77ae\"], [0.3, \"#f1b6da\"], [0.4, \"#fde0ef\"], [0.5, \"#f7f7f7\"], [0.6, \"#e6f5d0\"], [0.7, \"#b8e186\"], [0.8, \"#7fbc41\"], [0.9, \"#4d9221\"], [1, \"#276419\"]], \"sequential\": [[0.0, \"#0d0887\"], [0.1111111111111111, \"#46039f\"], [0.2222222222222222, \"#7201a8\"], [0.3333333333333333, \"#9c179e\"], [0.4444444444444444, \"#bd3786\"], [0.5555555555555556, \"#d8576b\"], [0.6666666666666666, \"#ed7953\"], [0.7777777777777778, \"#fb9f3a\"], [0.8888888888888888, \"#fdca26\"], [1.0, \"#f0f921\"]], \"sequentialminus\": [[0.0, \"#0d0887\"], [0.1111111111111111, \"#46039f\"], [0.2222222222222222, \"#7201a8\"], [0.3333333333333333, \"#9c179e\"], [0.4444444444444444, \"#bd3786\"], [0.5555555555555556, \"#d8576b\"], [0.6666666666666666, \"#ed7953\"], [0.7777777777777778, \"#fb9f3a\"], [0.8888888888888888, \"#fdca26\"], [1.0, \"#f0f921\"]]}, \"colorway\": [\"#636efa\", \"#EF553B\", \"#00cc96\", \"#ab63fa\", \"#FFA15A\", \"#19d3f3\", \"#FF6692\", \"#B6E880\", \"#FF97FF\", \"#FECB52\"], \"font\": {\"color\": \"#2a3f5f\"}, \"geo\": {\"bgcolor\": \"white\", \"lakecolor\": \"white\", \"landcolor\": \"#E5ECF6\", \"showlakes\": true, \"showland\": true, \"subunitcolor\": \"white\"}, \"hoverlabel\": {\"align\": \"left\"}, \"hovermode\": \"closest\", \"mapbox\": {\"style\": \"light\"}, \"paper_bgcolor\": \"white\", \"plot_bgcolor\": \"#E5ECF6\", \"polar\": {\"angularaxis\": {\"gridcolor\": \"white\", \"linecolor\": \"white\", \"ticks\": \"\"}, \"bgcolor\": \"#E5ECF6\", \"radialaxis\": {\"gridcolor\": \"white\", \"linecolor\": \"white\", \"ticks\": \"\"}}, \"scene\": {\"xaxis\": {\"backgroundcolor\": \"#E5ECF6\", \"gridcolor\": \"white\", \"gridwidth\": 2, \"linecolor\": \"white\", \"showbackground\": true, \"ticks\": \"\", \"zerolinecolor\": \"white\"}, \"yaxis\": {\"backgroundcolor\": \"#E5ECF6\", \"gridcolor\": \"white\", \"gridwidth\": 2, \"linecolor\": \"white\", \"showbackground\": true, \"ticks\": \"\", \"zerolinecolor\": \"white\"}, \"zaxis\": {\"backgroundcolor\": \"#E5ECF6\", \"gridcolor\": \"white\", \"gridwidth\": 2, \"linecolor\": \"white\", \"showbackground\": true, \"ticks\": \"\", \"zerolinecolor\": \"white\"}}, \"shapedefaults\": {\"line\": {\"color\": \"#2a3f5f\"}}, \"ternary\": {\"aaxis\": {\"gridcolor\": \"white\", \"linecolor\": \"white\", \"ticks\": \"\"}, \"baxis\": {\"gridcolor\": \"white\", \"linecolor\": \"white\", \"ticks\": \"\"}, \"bgcolor\": \"#E5ECF6\", \"caxis\": {\"gridcolor\": \"white\", \"linecolor\": \"white\", \"ticks\": \"\"}}, \"title\": {\"x\": 0.05}, \"xaxis\": {\"automargin\": true, \"gridcolor\": \"white\", \"linecolor\": \"white\", \"ticks\": \"\", \"title\": {\"standoff\": 15}, \"zerolinecolor\": \"white\", \"zerolinewidth\": 2}, \"yaxis\": {\"automargin\": true, \"gridcolor\": \"white\", \"linecolor\": \"white\", \"ticks\": \"\", \"title\": {\"standoff\": 15}, \"zerolinecolor\": \"white\", \"zerolinewidth\": 2}}}},                        {\"responsive\": true}                    ).then(function(){\n",
       "                            \n",
       "var gd = document.getElementById('bcf6e5a5-269e-4e55-bfcf-f5007203cd79');\n",
       "var x = new MutationObserver(function (mutations, observer) {{\n",
       "        var display = window.getComputedStyle(gd).display;\n",
       "        if (!display || display === 'none') {{\n",
       "            console.log([gd, 'removed!']);\n",
       "            Plotly.purge(gd);\n",
       "            observer.disconnect();\n",
       "        }}\n",
       "}});\n",
       "\n",
       "// Listen for the removal of the full notebook cells\n",
       "var notebookContainer = gd.closest('#notebook-container');\n",
       "if (notebookContainer) {{\n",
       "    x.observe(notebookContainer, {childList: true});\n",
       "}}\n",
       "\n",
       "// Listen for the clearing of the current output cell\n",
       "var outputEl = gd.closest('.output');\n",
       "if (outputEl) {{\n",
       "    x.observe(outputEl, {childList: true});\n",
       "}}\n",
       "\n",
       "                        })                };                });            </script>        </div>"
      ]
     },
     "metadata": {},
     "output_type": "display_data"
    }
   ],
   "source": [
    "import plotly.express as px\n",
    "import numpy as np\n",
    "\n",
    "z = data_df\n",
    "z = z.rename(columns={\n",
    "    \"percentDemocrat\": \"democrat\",\n",
    "    \"percentGraduates\": \"graduate\",\n",
    "    \"avgCostOfLiving\": \"livingCost\"\n",
    "})\n",
    "\n",
    "\n",
    "df = px.data.gapminder()\n",
    "fig = px.scatter_3d(z, x='democrat', y='graduate', z='livingCost', color='group',)\n",
    "fig.update_layout(scene_zaxis_type=\"log\")\n",
    "fig.show()\n"
   ]
  },
  {
   "cell_type": "code",
   "execution_count": 58,
   "metadata": {},
   "outputs": [
    {
     "data": {
      "application/vnd.plotly.v1+json": {
       "config": {
        "plotlyServerURL": "https://plot.ly"
       },
       "data": [
        {
         "lat": [
          25.468722399999997,
          25.7616798,
          25.790654,
          25.8575963,
          25.9860762,
          26.122438600000002,
          26.2378597,
          26.4614625,
          26.531786600000004,
          26.6167555,
          26.640628000000003,
          26.7153424,
          27.3364347,
          27.446705600000005,
          27.4989278,
          27.6386434,
          27.767600800000004,
          27.909466499999997,
          27.950575,
          27.9658533,
          28.0222435,
          28.0836269,
          28.244176799999998,
          28.291955699999995,
          28.5383355,
          29.187198600000002,
          29.2108147,
          29.4241219,
          29.5821811,
          29.6516344,
          29.7604267,
          29.9012437,
          29.95106579999999,
          29.984092200000003,
          29.99883119999999,
          30.080174,
          30.158812899999997,
          30.2240897,
          30.226594899999995,
          30.267153000000004,
          30.311876899999998,
          30.3321838,
          30.42130899999999,
          30.4382559,
          30.451467699999995,
          30.627977,
          30.674364299999997,
          30.6953657,
          30.8327022,
          31.4637723,
          31.549333,
          31.578507399999996,
          32.0808989,
          32.2226066,
          32.298757300000005,
          32.3199396,
          32.3792233,
          32.4487364,
          32.5007037,
          32.5251516,
          32.735687,
          32.776474900000004,
          32.7766642,
          32.8406946,
          32.8771106,
          33.2000368,
          33.2098407,
          33.2148412,
          33.4255104,
          33.4483771,
          33.4734978,
          33.5185892,
          33.5778631,
          33.689060299999994,
          33.7489954,
          33.7514966,
          33.770050399999995,
          33.7748275,
          33.7825194,
          33.8958492,
          33.913708500000006,
          33.9164032,
          33.9519347,
          33.95260200000001,
          33.9562149,
          33.9616801,
          34.0007104,
          34.01945429999999,
          34.0522342,
          34.1083449,
          34.1954331,
          34.1975048,
          34.2103894,
          34.2978794,
          34.5034394,
          34.6035669,
          34.730368799999994,
          34.7464809,
          34.85261759999999,
          34.9248667,
          34.949567200000004,
          35.0456297,
          35.0526641,
          35.0843859,
          35.1495343,
          35.1595182,
          35.222566799999996,
          35.2270869,
          35.5950581,
          35.612660999999996,
          35.686975200000006,
          35.7795897,
          35.8456213,
          35.913199600000006,
          35.96063839999999,
          35.99403289999999,
          36.072635399999996,
          36.09985959999999,
          36.1539816,
          36.1626638,
          36.169941200000004,
          36.3134397,
          36.6777372,
          36.737798100000006,
          36.835425799999996,
          36.8507689,
          36.9685219,
          36.9741171,
          37.0298687,
          37.087082099999996,
          37.20895720000001,
          37.270970399999996,
          37.4137536,
          37.540724600000004,
          37.804351399999994,
          37.871522600000006,
          37.9357576,
          37.9715592,
          38.029305900000004,
          38.040583700000006,
          38.1040864,
          38.252664700000004,
          38.2544472,
          38.303183700000005,
          38.3498195,
          38.5815719,
          38.6270025,
          38.7881062,
          38.789217,
          38.879969700000004,
          38.9071923,
          38.95170529999999,
          38.955944200000005,
          38.971668900000004,
          38.9784453,
          39.0473451,
          39.0911161,
          39.0992752,
          39.0997265,
          39.103118200000004,
          39.11553139999999,
          39.165325,
          39.2903848,
          39.3995008,
          39.4667034,
          39.529632899999996,
          39.641762899999996,
          39.6837226,
          39.728494399999995,
          39.739235799999996,
          39.744655,
          39.758947799999994,
          39.768403,
          39.78172130000001,
          39.9242266,
          39.9525839,
          39.9606643,
          39.9611755,
          39.9625984,
          40.0149856,
          40.0378755,
          40.1933767,
          40.2205824,
          40.233843799999995,
          40.273191100000005,
          40.335648299999995,
          40.4167022,
          40.44062479999999,
          40.5852602,
          40.6022939,
          40.6259316,
          40.6639916,
          40.6936488,
          40.735657,
          40.758390000000006,
          40.760779299999996,
          40.79894729999999,
          40.916765399999996,
          41.079273,
          41.081444700000006,
          41.0997803,
          41.1792258,
          41.223,
          41.2565369,
          41.308274,
          41.408969,
          41.499320000000004,
          41.5236437,
          41.558152500000006,
          41.5868353,
          41.6362152,
          41.6528052,
          41.676354499999995,
          41.6819935,
          41.76580429999999,
          41.8239891,
          41.8781136,
          42.083433500000005,
          42.1014831,
          42.12922409999999,
          42.2411499,
          42.245869,
          42.25287720000001,
          42.262593200000005,
          42.2711311,
          42.2808256,
          42.291706899999994,
          42.32115220000001,
          42.331427000000005,
          42.360082500000004,
          42.373615799999996,
          42.5144566,
          42.633424700000006,
          42.65257929999999,
          42.7261309,
          42.732535,
          42.8142432,
          42.88644679999999,
          42.9633599,
          42.995639700000005,
          43.012527399999996,
          43.0389025,
          43.0481221,
          43.07305170000001,
          43.15657789999999,
          43.234181299999996,
          43.419469899999996,
          43.5460223,
          44.0520691,
          44.0805434,
          44.2619309,
          44.51331879999999,
          44.953702899999996,
          44.977753,
          45.5051064,
          46.78667189999999,
          46.8721284,
          46.8771863,
          47.0378741,
          47.252876799999996,
          47.30732279999999,
          47.6062095,
          47.6587802,
          47.820930100000005,
          47.9789848,
          48.7519112
         ],
         "lon": [
          -80.4775569,
          -80.1917902,
          -80.1300455,
          -80.2781057,
          -80.30356019999998,
          -80.13731740000001,
          -80.1247667,
          -80.07282009999999,
          -80.0905465,
          -80.06844790000001,
          -81.87230840000001,
          -80.0533746,
          -82.53065269999998,
          -80.3256056,
          -82.5748194,
          -80.39727359999998,
          -82.64029149999998,
          -82.7873244,
          -82.4571776,
          -82.8001026,
          -81.7328567,
          -80.60810889999998,
          -82.7192671,
          -81.40757099999998,
          -81.3792365,
          -82.14009229999998,
          -81.02283309999999,
          -98.4936282,
          -95.7607832,
          -82.32482619999998,
          -95.36980279999999,
          -81.31243409999998,
          -90.0715323,
          -90.1528519,
          -95.2621553,
          -94.12655620000001,
          -85.6602058,
          -92.0198427,
          -93.21737579999999,
          -97.7430608,
          -95.4560512,
          -81.65565099999998,
          -87.2169149,
          -84.28073289999998,
          -91.1871466,
          -96.3344068,
          -96.3699632,
          -88.0398912,
          -83.2784851,
          -100.4370375,
          -97.1466695,
          -84.15574099999998,
          -81.09120300000001,
          -110.9747108,
          -90.1848103,
          -106.7636538,
          -86.3077368,
          -99.73314390000002,
          -94.7404891,
          -93.75017890000001,
          -97.1080656,
          -79.93105120000001,
          -96.7969879,
          -83.6324022,
          -80.01305140000001,
          -117.2425355,
          -87.56917349999998,
          -97.1330683,
          -111.9400054,
          -112.07403729999999,
          -82.0105148,
          -86.8103567,
          -101.85516650000001,
          -78.8866943,
          -84.3879824,
          -84.7477136,
          -118.1937395,
          -84.2963123,
          -117.22864779999999,
          -118.2200712,
          -98.49338730000001,
          -118.35257479999999,
          -83.357567,
          -84.5499327,
          -83.9879625,
          -118.3531311,
          -81.0348144,
          -118.4911912,
          -118.24368490000002,
          -117.2897652,
          -79.7625625,
          -119.17705159999998,
          -77.88681170000001,
          -83.8240663,
          -82.6501332,
          -98.3959291,
          -86.5861037,
          -92.2895948,
          -82.3940104,
          -81.02507840000001,
          -81.93204820000001,
          -85.3096801,
          -78.87835849999998,
          -106.65042199999999,
          -90.0489801,
          -84.8766115,
          -97.4394777,
          -80.8431267,
          -82.5514869,
          -77.3663538,
          -105.937799,
          -78.6381787,
          -86.39027,
          -79.05584449999999,
          -83.9207392,
          -78.898619,
          -79.79197540000001,
          -80.24421600000001,
          -95.992775,
          -86.78160159999999,
          -115.13982959999998,
          -82.35347270000001,
          -121.6555013,
          -119.78712469999999,
          -76.29827420000001,
          -76.28587259999998,
          -86.48080429999999,
          -122.0307963,
          -76.34522179999998,
          -76.4730122,
          -93.2922989,
          -79.9414266,
          -79.14224639999998,
          -77.4360481,
          -122.27116389999999,
          -122.27304199999999,
          -122.3477486,
          -87.5710898,
          -78.47667810000002,
          -84.50371640000002,
          -122.25663670000002,
          -85.7584557,
          -104.60914090000001,
          -77.46053990000001,
          -81.6326234,
          -121.49439960000001,
          -90.1994042,
          -90.4974359,
          -90.322614,
          -77.1067698,
          -77.03687070000001,
          -92.33407240000001,
          -76.9455301,
          -95.23525009999999,
          -76.4921829,
          -95.6751576,
          -94.4155068,
          -76.8483061,
          -94.5785667,
          -84.5120196,
          -94.6267873,
          -86.52638569999998,
          -76.6121893,
          -84.5613355,
          -87.41390919999998,
          -119.8138027,
          -77.71999319999998,
          -75.74965720000002,
          -121.8374777,
          -104.990251,
          -75.54839090000002,
          -84.1916069,
          -86.158068,
          -89.6501481,
          -83.8088171,
          -75.1652215,
          -75.6054882,
          -82.99879419999998,
          -76.727745,
          -105.2705456,
          -76.3055144,
          -85.3863599,
          -74.75971700000001,
          -111.6585337,
          -76.88670079999999,
          -75.9268747,
          -86.87528689999998,
          -79.9958864,
          -105.084423,
          -75.4714098,
          -75.37045789999998,
          -74.2107006,
          -89.58898640000001,
          -74.1723667,
          -82.51544709999999,
          -111.89104740000002,
          -81.378447,
          -74.17181099999998,
          -85.13935129999999,
          -81.51900529999998,
          -80.6495194,
          -73.18943840000001,
          -111.9738304,
          -95.93450340000001,
          -72.9278835,
          -75.66241219999998,
          -81.6943605,
          -90.57763670000001,
          -73.0514965,
          -93.6249593,
          -70.93420499999998,
          -83.53786740000001,
          -86.25198979999998,
          -85.9766671,
          -72.6733723,
          -71.4128343,
          -87.62979820000001,
          -71.0183787,
          -72.589811,
          -80.085059,
          -83.61299389999998,
          -84.40134619999998,
          -71.0022705,
          -71.8022934,
          -89.09399520000001,
          -83.7430378,
          -85.5872286,
          -85.17971419999998,
          -83.0457538,
          -71.0588801,
          -71.10973349999998,
          -83.01465259999998,
          -71.31617179999998,
          -73.7562317,
          -87.78285230000002,
          -84.55553470000001,
          -73.93956870000001,
          -78.8783689,
          -85.6680863,
          -71.4547891,
          -83.6874562,
          -87.9064736,
          -76.14742439999998,
          -89.4012302,
          -77.6088465,
          -86.24839209999998,
          -83.9508068,
          -96.73126500000001,
          -123.08675359999998,
          -103.2310149,
          -88.41538469999998,
          -88.0132958,
          -93.0899578,
          -93.2650108,
          -122.6750261,
          -92.10048520000001,
          -113.9940314,
          -96.78980340000001,
          -122.9006951,
          -122.4442906,
          -122.22845320000002,
          -122.33207079999998,
          -117.42604650000001,
          -122.3151314,
          -122.2020795,
          -122.4786854
         ],
         "name": "Cities great for singles",
         "text": [
          "Homestead",
          "Miami",
          "Miami Beach",
          "Hialeah",
          "Miramar",
          "Fort Lauderdale",
          "Pompano Beach",
          "Delray Beach",
          "Boynton Beach",
          "Lake Worth",
          "Fort Myers",
          "West Palm Beach",
          "Sarasota",
          "Fort Pierce",
          "Bradenton",
          "Vero Beach",
          "Saint Petersburg",
          "Largo",
          "Tampa",
          "Clearwater",
          "Winter Haven",
          "Melbourne",
          "New Port Richey",
          "Kissimmee",
          "Orlando",
          "Ocala",
          "Daytona Beach",
          "San Antonio",
          "Richmond",
          "Gainesville",
          "Houston",
          "Saint Augustine",
          "New Orleans",
          "Metairie",
          "Humble",
          "Beaumont",
          "Panama City",
          "Lafayette",
          "Lake Charles",
          "Austin",
          "Conroe",
          "Jacksonville",
          "Pensacola",
          "Tallahassee",
          "Baton Rouge",
          "College Station",
          "Bryan",
          "Mobile",
          "Valdosta",
          "San Angelo",
          "Waco",
          "Albany",
          "Savannah",
          "Tucson",
          "Jackson",
          "Las Cruces",
          "Montgomery",
          "Abilene",
          "Longview",
          "Shreveport",
          "Arlington",
          "Charleston",
          "Dallas",
          "Macon",
          "North Charleston",
          "Vista",
          "Tuscaloosa",
          "Denton",
          "Tempe",
          "Phoenix",
          "Augusta",
          "Birmingham",
          "Lubbock",
          "Myrtle Beach",
          "Atlanta",
          "Douglasville",
          "Long Beach",
          "Decatur",
          "Perris",
          "Compton",
          "Wichita Falls",
          "Hawthorne",
          "Athens",
          "Marietta",
          "Lawrenceville",
          "Inglewood",
          "Columbia",
          "Santa Monica",
          "Los Angeles",
          "San Bernardino",
          "Florence",
          "Oxnard",
          "Wilmington",
          "Gainesville",
          "Anderson",
          "Lawton",
          "Huntsville",
          "Little Rock",
          "Greenville",
          "Rock Hill",
          "Spartanburg",
          "Chattanooga",
          "Fayetteville",
          "Albuquerque",
          "Memphis",
          "Cleveland",
          "Norman",
          "Charlotte",
          "Asheville",
          "Greenville",
          "Santa Fe",
          "Raleigh",
          "Murfreesboro",
          "Chapel Hill",
          "Knoxville",
          "Durham",
          "Greensboro",
          "Winston Salem",
          "Tulsa",
          "Nashville",
          "Las Vegas",
          "Johnson City",
          "Salinas",
          "Fresno",
          "Portsmouth",
          "Norfolk",
          "Bowling Green",
          "Santa Cruz",
          "Hampton",
          "Newport News",
          "Springfield",
          "Roanoke",
          "Lynchburg",
          "Richmond",
          "Oakland",
          "Berkeley",
          "Richmond",
          "Evansville",
          "Charlottesville",
          "Lexington",
          "Vallejo",
          "Louisville",
          "Pueblo",
          "Fredericksburg",
          "Charleston",
          "Sacramento",
          "Saint Louis",
          "Saint Charles",
          "Florissant",
          "Arlington",
          "Washington",
          "Columbia",
          "Hyattsville",
          "Lawrence",
          "Annapolis",
          "Topeka",
          "Independence",
          "Laurel",
          "Kansas City",
          "Cincinnati",
          "Kansas City",
          "Bloomington",
          "Baltimore",
          "Hamilton",
          "Terre Haute",
          "Reno",
          "Hagerstown",
          "Newark",
          "Chico",
          "Denver",
          "Wilmington",
          "Dayton",
          "Indianapolis",
          "Springfield",
          "Springfield",
          "Philadelphia",
          "West Chester",
          "Columbus",
          "York",
          "Boulder",
          "Lancaster",
          "Muncie",
          "Trenton",
          "Provo",
          "Harrisburg",
          "Reading",
          "Lafayette",
          "Pittsburgh",
          "Fort Collins",
          "Allentown",
          "Bethlehem",
          "Elizabeth",
          "Peoria",
          "Newark",
          "Mansfield",
          "Salt Lake City",
          "Canton",
          "Paterson",
          "Fort Wayne",
          "Akron",
          "Youngstown",
          "Bridgeport",
          "Ogden",
          "Omaha",
          "New Haven",
          "Scranton",
          "Cleveland",
          "Davenport",
          "Waterbury",
          "Des Moines",
          "New Bedford",
          "Toledo",
          "South Bend",
          "Elkhart",
          "Hartford",
          "Providence",
          "Chicago",
          "Brockton",
          "Springfield",
          "Erie",
          "Ypsilanti",
          "Jackson",
          "Quincy",
          "Worcester",
          "Rockford",
          "Ann Arbor",
          "Kalamazoo",
          "Battle Creek",
          "Detroit",
          "Boston",
          "Cambridge",
          "Warren",
          "Lowell",
          "Albany",
          "Racine",
          "Lansing",
          "Schenectady",
          "Buffalo",
          "Grand Rapids",
          "Manchester",
          "Flint",
          "Milwaukee",
          "Syracuse",
          "Madison",
          "Rochester",
          "Muskegon",
          "Saginaw",
          "Sioux Falls",
          "Eugene",
          "Rapid City",
          "Appleton",
          "Green Bay",
          "Saint Paul",
          "Minneapolis",
          "Portland",
          "Duluth",
          "Missoula",
          "Fargo",
          "Olympia",
          "Tacoma",
          "Auburn",
          "Seattle",
          "Spokane",
          "Lynnwood",
          "Everett",
          "Bellingham"
         ],
         "type": "scattergeo"
        }
       ],
       "layout": {
        "autosize": true,
        "geo": {
         "scope": "usa"
        },
        "legend": {
         "orientation": "h",
         "x": 1,
         "xanchor": "right",
         "y": 1.02,
         "yanchor": "bottom"
        },
        "showlegend": true,
        "template": {
         "data": {
          "bar": [
           {
            "error_x": {
             "color": "#2a3f5f"
            },
            "error_y": {
             "color": "#2a3f5f"
            },
            "marker": {
             "line": {
              "color": "#E5ECF6",
              "width": 0.5
             }
            },
            "type": "bar"
           }
          ],
          "barpolar": [
           {
            "marker": {
             "line": {
              "color": "#E5ECF6",
              "width": 0.5
             }
            },
            "type": "barpolar"
           }
          ],
          "carpet": [
           {
            "aaxis": {
             "endlinecolor": "#2a3f5f",
             "gridcolor": "white",
             "linecolor": "white",
             "minorgridcolor": "white",
             "startlinecolor": "#2a3f5f"
            },
            "baxis": {
             "endlinecolor": "#2a3f5f",
             "gridcolor": "white",
             "linecolor": "white",
             "minorgridcolor": "white",
             "startlinecolor": "#2a3f5f"
            },
            "type": "carpet"
           }
          ],
          "choropleth": [
           {
            "colorbar": {
             "outlinewidth": 0,
             "ticks": ""
            },
            "type": "choropleth"
           }
          ],
          "contour": [
           {
            "colorbar": {
             "outlinewidth": 0,
             "ticks": ""
            },
            "colorscale": [
             [
              0,
              "#0d0887"
             ],
             [
              0.1111111111111111,
              "#46039f"
             ],
             [
              0.2222222222222222,
              "#7201a8"
             ],
             [
              0.3333333333333333,
              "#9c179e"
             ],
             [
              0.4444444444444444,
              "#bd3786"
             ],
             [
              0.5555555555555556,
              "#d8576b"
             ],
             [
              0.6666666666666666,
              "#ed7953"
             ],
             [
              0.7777777777777778,
              "#fb9f3a"
             ],
             [
              0.8888888888888888,
              "#fdca26"
             ],
             [
              1,
              "#f0f921"
             ]
            ],
            "type": "contour"
           }
          ],
          "contourcarpet": [
           {
            "colorbar": {
             "outlinewidth": 0,
             "ticks": ""
            },
            "type": "contourcarpet"
           }
          ],
          "heatmap": [
           {
            "colorbar": {
             "outlinewidth": 0,
             "ticks": ""
            },
            "colorscale": [
             [
              0,
              "#0d0887"
             ],
             [
              0.1111111111111111,
              "#46039f"
             ],
             [
              0.2222222222222222,
              "#7201a8"
             ],
             [
              0.3333333333333333,
              "#9c179e"
             ],
             [
              0.4444444444444444,
              "#bd3786"
             ],
             [
              0.5555555555555556,
              "#d8576b"
             ],
             [
              0.6666666666666666,
              "#ed7953"
             ],
             [
              0.7777777777777778,
              "#fb9f3a"
             ],
             [
              0.8888888888888888,
              "#fdca26"
             ],
             [
              1,
              "#f0f921"
             ]
            ],
            "type": "heatmap"
           }
          ],
          "heatmapgl": [
           {
            "colorbar": {
             "outlinewidth": 0,
             "ticks": ""
            },
            "colorscale": [
             [
              0,
              "#0d0887"
             ],
             [
              0.1111111111111111,
              "#46039f"
             ],
             [
              0.2222222222222222,
              "#7201a8"
             ],
             [
              0.3333333333333333,
              "#9c179e"
             ],
             [
              0.4444444444444444,
              "#bd3786"
             ],
             [
              0.5555555555555556,
              "#d8576b"
             ],
             [
              0.6666666666666666,
              "#ed7953"
             ],
             [
              0.7777777777777778,
              "#fb9f3a"
             ],
             [
              0.8888888888888888,
              "#fdca26"
             ],
             [
              1,
              "#f0f921"
             ]
            ],
            "type": "heatmapgl"
           }
          ],
          "histogram": [
           {
            "marker": {
             "colorbar": {
              "outlinewidth": 0,
              "ticks": ""
             }
            },
            "type": "histogram"
           }
          ],
          "histogram2d": [
           {
            "colorbar": {
             "outlinewidth": 0,
             "ticks": ""
            },
            "colorscale": [
             [
              0,
              "#0d0887"
             ],
             [
              0.1111111111111111,
              "#46039f"
             ],
             [
              0.2222222222222222,
              "#7201a8"
             ],
             [
              0.3333333333333333,
              "#9c179e"
             ],
             [
              0.4444444444444444,
              "#bd3786"
             ],
             [
              0.5555555555555556,
              "#d8576b"
             ],
             [
              0.6666666666666666,
              "#ed7953"
             ],
             [
              0.7777777777777778,
              "#fb9f3a"
             ],
             [
              0.8888888888888888,
              "#fdca26"
             ],
             [
              1,
              "#f0f921"
             ]
            ],
            "type": "histogram2d"
           }
          ],
          "histogram2dcontour": [
           {
            "colorbar": {
             "outlinewidth": 0,
             "ticks": ""
            },
            "colorscale": [
             [
              0,
              "#0d0887"
             ],
             [
              0.1111111111111111,
              "#46039f"
             ],
             [
              0.2222222222222222,
              "#7201a8"
             ],
             [
              0.3333333333333333,
              "#9c179e"
             ],
             [
              0.4444444444444444,
              "#bd3786"
             ],
             [
              0.5555555555555556,
              "#d8576b"
             ],
             [
              0.6666666666666666,
              "#ed7953"
             ],
             [
              0.7777777777777778,
              "#fb9f3a"
             ],
             [
              0.8888888888888888,
              "#fdca26"
             ],
             [
              1,
              "#f0f921"
             ]
            ],
            "type": "histogram2dcontour"
           }
          ],
          "mesh3d": [
           {
            "colorbar": {
             "outlinewidth": 0,
             "ticks": ""
            },
            "type": "mesh3d"
           }
          ],
          "parcoords": [
           {
            "line": {
             "colorbar": {
              "outlinewidth": 0,
              "ticks": ""
             }
            },
            "type": "parcoords"
           }
          ],
          "pie": [
           {
            "automargin": true,
            "type": "pie"
           }
          ],
          "scatter": [
           {
            "marker": {
             "colorbar": {
              "outlinewidth": 0,
              "ticks": ""
             }
            },
            "type": "scatter"
           }
          ],
          "scatter3d": [
           {
            "line": {
             "colorbar": {
              "outlinewidth": 0,
              "ticks": ""
             }
            },
            "marker": {
             "colorbar": {
              "outlinewidth": 0,
              "ticks": ""
             }
            },
            "type": "scatter3d"
           }
          ],
          "scattercarpet": [
           {
            "marker": {
             "colorbar": {
              "outlinewidth": 0,
              "ticks": ""
             }
            },
            "type": "scattercarpet"
           }
          ],
          "scattergeo": [
           {
            "marker": {
             "colorbar": {
              "outlinewidth": 0,
              "ticks": ""
             }
            },
            "type": "scattergeo"
           }
          ],
          "scattergl": [
           {
            "marker": {
             "colorbar": {
              "outlinewidth": 0,
              "ticks": ""
             }
            },
            "type": "scattergl"
           }
          ],
          "scattermapbox": [
           {
            "marker": {
             "colorbar": {
              "outlinewidth": 0,
              "ticks": ""
             }
            },
            "type": "scattermapbox"
           }
          ],
          "scatterpolar": [
           {
            "marker": {
             "colorbar": {
              "outlinewidth": 0,
              "ticks": ""
             }
            },
            "type": "scatterpolar"
           }
          ],
          "scatterpolargl": [
           {
            "marker": {
             "colorbar": {
              "outlinewidth": 0,
              "ticks": ""
             }
            },
            "type": "scatterpolargl"
           }
          ],
          "scatterternary": [
           {
            "marker": {
             "colorbar": {
              "outlinewidth": 0,
              "ticks": ""
             }
            },
            "type": "scatterternary"
           }
          ],
          "surface": [
           {
            "colorbar": {
             "outlinewidth": 0,
             "ticks": ""
            },
            "colorscale": [
             [
              0,
              "#0d0887"
             ],
             [
              0.1111111111111111,
              "#46039f"
             ],
             [
              0.2222222222222222,
              "#7201a8"
             ],
             [
              0.3333333333333333,
              "#9c179e"
             ],
             [
              0.4444444444444444,
              "#bd3786"
             ],
             [
              0.5555555555555556,
              "#d8576b"
             ],
             [
              0.6666666666666666,
              "#ed7953"
             ],
             [
              0.7777777777777778,
              "#fb9f3a"
             ],
             [
              0.8888888888888888,
              "#fdca26"
             ],
             [
              1,
              "#f0f921"
             ]
            ],
            "type": "surface"
           }
          ],
          "table": [
           {
            "cells": {
             "fill": {
              "color": "#EBF0F8"
             },
             "line": {
              "color": "white"
             }
            },
            "header": {
             "fill": {
              "color": "#C8D4E3"
             },
             "line": {
              "color": "white"
             }
            },
            "type": "table"
           }
          ]
         },
         "layout": {
          "annotationdefaults": {
           "arrowcolor": "#2a3f5f",
           "arrowhead": 0,
           "arrowwidth": 1
          },
          "coloraxis": {
           "colorbar": {
            "outlinewidth": 0,
            "ticks": ""
           }
          },
          "colorscale": {
           "diverging": [
            [
             0,
             "#8e0152"
            ],
            [
             0.1,
             "#c51b7d"
            ],
            [
             0.2,
             "#de77ae"
            ],
            [
             0.3,
             "#f1b6da"
            ],
            [
             0.4,
             "#fde0ef"
            ],
            [
             0.5,
             "#f7f7f7"
            ],
            [
             0.6,
             "#e6f5d0"
            ],
            [
             0.7,
             "#b8e186"
            ],
            [
             0.8,
             "#7fbc41"
            ],
            [
             0.9,
             "#4d9221"
            ],
            [
             1,
             "#276419"
            ]
           ],
           "sequential": [
            [
             0,
             "#0d0887"
            ],
            [
             0.1111111111111111,
             "#46039f"
            ],
            [
             0.2222222222222222,
             "#7201a8"
            ],
            [
             0.3333333333333333,
             "#9c179e"
            ],
            [
             0.4444444444444444,
             "#bd3786"
            ],
            [
             0.5555555555555556,
             "#d8576b"
            ],
            [
             0.6666666666666666,
             "#ed7953"
            ],
            [
             0.7777777777777778,
             "#fb9f3a"
            ],
            [
             0.8888888888888888,
             "#fdca26"
            ],
            [
             1,
             "#f0f921"
            ]
           ],
           "sequentialminus": [
            [
             0,
             "#0d0887"
            ],
            [
             0.1111111111111111,
             "#46039f"
            ],
            [
             0.2222222222222222,
             "#7201a8"
            ],
            [
             0.3333333333333333,
             "#9c179e"
            ],
            [
             0.4444444444444444,
             "#bd3786"
            ],
            [
             0.5555555555555556,
             "#d8576b"
            ],
            [
             0.6666666666666666,
             "#ed7953"
            ],
            [
             0.7777777777777778,
             "#fb9f3a"
            ],
            [
             0.8888888888888888,
             "#fdca26"
            ],
            [
             1,
             "#f0f921"
            ]
           ]
          },
          "colorway": [
           "#636efa",
           "#EF553B",
           "#00cc96",
           "#ab63fa",
           "#FFA15A",
           "#19d3f3",
           "#FF6692",
           "#B6E880",
           "#FF97FF",
           "#FECB52"
          ],
          "font": {
           "color": "#2a3f5f"
          },
          "geo": {
           "bgcolor": "white",
           "lakecolor": "white",
           "landcolor": "#E5ECF6",
           "showlakes": true,
           "showland": true,
           "subunitcolor": "white"
          },
          "hoverlabel": {
           "align": "left"
          },
          "hovermode": "closest",
          "mapbox": {
           "style": "light"
          },
          "paper_bgcolor": "white",
          "plot_bgcolor": "#E5ECF6",
          "polar": {
           "angularaxis": {
            "gridcolor": "white",
            "linecolor": "white",
            "ticks": ""
           },
           "bgcolor": "#E5ECF6",
           "radialaxis": {
            "gridcolor": "white",
            "linecolor": "white",
            "ticks": ""
           }
          },
          "scene": {
           "xaxis": {
            "backgroundcolor": "#E5ECF6",
            "gridcolor": "white",
            "gridwidth": 2,
            "linecolor": "white",
            "showbackground": true,
            "ticks": "",
            "zerolinecolor": "white"
           },
           "yaxis": {
            "backgroundcolor": "#E5ECF6",
            "gridcolor": "white",
            "gridwidth": 2,
            "linecolor": "white",
            "showbackground": true,
            "ticks": "",
            "zerolinecolor": "white"
           },
           "zaxis": {
            "backgroundcolor": "#E5ECF6",
            "gridcolor": "white",
            "gridwidth": 2,
            "linecolor": "white",
            "showbackground": true,
            "ticks": "",
            "zerolinecolor": "white"
           }
          },
          "shapedefaults": {
           "line": {
            "color": "#2a3f5f"
           }
          },
          "ternary": {
           "aaxis": {
            "gridcolor": "white",
            "linecolor": "white",
            "ticks": ""
           },
           "baxis": {
            "gridcolor": "white",
            "linecolor": "white",
            "ticks": ""
           },
           "bgcolor": "#E5ECF6",
           "caxis": {
            "gridcolor": "white",
            "linecolor": "white",
            "ticks": ""
           }
          },
          "title": {
           "x": 0.05
          },
          "xaxis": {
           "automargin": true,
           "gridcolor": "white",
           "linecolor": "white",
           "ticks": "",
           "title": {
            "standoff": 15
           },
           "zerolinecolor": "white",
           "zerolinewidth": 2
          },
          "yaxis": {
           "automargin": true,
           "gridcolor": "white",
           "linecolor": "white",
           "ticks": "",
           "title": {
            "standoff": 15
           },
           "zerolinecolor": "white",
           "zerolinewidth": 2
          }
         }
        },
        "title": {
         "text": "K-Means Clustering to find great areas for singles"
        }
       }
      },
      "image/png": "[encoded data removed]",
      "text/html": [
       "<div>                            <div id=\"f1186751-d3ba-4b36-9165-af3dfeb2f21c\" class=\"plotly-graph-div\" style=\"height:525px; width:100%;\"></div>            <script type=\"text/javascript\">                require([\"plotly\"], function(Plotly) {                    window.PLOTLYENV=window.PLOTLYENV || {};                                    if (document.getElementById(\"f1186751-d3ba-4b36-9165-af3dfeb2f21c\")) {                    Plotly.newPlot(                        \"f1186751-d3ba-4b36-9165-af3dfeb2f21c\",                        [{\"lat\": [25.468722399999997, 25.7616798, 25.790654, 25.8575963, 25.9860762, 26.122438600000002, 26.2378597, 26.4614625, 26.531786600000004, 26.6167555, 26.640628000000003, 26.7153424, 27.3364347, 27.446705600000005, 27.4989278, 27.6386434, 27.767600800000004, 27.909466499999997, 27.950575, 27.9658533, 28.0222435, 28.0836269, 28.244176799999998, 28.291955699999995, 28.5383355, 29.187198600000002, 29.2108147, 29.4241219, 29.5821811, 29.6516344, 29.7604267, 29.9012437, 29.95106579999999, 29.984092200000003, 29.99883119999999, 30.080174, 30.158812899999997, 30.2240897, 30.226594899999995, 30.267153000000004, 30.311876899999998, 30.3321838, 30.42130899999999, 30.4382559, 30.451467699999995, 30.627977, 30.674364299999997, 30.6953657, 30.8327022, 31.4637723, 31.549333, 31.578507399999996, 32.0808989, 32.2226066, 32.298757300000005, 32.3199396, 32.3792233, 32.4487364, 32.5007037, 32.5251516, 32.735687, 32.776474900000004, 32.7766642, 32.8406946, 32.8771106, 33.2000368, 33.2098407, 33.2148412, 33.4255104, 33.4483771, 33.4734978, 33.5185892, 33.5778631, 33.689060299999994, 33.7489954, 33.7514966, 33.770050399999995, 33.7748275, 33.7825194, 33.8958492, 33.913708500000006, 33.9164032, 33.9519347, 33.95260200000001, 33.9562149, 33.9616801, 34.0007104, 34.01945429999999, 34.0522342, 34.1083449, 34.1954331, 34.1975048, 34.2103894, 34.2978794, 34.5034394, 34.6035669, 34.730368799999994, 34.7464809, 34.85261759999999, 34.9248667, 34.949567200000004, 35.0456297, 35.0526641, 35.0843859, 35.1495343, 35.1595182, 35.222566799999996, 35.2270869, 35.5950581, 35.612660999999996, 35.686975200000006, 35.7795897, 35.8456213, 35.913199600000006, 35.96063839999999, 35.99403289999999, 36.072635399999996, 36.09985959999999, 36.1539816, 36.1626638, 36.169941200000004, 36.3134397, 36.6777372, 36.737798100000006, 36.835425799999996, 36.8507689, 36.9685219, 36.9741171, 37.0298687, 37.087082099999996, 37.20895720000001, 37.270970399999996, 37.4137536, 37.540724600000004, 37.804351399999994, 37.871522600000006, 37.9357576, 37.9715592, 38.029305900000004, 38.040583700000006, 38.1040864, 38.252664700000004, 38.2544472, 38.303183700000005, 38.3498195, 38.5815719, 38.6270025, 38.7881062, 38.789217, 38.879969700000004, 38.9071923, 38.95170529999999, 38.955944200000005, 38.971668900000004, 38.9784453, 39.0473451, 39.0911161, 39.0992752, 39.0997265, 39.103118200000004, 39.11553139999999, 39.165325, 39.2903848, 39.3995008, 39.4667034, 39.529632899999996, 39.641762899999996, 39.6837226, 39.728494399999995, 39.739235799999996, 39.744655, 39.758947799999994, 39.768403, 39.78172130000001, 39.9242266, 39.9525839, 39.9606643, 39.9611755, 39.9625984, 40.0149856, 40.0378755, 40.1933767, 40.2205824, 40.233843799999995, 40.273191100000005, 40.335648299999995, 40.4167022, 40.44062479999999, 40.5852602, 40.6022939, 40.6259316, 40.6639916, 40.6936488, 40.735657, 40.758390000000006, 40.760779299999996, 40.79894729999999, 40.916765399999996, 41.079273, 41.081444700000006, 41.0997803, 41.1792258, 41.223, 41.2565369, 41.308274, 41.408969, 41.499320000000004, 41.5236437, 41.558152500000006, 41.5868353, 41.6362152, 41.6528052, 41.676354499999995, 41.6819935, 41.76580429999999, 41.8239891, 41.8781136, 42.083433500000005, 42.1014831, 42.12922409999999, 42.2411499, 42.245869, 42.25287720000001, 42.262593200000005, 42.2711311, 42.2808256, 42.291706899999994, 42.32115220000001, 42.331427000000005, 42.360082500000004, 42.373615799999996, 42.5144566, 42.633424700000006, 42.65257929999999, 42.7261309, 42.732535, 42.8142432, 42.88644679999999, 42.9633599, 42.995639700000005, 43.012527399999996, 43.0389025, 43.0481221, 43.07305170000001, 43.15657789999999, 43.234181299999996, 43.419469899999996, 43.5460223, 44.0520691, 44.0805434, 44.2619309, 44.51331879999999, 44.953702899999996, 44.977753, 45.5051064, 46.78667189999999, 46.8721284, 46.8771863, 47.0378741, 47.252876799999996, 47.30732279999999, 47.6062095, 47.6587802, 47.820930100000005, 47.9789848, 48.7519112], \"lon\": [-80.4775569, -80.1917902, -80.1300455, -80.2781057, -80.30356019999998, -80.13731740000001, -80.1247667, -80.07282009999999, -80.0905465, -80.06844790000001, -81.87230840000001, -80.0533746, -82.53065269999998, -80.3256056, -82.5748194, -80.39727359999998, -82.64029149999998, -82.7873244, -82.4571776, -82.8001026, -81.7328567, -80.60810889999998, -82.7192671, -81.40757099999998, -81.3792365, -82.14009229999998, -81.02283309999999, -98.4936282, -95.7607832, -82.32482619999998, -95.36980279999999, -81.31243409999998, -90.0715323, -90.1528519, -95.2621553, -94.12655620000001, -85.6602058, -92.0198427, -93.21737579999999, -97.7430608, -95.4560512, -81.65565099999998, -87.2169149, -84.28073289999998, -91.1871466, -96.3344068, -96.3699632, -88.0398912, -83.2784851, -100.4370375, -97.1466695, -84.15574099999998, -81.09120300000001, -110.9747108, -90.1848103, -106.7636538, -86.3077368, -99.73314390000002, -94.7404891, -93.75017890000001, -97.1080656, -79.93105120000001, -96.7969879, -83.6324022, -80.01305140000001, -117.2425355, -87.56917349999998, -97.1330683, -111.9400054, -112.07403729999999, -82.0105148, -86.8103567, -101.85516650000001, -78.8866943, -84.3879824, -84.7477136, -118.1937395, -84.2963123, -117.22864779999999, -118.2200712, -98.49338730000001, -118.35257479999999, -83.357567, -84.5499327, -83.9879625, -118.3531311, -81.0348144, -118.4911912, -118.24368490000002, -117.2897652, -79.7625625, -119.17705159999998, -77.88681170000001, -83.8240663, -82.6501332, -98.3959291, -86.5861037, -92.2895948, -82.3940104, -81.02507840000001, -81.93204820000001, -85.3096801, -78.87835849999998, -106.65042199999999, -90.0489801, -84.8766115, -97.4394777, -80.8431267, -82.5514869, -77.3663538, -105.937799, -78.6381787, -86.39027, -79.05584449999999, -83.9207392, -78.898619, -79.79197540000001, -80.24421600000001, -95.992775, -86.78160159999999, -115.13982959999998, -82.35347270000001, -121.6555013, -119.78712469999999, -76.29827420000001, -76.28587259999998, -86.48080429999999, -122.0307963, -76.34522179999998, -76.4730122, -93.2922989, -79.9414266, -79.14224639999998, -77.4360481, -122.27116389999999, -122.27304199999999, -122.3477486, -87.5710898, -78.47667810000002, -84.50371640000002, -122.25663670000002, -85.7584557, -104.60914090000001, -77.46053990000001, -81.6326234, -121.49439960000001, -90.1994042, -90.4974359, -90.322614, -77.1067698, -77.03687070000001, -92.33407240000001, -76.9455301, -95.23525009999999, -76.4921829, -95.6751576, -94.4155068, -76.8483061, -94.5785667, -84.5120196, -94.6267873, -86.52638569999998, -76.6121893, -84.5613355, -87.41390919999998, -119.8138027, -77.71999319999998, -75.74965720000002, -121.8374777, -104.990251, -75.54839090000002, -84.1916069, -86.158068, -89.6501481, -83.8088171, -75.1652215, -75.6054882, -82.99879419999998, -76.727745, -105.2705456, -76.3055144, -85.3863599, -74.75971700000001, -111.6585337, -76.88670079999999, -75.9268747, -86.87528689999998, -79.9958864, -105.084423, -75.4714098, -75.37045789999998, -74.2107006, -89.58898640000001, -74.1723667, -82.51544709999999, -111.89104740000002, -81.378447, -74.17181099999998, -85.13935129999999, -81.51900529999998, -80.6495194, -73.18943840000001, -111.9738304, -95.93450340000001, -72.9278835, -75.66241219999998, -81.6943605, -90.57763670000001, -73.0514965, -93.6249593, -70.93420499999998, -83.53786740000001, -86.25198979999998, -85.9766671, -72.6733723, -71.4128343, -87.62979820000001, -71.0183787, -72.589811, -80.085059, -83.61299389999998, -84.40134619999998, -71.0022705, -71.8022934, -89.09399520000001, -83.7430378, -85.5872286, -85.17971419999998, -83.0457538, -71.0588801, -71.10973349999998, -83.01465259999998, -71.31617179999998, -73.7562317, -87.78285230000002, -84.55553470000001, -73.93956870000001, -78.8783689, -85.6680863, -71.4547891, -83.6874562, -87.9064736, -76.14742439999998, -89.4012302, -77.6088465, -86.24839209999998, -83.9508068, -96.73126500000001, -123.08675359999998, -103.2310149, -88.41538469999998, -88.0132958, -93.0899578, -93.2650108, -122.6750261, -92.10048520000001, -113.9940314, -96.78980340000001, -122.9006951, -122.4442906, -122.22845320000002, -122.33207079999998, -117.42604650000001, -122.3151314, -122.2020795, -122.4786854], \"name\": \"Cities great for singles\", \"text\": [\"Homestead\", \"Miami\", \"Miami Beach\", \"Hialeah\", \"Miramar\", \"Fort Lauderdale\", \"Pompano Beach\", \"Delray Beach\", \"Boynton Beach\", \"Lake Worth\", \"Fort Myers\", \"West Palm Beach\", \"Sarasota\", \"Fort Pierce\", \"Bradenton\", \"Vero Beach\", \"Saint Petersburg\", \"Largo\", \"Tampa\", \"Clearwater\", \"Winter Haven\", \"Melbourne\", \"New Port Richey\", \"Kissimmee\", \"Orlando\", \"Ocala\", \"Daytona Beach\", \"San Antonio\", \"Richmond\", \"Gainesville\", \"Houston\", \"Saint Augustine\", \"New Orleans\", \"Metairie\", \"Humble\", \"Beaumont\", \"Panama City\", \"Lafayette\", \"Lake Charles\", \"Austin\", \"Conroe\", \"Jacksonville\", \"Pensacola\", \"Tallahassee\", \"Baton Rouge\", \"College Station\", \"Bryan\", \"Mobile\", \"Valdosta\", \"San Angelo\", \"Waco\", \"Albany\", \"Savannah\", \"Tucson\", \"Jackson\", \"Las Cruces\", \"Montgomery\", \"Abilene\", \"Longview\", \"Shreveport\", \"Arlington\", \"Charleston\", \"Dallas\", \"Macon\", \"North Charleston\", \"Vista\", \"Tuscaloosa\", \"Denton\", \"Tempe\", \"Phoenix\", \"Augusta\", \"Birmingham\", \"Lubbock\", \"Myrtle Beach\", \"Atlanta\", \"Douglasville\", \"Long Beach\", \"Decatur\", \"Perris\", \"Compton\", \"Wichita Falls\", \"Hawthorne\", \"Athens\", \"Marietta\", \"Lawrenceville\", \"Inglewood\", \"Columbia\", \"Santa Monica\", \"Los Angeles\", \"San Bernardino\", \"Florence\", \"Oxnard\", \"Wilmington\", \"Gainesville\", \"Anderson\", \"Lawton\", \"Huntsville\", \"Little Rock\", \"Greenville\", \"Rock Hill\", \"Spartanburg\", \"Chattanooga\", \"Fayetteville\", \"Albuquerque\", \"Memphis\", \"Cleveland\", \"Norman\", \"Charlotte\", \"Asheville\", \"Greenville\", \"Santa Fe\", \"Raleigh\", \"Murfreesboro\", \"Chapel Hill\", \"Knoxville\", \"Durham\", \"Greensboro\", \"Winston Salem\", \"Tulsa\", \"Nashville\", \"Las Vegas\", \"Johnson City\", \"Salinas\", \"Fresno\", \"Portsmouth\", \"Norfolk\", \"Bowling Green\", \"Santa Cruz\", \"Hampton\", \"Newport News\", \"Springfield\", \"Roanoke\", \"Lynchburg\", \"Richmond\", \"Oakland\", \"Berkeley\", \"Richmond\", \"Evansville\", \"Charlottesville\", \"Lexington\", \"Vallejo\", \"Louisville\", \"Pueblo\", \"Fredericksburg\", \"Charleston\", \"Sacramento\", \"Saint Louis\", \"Saint Charles\", \"Florissant\", \"Arlington\", \"Washington\", \"Columbia\", \"Hyattsville\", \"Lawrence\", \"Annapolis\", \"Topeka\", \"Independence\", \"Laurel\", \"Kansas City\", \"Cincinnati\", \"Kansas City\", \"Bloomington\", \"Baltimore\", \"Hamilton\", \"Terre Haute\", \"Reno\", \"Hagerstown\", \"Newark\", \"Chico\", \"Denver\", \"Wilmington\", \"Dayton\", \"Indianapolis\", \"Springfield\", \"Springfield\", \"Philadelphia\", \"West Chester\", \"Columbus\", \"York\", \"Boulder\", \"Lancaster\", \"Muncie\", \"Trenton\", \"Provo\", \"Harrisburg\", \"Reading\", \"Lafayette\", \"Pittsburgh\", \"Fort Collins\", \"Allentown\", \"Bethlehem\", \"Elizabeth\", \"Peoria\", \"Newark\", \"Mansfield\", \"Salt Lake City\", \"Canton\", \"Paterson\", \"Fort Wayne\", \"Akron\", \"Youngstown\", \"Bridgeport\", \"Ogden\", \"Omaha\", \"New Haven\", \"Scranton\", \"Cleveland\", \"Davenport\", \"Waterbury\", \"Des Moines\", \"New Bedford\", \"Toledo\", \"South Bend\", \"Elkhart\", \"Hartford\", \"Providence\", \"Chicago\", \"Brockton\", \"Springfield\", \"Erie\", \"Ypsilanti\", \"Jackson\", \"Quincy\", \"Worcester\", \"Rockford\", \"Ann Arbor\", \"Kalamazoo\", \"Battle Creek\", \"Detroit\", \"Boston\", \"Cambridge\", \"Warren\", \"Lowell\", \"Albany\", \"Racine\", \"Lansing\", \"Schenectady\", \"Buffalo\", \"Grand Rapids\", \"Manchester\", \"Flint\", \"Milwaukee\", \"Syracuse\", \"Madison\", \"Rochester\", \"Muskegon\", \"Saginaw\", \"Sioux Falls\", \"Eugene\", \"Rapid City\", \"Appleton\", \"Green Bay\", \"Saint Paul\", \"Minneapolis\", \"Portland\", \"Duluth\", \"Missoula\", \"Fargo\", \"Olympia\", \"Tacoma\", \"Auburn\", \"Seattle\", \"Spokane\", \"Lynnwood\", \"Everett\", \"Bellingham\"], \"type\": \"scattergeo\"}],                        {\"geo\": {\"scope\": \"usa\"}, \"legend\": {\"orientation\": \"h\", \"x\": 1, \"xanchor\": \"right\", \"y\": 1.02, \"yanchor\": \"bottom\"}, \"showlegend\": true, \"template\": {\"data\": {\"bar\": [{\"error_x\": {\"color\": \"#2a3f5f\"}, \"error_y\": {\"color\": \"#2a3f5f\"}, \"marker\": {\"line\": {\"color\": \"#E5ECF6\", \"width\": 0.5}}, \"type\": \"bar\"}], \"barpolar\": [{\"marker\": {\"line\": {\"color\": \"#E5ECF6\", \"width\": 0.5}}, \"type\": \"barpolar\"}], \"carpet\": [{\"aaxis\": {\"endlinecolor\": \"#2a3f5f\", \"gridcolor\": \"white\", \"linecolor\": \"white\", \"minorgridcolor\": \"white\", \"startlinecolor\": \"#2a3f5f\"}, \"baxis\": {\"endlinecolor\": \"#2a3f5f\", \"gridcolor\": \"white\", \"linecolor\": \"white\", \"minorgridcolor\": \"white\", \"startlinecolor\": \"#2a3f5f\"}, \"type\": \"carpet\"}], \"choropleth\": [{\"colorbar\": {\"outlinewidth\": 0, \"ticks\": \"\"}, \"type\": \"choropleth\"}], \"contour\": [{\"colorbar\": {\"outlinewidth\": 0, \"ticks\": \"\"}, \"colorscale\": [[0.0, \"#0d0887\"], [0.1111111111111111, \"#46039f\"], [0.2222222222222222, \"#7201a8\"], [0.3333333333333333, \"#9c179e\"], [0.4444444444444444, \"#bd3786\"], [0.5555555555555556, \"#d8576b\"], [0.6666666666666666, \"#ed7953\"], [0.7777777777777778, \"#fb9f3a\"], [0.8888888888888888, \"#fdca26\"], [1.0, \"#f0f921\"]], \"type\": \"contour\"}], \"contourcarpet\": [{\"colorbar\": {\"outlinewidth\": 0, \"ticks\": \"\"}, \"type\": \"contourcarpet\"}], \"heatmap\": [{\"colorbar\": {\"outlinewidth\": 0, \"ticks\": \"\"}, \"colorscale\": [[0.0, \"#0d0887\"], [0.1111111111111111, \"#46039f\"], [0.2222222222222222, \"#7201a8\"], [0.3333333333333333, \"#9c179e\"], [0.4444444444444444, \"#bd3786\"], [0.5555555555555556, \"#d8576b\"], [0.6666666666666666, \"#ed7953\"], [0.7777777777777778, \"#fb9f3a\"], [0.8888888888888888, \"#fdca26\"], [1.0, \"#f0f921\"]], \"type\": \"heatmap\"}], \"heatmapgl\": [{\"colorbar\": {\"outlinewidth\": 0, \"ticks\": \"\"}, \"colorscale\": [[0.0, \"#0d0887\"], [0.1111111111111111, \"#46039f\"], [0.2222222222222222, \"#7201a8\"], [0.3333333333333333, \"#9c179e\"], [0.4444444444444444, \"#bd3786\"], [0.5555555555555556, \"#d8576b\"], [0.6666666666666666, \"#ed7953\"], [0.7777777777777778, \"#fb9f3a\"], [0.8888888888888888, \"#fdca26\"], [1.0, \"#f0f921\"]], \"type\": \"heatmapgl\"}], \"histogram\": [{\"marker\": {\"colorbar\": {\"outlinewidth\": 0, \"ticks\": \"\"}}, \"type\": \"histogram\"}], \"histogram2d\": [{\"colorbar\": {\"outlinewidth\": 0, \"ticks\": \"\"}, \"colorscale\": [[0.0, \"#0d0887\"], [0.1111111111111111, \"#46039f\"], [0.2222222222222222, \"#7201a8\"], [0.3333333333333333, \"#9c179e\"], [0.4444444444444444, \"#bd3786\"], [0.5555555555555556, \"#d8576b\"], [0.6666666666666666, \"#ed7953\"], [0.7777777777777778, \"#fb9f3a\"], [0.8888888888888888, \"#fdca26\"], [1.0, \"#f0f921\"]], \"type\": \"histogram2d\"}], \"histogram2dcontour\": [{\"colorbar\": {\"outlinewidth\": 0, \"ticks\": \"\"}, \"colorscale\": [[0.0, \"#0d0887\"], [0.1111111111111111, \"#46039f\"], [0.2222222222222222, \"#7201a8\"], [0.3333333333333333, \"#9c179e\"], [0.4444444444444444, \"#bd3786\"], [0.5555555555555556, \"#d8576b\"], [0.6666666666666666, \"#ed7953\"], [0.7777777777777778, \"#fb9f3a\"], [0.8888888888888888, \"#fdca26\"], [1.0, \"#f0f921\"]], \"type\": \"histogram2dcontour\"}], \"mesh3d\": [{\"colorbar\": {\"outlinewidth\": 0, \"ticks\": \"\"}, \"type\": \"mesh3d\"}], \"parcoords\": [{\"line\": {\"colorbar\": {\"outlinewidth\": 0, \"ticks\": \"\"}}, \"type\": \"parcoords\"}], \"pie\": [{\"automargin\": true, \"type\": \"pie\"}], \"scatter\": [{\"marker\": {\"colorbar\": {\"outlinewidth\": 0, \"ticks\": \"\"}}, \"type\": \"scatter\"}], \"scatter3d\": [{\"line\": {\"colorbar\": {\"outlinewidth\": 0, \"ticks\": \"\"}}, \"marker\": {\"colorbar\": {\"outlinewidth\": 0, \"ticks\": \"\"}}, \"type\": \"scatter3d\"}], \"scattercarpet\": [{\"marker\": {\"colorbar\": {\"outlinewidth\": 0, \"ticks\": \"\"}}, \"type\": \"scattercarpet\"}], \"scattergeo\": [{\"marker\": {\"colorbar\": {\"outlinewidth\": 0, \"ticks\": \"\"}}, \"type\": \"scattergeo\"}], \"scattergl\": [{\"marker\": {\"colorbar\": {\"outlinewidth\": 0, \"ticks\": \"\"}}, \"type\": \"scattergl\"}], \"scattermapbox\": [{\"marker\": {\"colorbar\": {\"outlinewidth\": 0, \"ticks\": \"\"}}, \"type\": \"scattermapbox\"}], \"scatterpolar\": [{\"marker\": {\"colorbar\": {\"outlinewidth\": 0, \"ticks\": \"\"}}, \"type\": \"scatterpolar\"}], \"scatterpolargl\": [{\"marker\": {\"colorbar\": {\"outlinewidth\": 0, \"ticks\": \"\"}}, \"type\": \"scatterpolargl\"}], \"scatterternary\": [{\"marker\": {\"colorbar\": {\"outlinewidth\": 0, \"ticks\": \"\"}}, \"type\": \"scatterternary\"}], \"surface\": [{\"colorbar\": {\"outlinewidth\": 0, \"ticks\": \"\"}, \"colorscale\": [[0.0, \"#0d0887\"], [0.1111111111111111, \"#46039f\"], [0.2222222222222222, \"#7201a8\"], [0.3333333333333333, \"#9c179e\"], [0.4444444444444444, \"#bd3786\"], [0.5555555555555556, \"#d8576b\"], [0.6666666666666666, \"#ed7953\"], [0.7777777777777778, \"#fb9f3a\"], [0.8888888888888888, \"#fdca26\"], [1.0, \"#f0f921\"]], \"type\": \"surface\"}], \"table\": [{\"cells\": {\"fill\": {\"color\": \"#EBF0F8\"}, \"line\": {\"color\": \"white\"}}, \"header\": {\"fill\": {\"color\": \"#C8D4E3\"}, \"line\": {\"color\": \"white\"}}, \"type\": \"table\"}]}, \"layout\": {\"annotationdefaults\": {\"arrowcolor\": \"#2a3f5f\", \"arrowhead\": 0, \"arrowwidth\": 1}, \"coloraxis\": {\"colorbar\": {\"outlinewidth\": 0, \"ticks\": \"\"}}, \"colorscale\": {\"diverging\": [[0, \"#8e0152\"], [0.1, \"#c51b7d\"], [0.2, \"#de77ae\"], [0.3, \"#f1b6da\"], [0.4, \"#fde0ef\"], [0.5, \"#f7f7f7\"], [0.6, \"#e6f5d0\"], [0.7, \"#b8e186\"], [0.8, \"#7fbc41\"], [0.9, \"#4d9221\"], [1, \"#276419\"]], \"sequential\": [[0.0, \"#0d0887\"], [0.1111111111111111, \"#46039f\"], [0.2222222222222222, \"#7201a8\"], [0.3333333333333333, \"#9c179e\"], [0.4444444444444444, \"#bd3786\"], [0.5555555555555556, \"#d8576b\"], [0.6666666666666666, \"#ed7953\"], [0.7777777777777778, \"#fb9f3a\"], [0.8888888888888888, \"#fdca26\"], [1.0, \"#f0f921\"]], \"sequentialminus\": [[0.0, \"#0d0887\"], [0.1111111111111111, \"#46039f\"], [0.2222222222222222, \"#7201a8\"], [0.3333333333333333, \"#9c179e\"], [0.4444444444444444, \"#bd3786\"], [0.5555555555555556, \"#d8576b\"], [0.6666666666666666, \"#ed7953\"], [0.7777777777777778, \"#fb9f3a\"], [0.8888888888888888, \"#fdca26\"], [1.0, \"#f0f921\"]]}, \"colorway\": [\"#636efa\", \"#EF553B\", \"#00cc96\", \"#ab63fa\", \"#FFA15A\", \"#19d3f3\", \"#FF6692\", \"#B6E880\", \"#FF97FF\", \"#FECB52\"], \"font\": {\"color\": \"#2a3f5f\"}, \"geo\": {\"bgcolor\": \"white\", \"lakecolor\": \"white\", \"landcolor\": \"#E5ECF6\", \"showlakes\": true, \"showland\": true, \"subunitcolor\": \"white\"}, \"hoverlabel\": {\"align\": \"left\"}, \"hovermode\": \"closest\", \"mapbox\": {\"style\": \"light\"}, \"paper_bgcolor\": \"white\", \"plot_bgcolor\": \"#E5ECF6\", \"polar\": {\"angularaxis\": {\"gridcolor\": \"white\", \"linecolor\": \"white\", \"ticks\": \"\"}, \"bgcolor\": \"#E5ECF6\", \"radialaxis\": {\"gridcolor\": \"white\", \"linecolor\": \"white\", \"ticks\": \"\"}}, \"scene\": {\"xaxis\": {\"backgroundcolor\": \"#E5ECF6\", \"gridcolor\": \"white\", \"gridwidth\": 2, \"linecolor\": \"white\", \"showbackground\": true, \"ticks\": \"\", \"zerolinecolor\": \"white\"}, \"yaxis\": {\"backgroundcolor\": \"#E5ECF6\", \"gridcolor\": \"white\", \"gridwidth\": 2, \"linecolor\": \"white\", \"showbackground\": true, \"ticks\": \"\", \"zerolinecolor\": \"white\"}, \"zaxis\": {\"backgroundcolor\": \"#E5ECF6\", \"gridcolor\": \"white\", \"gridwidth\": 2, \"linecolor\": \"white\", \"showbackground\": true, \"ticks\": \"\", \"zerolinecolor\": \"white\"}}, \"shapedefaults\": {\"line\": {\"color\": \"#2a3f5f\"}}, \"ternary\": {\"aaxis\": {\"gridcolor\": \"white\", \"linecolor\": \"white\", \"ticks\": \"\"}, \"baxis\": {\"gridcolor\": \"white\", \"linecolor\": \"white\", \"ticks\": \"\"}, \"bgcolor\": \"#E5ECF6\", \"caxis\": {\"gridcolor\": \"white\", \"linecolor\": \"white\", \"ticks\": \"\"}}, \"title\": {\"x\": 0.05}, \"xaxis\": {\"automargin\": true, \"gridcolor\": \"white\", \"linecolor\": \"white\", \"ticks\": \"\", \"title\": {\"standoff\": 15}, \"zerolinecolor\": \"white\", \"zerolinewidth\": 2}, \"yaxis\": {\"automargin\": true, \"gridcolor\": \"white\", \"linecolor\": \"white\", \"ticks\": \"\", \"title\": {\"standoff\": 15}, \"zerolinecolor\": \"white\", \"zerolinewidth\": 2}}}, \"title\": {\"text\": \"K-Means Clustering to find great areas for singles\"}},                        {\"responsive\": true}                    ).then(function(){\n",
       "                            \n",
       "var gd = document.getElementById('f1186751-d3ba-4b36-9165-af3dfeb2f21c');\n",
       "var x = new MutationObserver(function (mutations, observer) {{\n",
       "        var display = window.getComputedStyle(gd).display;\n",
       "        if (!display || display === 'none') {{\n",
       "            console.log([gd, 'removed!']);\n",
       "            Plotly.purge(gd);\n",
       "            observer.disconnect();\n",
       "        }}\n",
       "}});\n",
       "\n",
       "// Listen for the removal of the full notebook cells\n",
       "var notebookContainer = gd.closest('#notebook-container');\n",
       "if (notebookContainer) {{\n",
       "    x.observe(notebookContainer, {childList: true});\n",
       "}}\n",
       "\n",
       "// Listen for the clearing of the current output cell\n",
       "var outputEl = gd.closest('.output');\n",
       "if (outputEl) {{\n",
       "    x.observe(outputEl, {childList: true});\n",
       "}}\n",
       "\n",
       "                        })                };                });            </script>        </div>"
      ]
     },
     "metadata": {},
     "output_type": "display_data"
    }
   ],
   "source": [
    "import plotly.express as px\n",
    "import plotly.graph_objects as go\n",
    "\n",
    "singles_df = data_df[data_df[\"group\"] == 1]\n",
    "\n",
    "\n",
    "fig = go.Figure(data=go.Scattergeo(\n",
    "        lon = singles_df['lon'],\n",
    "        lat = singles_df['lat'],\n",
    "        text = singles_df['city'],\n",
    "        name=\"Cities great for singles\"\n",
    "        ))\n",
    "\n",
    "\n",
    "# fig = px.scatter(data_df, x=\"lon\", y=\"lat\", color=\"pizzaRatingAvg\")\n",
    "\n",
    "fig.update_layout(\n",
    "        title = \"K-Means Clustering to find great areas for singles\",\n",
    "        geo_scope='usa',\n",
    "        showlegend=True,\n",
    "    legend=dict(\n",
    "    orientation=\"h\",\n",
    "    yanchor=\"bottom\",\n",
    "    y=1.02,\n",
    "    xanchor=\"right\",\n",
    "    x=1\n",
    ")\n",
    "    )\n",
    "fig.show()"
   ]
  },
  {
   "cell_type": "code",
   "execution_count": 39,
   "metadata": {},
   "outputs": [
    {
     "data": {
      "image/png": "[encoded data removed]",
      "text/plain": [
       "<Figure size 1080x864 with 25 Axes>"
      ]
     },
     "metadata": {
      "needs_background": "light"
     },
     "output_type": "display_data"
    }
   ],
   "source": [
    "x = data_df.hist(bins=7, figsize=(15,12))"
   ]
  },
  {
   "cell_type": "code",
   "execution_count": 40,
   "metadata": {},
   "outputs": [
    {
     "data": {
      "image/png": "[encoded data removed]",
      "text/plain": [
       "<Figure size 1080x864 with 25 Axes>"
      ]
     },
     "metadata": {
      "needs_background": "light"
     },
     "output_type": "display_data"
    }
   ],
   "source": [
    "x = data_df[data_df[\"group\"] == 0].hist(bins=7, figsize=(15,12))"
   ]
  },
  {
   "cell_type": "code",
   "execution_count": 41,
   "metadata": {},
   "outputs": [
    {
     "data": {
      "image/png": "[encoded data removed]",
      "text/plain": [
       "<Figure size 1080x864 with 25 Axes>"
      ]
     },
     "metadata": {
      "needs_background": "light"
     },
     "output_type": "display_data"
    }
   ],
   "source": [
    "x = data_df[data_df[\"group\"] == 1].hist(bins=5, figsize=(15,12))"
   ]
  },
  {
   "cell_type": "code",
   "execution_count": 66,
   "metadata": {},
   "outputs": [
    {
     "data": {
      "image/png": "[encoded data removed]",
      "text/plain": [
       "<Figure size 1080x864 with 25 Axes>"
      ]
     },
     "metadata": {
      "needs_background": "light"
     },
     "output_type": "display_data"
    }
   ],
   "source": [
    "x = data_df[data_df[\"group\"] == 2].hist(bins=5, figsize=(15,12))"
   ]
  }
 ],
 "metadata": {
  "kernelspec": {
   "display_name": "Python 3",
   "language": "python",
   "name": "python3"
  },
  "language_info": {
   "codemirror_mode": {
    "name": "ipython",
    "version": 3
   },
   "file_extension": ".py",
   "mimetype": "text/x-python",
   "name": "python",
   "nbconvert_exporter": "python",
   "pygments_lexer": "ipython3",
   "version": "3.7.9"
  }
 },
 "nbformat": 4,
 "nbformat_minor": 4
}
